{
 "cells": [
  {
   "cell_type": "markdown",
   "metadata": {},
   "source": [
    "## Descriptive Stats"
   ]
  },
  {
   "cell_type": "markdown",
   "metadata": {},
   "source": [
    "### 1. Mean, median, mode are measures of central tendency\n"
   ]
  },
  {
   "cell_type": "markdown",
   "metadata": {},
   "source": [
    "Mean -most repersentative memember of the bunch"
   ]
  },
  {
   "cell_type": "markdown",
   "metadata": {},
   "source": [
    "Median - Center value\n"
   ]
  },
  {
   "cell_type": "code",
   "execution_count": 8,
   "metadata": {},
   "outputs": [
    {
     "name": "stdout",
     "output_type": "stream",
     "text": [
      "[1] 22\n",
      "[1] 8\n",
      "[1] \"numeric\"\n"
     ]
    }
   ],
   "source": [
    "n = c (6,6,8,10,80)\n",
    "print (mean(n))\n",
    "print (median(n))\n",
    "print (mode(n))"
   ]
  },
  {
   "cell_type": "markdown",
   "metadata": {},
   "source": [
    "Mode - most repetivite value"
   ]
  },
  {
   "cell_type": "markdown",
   "metadata": {},
   "source": [
    "### In case of doubt always go with MEDIAN"
   ]
  },
  {
   "cell_type": "markdown",
   "metadata": {},
   "source": [
    "### 2. Q1 (25th) and Q2 (75th)"
   ]
  },
  {
   "cell_type": "code",
   "execution_count": 9,
   "metadata": {},
   "outputs": [
    {
     "name": "stdout",
     "output_type": "stream",
     "text": [
      "  0%  25%  50%  75% 100% \n",
      "   6    6    8   10   80 \n"
     ]
    }
   ],
   "source": [
    "print (quantile(n))"
   ]
  },
  {
   "cell_type": "markdown",
   "metadata": {},
   "source": [
    "### 3. Measures of spread"
   ]
  },
  {
   "cell_type": "code",
   "execution_count": 2,
   "metadata": {
    "collapsed": true
   },
   "outputs": [],
   "source": [
    "x = c(10,20,30,40,50)\n",
    "y=c(28,29,30,31,32)\n"
   ]
  },
  {
   "cell_type": "markdown",
   "metadata": {},
   "source": [
    "#### Note both x, y has same median and mean hence use measures of spread "
   ]
  },
  {
   "cell_type": "markdown",
   "metadata": {},
   "source": [
    "### Measures of spread - Variance, Standard deviation, IQR, Range"
   ]
  },
  {
   "cell_type": "markdown",
   "metadata": {},
   "source": [
    "Example for X: \n",
    "Deviation - 28-30,29-30,30-30,31-30,32-30 = 0/5\n",
    "Variance - (-2^2,-1^2,0^2,1^2,2^2)/5 = 10/5 = 2\n",
    "SD = Square root of variance = 1.44\n",
    "\n",
    "This means X deviates on an average by 1.44!"
   ]
  },
  {
   "cell_type": "code",
   "execution_count": 4,
   "metadata": {},
   "outputs": [
    {
     "name": "stdout",
     "output_type": "stream",
     "text": [
      "[1] 250\n",
      "[1] 2.5\n"
     ]
    }
   ],
   "source": [
    "print (var(x))\n",
    "print (var(y))"
   ]
  },
  {
   "cell_type": "code",
   "execution_count": 3,
   "metadata": {},
   "outputs": [
    {
     "name": "stdout",
     "output_type": "stream",
     "text": [
      "[1] 15.81139\n",
      "[1] 1.581139\n"
     ]
    }
   ],
   "source": [
    "print (sd(x))\n",
    "print (sd(y)) # More consistent"
   ]
  },
  {
   "cell_type": "code",
   "execution_count": 6,
   "metadata": {},
   "outputs": [
    {
     "name": "stdout",
     "output_type": "stream",
     "text": [
      "[1] 1 1 1 1 1\n"
     ]
    }
   ],
   "source": [
    "print (pnorm(y))"
   ]
  },
  {
   "cell_type": "markdown",
   "metadata": {},
   "source": [
    "#### Lesser SD means more consistent"
   ]
  },
  {
   "cell_type": "code",
   "execution_count": 15,
   "metadata": {},
   "outputs": [
    {
     "ename": "ERROR",
     "evalue": "Error in print(iqr(x)): could not find function \"iqr\"\n",
     "output_type": "error",
     "traceback": [
      "Error in print(iqr(x)): could not find function \"iqr\"\nTraceback:\n",
      "1. print(iqr(x))"
     ]
    }
   ],
   "source": [
    "print (iqr(x))"
   ]
  },
  {
   "cell_type": "markdown",
   "metadata": {},
   "source": [
    "IQR of X is 40-20 = 20\n",
    "IQR of Y is 31-29 = 2\n",
    "\n",
    "Range of X is 50-10 =40\n",
    "Range of Y is 32-28 = 4"
   ]
  },
  {
   "cell_type": "markdown",
   "metadata": {},
   "source": [
    "### Distribution"
   ]
  },
  {
   "cell_type": "markdown",
   "metadata": {},
   "source": [
    "Normal distribution/Gausian distribution/Bell curve\n",
    "## For Normal distribution both mean and median are same\n"
   ]
  },
  {
   "cell_type": "markdown",
   "metadata": {},
   "source": [
    "For Right skewed - Mean > Median, mean to right side of median (ex: Salary in organization)\n",
    "Lef skewed - Median > Mean (ex: exam score)"
   ]
  },
  {
   "cell_type": "code",
   "execution_count": null,
   "metadata": {
    "collapsed": true
   },
   "outputs": [],
   "source": [
    "Properties of Normal distribution\n",
    "1. Mean and median are same\n",
    "2. 68% = mean+sd (34%) and mean - sd -> 1 standard deviation\n",
    "2. 95% = mean + 2 * sd and mean - 2*sd -> 2 standard deviation\n",
    "3. 99.7% = mean + 3 *sd and mean - 3*sd -> 3 standard devication\n"
   ]
  },
  {
   "cell_type": "markdown",
   "metadata": {},
   "source": [
    "Standard normal distribution/Standard normal values/Z scores\n",
    "\n",
    "Z = (Xi - mean)/SD [Example: Select students from different boards for admission to college - for this check Z scores)\n"
   ]
  },
  {
   "cell_type": "markdown",
   "metadata": {},
   "source": [
    "Normally,\n",
    "- Use median for inferences.\n",
    "- Use mean for calculations.\n",
    "    "
   ]
  },
  {
   "cell_type": "markdown",
   "metadata": {},
   "source": [
    "Normal distribution\n",
    "- Simple random sampling\n",
    "- Systematic sampling (ex: used in ecommerce) \n",
    "- Stratified sampling - fixing a propotion of sample size\n",
    "\n",
    "1. 1 degree of freedom (if sample size is n then degree of freedom in n-1)ss\n",
    "2. constrainted"
   ]
  },
  {
   "cell_type": "markdown",
   "metadata": {},
   "source": [
    "### Inferential Stats\n",
    "\n",
    "#### Hypothesis testing:\n",
    "- Null hypothesis: Default decision ( a person is innocent)\n",
    "- Alternative hypothesis: Overriding descision (a person is criminal)\n",
    "\n",
    "- Type 1 error: Wrongly accepting alternate hypothesis (ex: punshing a innocent) which is alpha (= 1 - confidence level). High risk.\n",
    "- Type 2 error: Wrongly accepting null hypothesis\n",
    "\n",
    "- Type 2 error is result of controlling Type 1 error.\n"
   ]
  },
  {
   "cell_type": "markdown",
   "metadata": {
    "collapsed": true
   },
   "source": [
    "### T - test # Hypothesis testing\n",
    "- One tailed T-test\n",
    "- Two tailed T-test\n",
    "\n",
    "- One sample T-test\n",
    "- Two sample T-test\n",
    "\n",
    "Two tailed - when rejection criteria is on both sides. (ex:minimum strength and maximum strength)"
   ]
  },
  {
   "cell_type": "markdown",
   "metadata": {},
   "source": [
    "One Sample formula = t\n",
    "\n",
    "- If t critical values < t values then alternative hypothesis is accepted\n",
    "- if P value = probabllity o fmeeting type  1 error"
   ]
  },
  {
   "cell_type": "code",
   "execution_count": null,
   "metadata": {
    "collapsed": true
   },
   "outputs": [],
   "source": [
    "Two Sample formula"
   ]
  },
  {
   "cell_type": "code",
   "execution_count": null,
   "metadata": {
    "collapsed": true
   },
   "outputs": [],
   "source": []
  },
  {
   "cell_type": "code",
   "execution_count": null,
   "metadata": {
    "collapsed": true
   },
   "outputs": [],
   "source": []
  },
  {
   "cell_type": "code",
   "execution_count": null,
   "metadata": {
    "collapsed": true
   },
   "outputs": [],
   "source": []
  },
  {
   "cell_type": "code",
   "execution_count": null,
   "metadata": {
    "collapsed": true
   },
   "outputs": [],
   "source": []
  },
  {
   "cell_type": "code",
   "execution_count": null,
   "metadata": {
    "collapsed": true
   },
   "outputs": [],
   "source": []
  }
 ],
 "metadata": {
  "kernelspec": {
   "display_name": "R",
   "language": "R",
   "name": "ir"
  },
  "language_info": {
   "codemirror_mode": "r",
   "file_extension": ".r",
   "mimetype": "text/x-r-source",
   "name": "R",
   "pygments_lexer": "r",
   "version": "3.3.2"
  }
 },
 "nbformat": 4,
 "nbformat_minor": 2
}
