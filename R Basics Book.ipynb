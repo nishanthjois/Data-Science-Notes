{
 "cells": [
  {
   "cell_type": "code",
   "execution_count": 1,
   "metadata": {
    "collapsed": true
   },
   "outputs": [],
   "source": [
    "sympotms <- factor(c(\"SEVERE\", \"MILD\",\"MODERATE\"),levels=c(\"MILD\",\"MODERATE\",\"SEVERE\"),ordered=TRUE)"
   ]
  },
  {
   "cell_type": "code",
   "execution_count": 2,
   "metadata": {},
   "outputs": [
    {
     "data": {
      "text/html": [
       "<ol class=list-inline>\n",
       "\t<li>SEVERE</li>\n",
       "\t<li>MILD</li>\n",
       "\t<li>MODERATE</li>\n",
       "</ol>\n"
      ],
      "text/latex": [
       "\\begin{enumerate*}\n",
       "\\item SEVERE\n",
       "\\item MILD\n",
       "\\item MODERATE\n",
       "\\end{enumerate*}\n"
      ],
      "text/markdown": [
       "1. SEVERE\n",
       "2. MILD\n",
       "3. MODERATE\n",
       "\n",
       "\n"
      ],
      "text/plain": [
       "[1] SEVERE   MILD     MODERATE\n",
       "Levels: MILD < MODERATE < SEVERE"
      ]
     },
     "metadata": {},
     "output_type": "display_data"
    }
   ],
   "source": [
    "sympotms"
   ]
  },
  {
   "cell_type": "code",
   "execution_count": 3,
   "metadata": {},
   "outputs": [
    {
     "data": {
      "text/html": [
       "<ol class=list-inline>\n",
       "\t<li>TRUE</li>\n",
       "\t<li>FALSE</li>\n",
       "\t<li>TRUE</li>\n",
       "</ol>\n"
      ],
      "text/latex": [
       "\\begin{enumerate*}\n",
       "\\item TRUE\n",
       "\\item FALSE\n",
       "\\item TRUE\n",
       "\\end{enumerate*}\n"
      ],
      "text/markdown": [
       "1. TRUE\n",
       "2. FALSE\n",
       "3. TRUE\n",
       "\n",
       "\n"
      ],
      "text/plain": [
       "[1]  TRUE FALSE  TRUE"
      ]
     },
     "metadata": {},
     "output_type": "display_data"
    }
   ],
   "source": [
    "sympotms > \"MILD\""
   ]
  },
  {
   "cell_type": "code",
   "execution_count": 4,
   "metadata": {
    "collapsed": true
   },
   "outputs": [],
   "source": [
    "subject_name <- c(\"Ram\", \"Rahima\", \"Rojer\")\n",
    "temp <- c(98.1,98.3,99.0)\n",
    "flu <-c(FALSE, FALSE, TRUE)\n",
    "gender <-factor(c(\"MALE\",\"FEMALE\",\"MALE\"))\n",
    "blood <- factor(c(\"O\", \"AB\", \"A\"),levels = c(\"A\", \"B\", \"AB\", \"O\"))"
   ]
  },
  {
   "cell_type": "code",
   "execution_count": 5,
   "metadata": {
    "collapsed": true
   },
   "outputs": [],
   "source": [
    "pt_data <- data.frame(subject_name,temp,flu,gender,blood,stringsAsFactors = FALSE)"
   ]
  },
  {
   "cell_type": "code",
   "execution_count": 6,
   "metadata": {},
   "outputs": [
    {
     "data": {
      "text/html": [
       "<table>\n",
       "<thead><tr><th scope=col>subject_name</th><th scope=col>temp</th><th scope=col>flu</th><th scope=col>gender</th><th scope=col>blood</th></tr></thead>\n",
       "<tbody>\n",
       "\t<tr><td>Ram   </td><td>98.1  </td><td>FALSE </td><td>MALE  </td><td>O     </td></tr>\n",
       "\t<tr><td>Rahima</td><td>98.3  </td><td>FALSE </td><td>FEMALE</td><td>AB    </td></tr>\n",
       "\t<tr><td>Rojer </td><td>99.0  </td><td> TRUE </td><td>MALE  </td><td>A     </td></tr>\n",
       "</tbody>\n",
       "</table>\n"
      ],
      "text/latex": [
       "\\begin{tabular}{r|lllll}\n",
       " subject\\_name & temp & flu & gender & blood\\\\\n",
       "\\hline\n",
       "\t Ram    & 98.1   & FALSE  & MALE   & O     \\\\\n",
       "\t Rahima & 98.3   & FALSE  & FEMALE & AB    \\\\\n",
       "\t Rojer  & 99.0   &  TRUE  & MALE   & A     \\\\\n",
       "\\end{tabular}\n"
      ],
      "text/markdown": [
       "\n",
       "subject_name | temp | flu | gender | blood | \n",
       "|---|---|---|\n",
       "| Ram    | 98.1   | FALSE  | MALE   | O      | \n",
       "| Rahima | 98.3   | FALSE  | FEMALE | AB     | \n",
       "| Rojer  | 99.0   |  TRUE  | MALE   | A      | \n",
       "\n",
       "\n"
      ],
      "text/plain": [
       "  subject_name temp flu   gender blood\n",
       "1 Ram          98.1 FALSE MALE   O    \n",
       "2 Rahima       98.3 FALSE FEMALE AB   \n",
       "3 Rojer        99.0  TRUE MALE   A    "
      ]
     },
     "metadata": {},
     "output_type": "display_data"
    }
   ],
   "source": [
    "pt_data"
   ]
  },
  {
   "cell_type": "code",
   "execution_count": 7,
   "metadata": {},
   "outputs": [
    {
     "data": {
      "text/html": [
       "<ol class=list-inline>\n",
       "\t<li>'Ram'</li>\n",
       "\t<li>'Rahima'</li>\n",
       "\t<li>'Rojer'</li>\n",
       "</ol>\n"
      ],
      "text/latex": [
       "\\begin{enumerate*}\n",
       "\\item 'Ram'\n",
       "\\item 'Rahima'\n",
       "\\item 'Rojer'\n",
       "\\end{enumerate*}\n"
      ],
      "text/markdown": [
       "1. 'Ram'\n",
       "2. 'Rahima'\n",
       "3. 'Rojer'\n",
       "\n",
       "\n"
      ],
      "text/plain": [
       "[1] \"Ram\"    \"Rahima\" \"Rojer\" "
      ]
     },
     "metadata": {},
     "output_type": "display_data"
    }
   ],
   "source": [
    "pt_data$subject_name"
   ]
  },
  {
   "cell_type": "code",
   "execution_count": 8,
   "metadata": {},
   "outputs": [
    {
     "data": {
      "text/html": [
       "<table>\n",
       "<thead><tr><th scope=col>subject_name</th><th scope=col>temp</th></tr></thead>\n",
       "<tbody>\n",
       "\t<tr><td>Ram   </td><td>98.1  </td></tr>\n",
       "\t<tr><td>Rahima</td><td>98.3  </td></tr>\n",
       "\t<tr><td>Rojer </td><td>99.0  </td></tr>\n",
       "</tbody>\n",
       "</table>\n"
      ],
      "text/latex": [
       "\\begin{tabular}{r|ll}\n",
       " subject\\_name & temp\\\\\n",
       "\\hline\n",
       "\t Ram    & 98.1  \\\\\n",
       "\t Rahima & 98.3  \\\\\n",
       "\t Rojer  & 99.0  \\\\\n",
       "\\end{tabular}\n"
      ],
      "text/markdown": [
       "\n",
       "subject_name | temp | \n",
       "|---|---|---|\n",
       "| Ram    | 98.1   | \n",
       "| Rahima | 98.3   | \n",
       "| Rojer  | 99.0   | \n",
       "\n",
       "\n"
      ],
      "text/plain": [
       "  subject_name temp\n",
       "1 Ram          98.1\n",
       "2 Rahima       98.3\n",
       "3 Rojer        99.0"
      ]
     },
     "metadata": {},
     "output_type": "display_data"
    }
   ],
   "source": [
    "pt_data[c(\"subject_name\",\"temp\")]"
   ]
  },
  {
   "cell_type": "code",
   "execution_count": 9,
   "metadata": {},
   "outputs": [
    {
     "data": {
      "text/html": [
       "FALSE"
      ],
      "text/latex": [
       "FALSE"
      ],
      "text/markdown": [
       "FALSE"
      ],
      "text/plain": [
       "[1] FALSE"
      ]
     },
     "metadata": {},
     "output_type": "display_data"
    }
   ],
   "source": [
    "pt_data[1,3]"
   ]
  },
  {
   "cell_type": "code",
   "execution_count": 10,
   "metadata": {},
   "outputs": [
    {
     "data": {
      "text/html": [
       "<table>\n",
       "<thead><tr><th></th><th scope=col>temp</th><th scope=col>gender</th></tr></thead>\n",
       "<tbody>\n",
       "\t<tr><th scope=row>1</th><td>98.1</td><td>MALE</td></tr>\n",
       "\t<tr><th scope=row>3</th><td>99.0</td><td>MALE</td></tr>\n",
       "</tbody>\n",
       "</table>\n"
      ],
      "text/latex": [
       "\\begin{tabular}{r|ll}\n",
       "  & temp & gender\\\\\n",
       "\\hline\n",
       "\t1 & 98.1 & MALE\\\\\n",
       "\t3 & 99.0 & MALE\\\\\n",
       "\\end{tabular}\n"
      ],
      "text/markdown": [
       "\n",
       "| <!--/--> | temp | gender | \n",
       "|---|---|\n",
       "| 1 | 98.1 | MALE | \n",
       "| 3 | 99.0 | MALE | \n",
       "\n",
       "\n"
      ],
      "text/plain": [
       "  temp gender\n",
       "1 98.1 MALE  \n",
       "3 99.0 MALE  "
      ]
     },
     "metadata": {},
     "output_type": "display_data"
    }
   ],
   "source": [
    "pt_data[c(1, 3), c(2, 4)]"
   ]
  },
  {
   "cell_type": "code",
   "execution_count": 11,
   "metadata": {},
   "outputs": [
    {
     "data": {
      "text/html": [
       "<table>\n",
       "<thead><tr><th scope=col>subject_name</th><th scope=col>temp</th><th scope=col>flu</th><th scope=col>gender</th><th scope=col>blood</th></tr></thead>\n",
       "<tbody>\n",
       "\t<tr><td>Ram  </td><td>98.1 </td><td>FALSE</td><td>MALE </td><td>O    </td></tr>\n",
       "</tbody>\n",
       "</table>\n"
      ],
      "text/latex": [
       "\\begin{tabular}{r|lllll}\n",
       " subject\\_name & temp & flu & gender & blood\\\\\n",
       "\\hline\n",
       "\t Ram   & 98.1  & FALSE & MALE  & O    \\\\\n",
       "\\end{tabular}\n"
      ],
      "text/markdown": [
       "\n",
       "subject_name | temp | flu | gender | blood | \n",
       "|---|\n",
       "| Ram   | 98.1  | FALSE | MALE  | O     | \n",
       "\n",
       "\n"
      ],
      "text/plain": [
       "  subject_name temp flu   gender blood\n",
       "1 Ram          98.1 FALSE MALE   O    "
      ]
     },
     "metadata": {},
     "output_type": "display_data"
    }
   ],
   "source": [
    "pt_data[1,]"
   ]
  },
  {
   "cell_type": "code",
   "execution_count": 12,
   "metadata": {
    "collapsed": true
   },
   "outputs": [],
   "source": [
    "save(pt_data,file=\"sampleframe.RDATA\")"
   ]
  },
  {
   "cell_type": "code",
   "execution_count": 13,
   "metadata": {},
   "outputs": [
    {
     "data": {
      "text/html": [
       "'pt_data'"
      ],
      "text/latex": [
       "'pt\\_data'"
      ],
      "text/markdown": [
       "'pt_data'"
      ],
      "text/plain": [
       "[1] \"pt_data\""
      ]
     },
     "metadata": {},
     "output_type": "display_data"
    }
   ],
   "source": [
    "r= load(\"sampleframe.RDATA\")\n",
    "r"
   ]
  },
  {
   "cell_type": "code",
   "execution_count": 14,
   "metadata": {
    "collapsed": true
   },
   "outputs": [],
   "source": [
    "save.image()"
   ]
  },
  {
   "cell_type": "code",
   "execution_count": 15,
   "metadata": {},
   "outputs": [
    {
     "data": {
      "text/html": [
       "<ol class=list-inline>\n",
       "\t<li>'blood'</li>\n",
       "\t<li>'flu'</li>\n",
       "\t<li>'gender'</li>\n",
       "\t<li>'pt_data'</li>\n",
       "\t<li>'r'</li>\n",
       "\t<li>'subject_name'</li>\n",
       "\t<li>'sympotms'</li>\n",
       "\t<li>'temp'</li>\n",
       "</ol>\n"
      ],
      "text/latex": [
       "\\begin{enumerate*}\n",
       "\\item 'blood'\n",
       "\\item 'flu'\n",
       "\\item 'gender'\n",
       "\\item 'pt\\_data'\n",
       "\\item 'r'\n",
       "\\item 'subject\\_name'\n",
       "\\item 'sympotms'\n",
       "\\item 'temp'\n",
       "\\end{enumerate*}\n"
      ],
      "text/markdown": [
       "1. 'blood'\n",
       "2. 'flu'\n",
       "3. 'gender'\n",
       "4. 'pt_data'\n",
       "5. 'r'\n",
       "6. 'subject_name'\n",
       "7. 'sympotms'\n",
       "8. 'temp'\n",
       "\n",
       "\n"
      ],
      "text/plain": [
       "[1] \"blood\"        \"flu\"          \"gender\"       \"pt_data\"      \"r\"           \n",
       "[6] \"subject_name\" \"sympotms\"     \"temp\"        "
      ]
     },
     "metadata": {},
     "output_type": "display_data"
    }
   ],
   "source": [
    "ls() # The ls() listing function returns a vector of all the data structures currently in the memory."
   ]
  },
  {
   "cell_type": "code",
   "execution_count": 16,
   "metadata": {
    "collapsed": true
   },
   "outputs": [],
   "source": [
    "rm(flu) # remove"
   ]
  },
  {
   "cell_type": "code",
   "execution_count": 17,
   "metadata": {},
   "outputs": [
    {
     "data": {
      "text/html": [
       "<ol class=list-inline>\n",
       "\t<li>'blood'</li>\n",
       "\t<li>'gender'</li>\n",
       "\t<li>'pt_data'</li>\n",
       "\t<li>'r'</li>\n",
       "\t<li>'subject_name'</li>\n",
       "\t<li>'sympotms'</li>\n",
       "\t<li>'temp'</li>\n",
       "</ol>\n"
      ],
      "text/latex": [
       "\\begin{enumerate*}\n",
       "\\item 'blood'\n",
       "\\item 'gender'\n",
       "\\item 'pt\\_data'\n",
       "\\item 'r'\n",
       "\\item 'subject\\_name'\n",
       "\\item 'sympotms'\n",
       "\\item 'temp'\n",
       "\\end{enumerate*}\n"
      ],
      "text/markdown": [
       "1. 'blood'\n",
       "2. 'gender'\n",
       "3. 'pt_data'\n",
       "4. 'r'\n",
       "5. 'subject_name'\n",
       "6. 'sympotms'\n",
       "7. 'temp'\n",
       "\n",
       "\n"
      ],
      "text/plain": [
       "[1] \"blood\"        \"gender\"       \"pt_data\"      \"r\"            \"subject_name\"\n",
       "[6] \"sympotms\"     \"temp\"        "
      ]
     },
     "metadata": {},
     "output_type": "display_data"
    }
   ],
   "source": [
    "ls()"
   ]
  },
  {
   "cell_type": "code",
   "execution_count": 18,
   "metadata": {
    "collapsed": true
   },
   "outputs": [],
   "source": [
    "?read.table()"
   ]
  },
  {
   "cell_type": "code",
   "execution_count": 19,
   "metadata": {
    "collapsed": true
   },
   "outputs": [],
   "source": [
    "usedcars = read.csv(\"Book/02/usedcars.csv\",stringsAsFactors=FALSE)"
   ]
  },
  {
   "cell_type": "code",
   "execution_count": 20,
   "metadata": {},
   "outputs": [
    {
     "data": {
      "text/plain": [
       "      year         model               price          mileage      \n",
       " Min.   :2000   Length:150         Min.   : 3800   Min.   :  4867  \n",
       " 1st Qu.:2008   Class :character   1st Qu.:10995   1st Qu.: 27200  \n",
       " Median :2009   Mode  :character   Median :13592   Median : 36385  \n",
       " Mean   :2009                      Mean   :12962   Mean   : 44261  \n",
       " 3rd Qu.:2010                      3rd Qu.:14904   3rd Qu.: 55124  \n",
       " Max.   :2012                      Max.   :21992   Max.   :151479  \n",
       "    color           transmission      \n",
       " Length:150         Length:150        \n",
       " Class :character   Class :character  \n",
       " Mode  :character   Mode  :character  \n",
       "                                      \n",
       "                                      \n",
       "                                      "
      ]
     },
     "metadata": {},
     "output_type": "display_data"
    }
   ],
   "source": [
    "summary(usedcars)"
   ]
  },
  {
   "cell_type": "code",
   "execution_count": 21,
   "metadata": {},
   "outputs": [
    {
     "name": "stdout",
     "output_type": "stream",
     "text": [
      "'data.frame':\t150 obs. of  6 variables:\n",
      " $ year        : int  2011 2011 2011 2011 2012 2010 2011 2010 2011 2010 ...\n",
      " $ model       : chr  \"SEL\" \"SEL\" \"SEL\" \"SEL\" ...\n",
      " $ price       : int  21992 20995 19995 17809 17500 17495 17000 16995 16995 16995 ...\n",
      " $ mileage     : int  7413 10926 7351 11613 8367 25125 27393 21026 32655 36116 ...\n",
      " $ color       : chr  \"Yellow\" \"Gray\" \"Silver\" \"Gray\" ...\n",
      " $ transmission: chr  \"AUTO\" \"AUTO\" \"AUTO\" \"AUTO\" ...\n"
     ]
    }
   ],
   "source": [
    "str(usedcars)"
   ]
  },
  {
   "cell_type": "code",
   "execution_count": 22,
   "metadata": {},
   "outputs": [
    {
     "data": {
      "text/plain": [
       "   Min. 1st Qu.  Median    Mean 3rd Qu.    Max. \n",
       "   2000    2008    2009    2009    2010    2012 "
      ]
     },
     "metadata": {},
     "output_type": "display_data"
    }
   ],
   "source": [
    "summary (usedcars$year)"
   ]
  },
  {
   "cell_type": "code",
   "execution_count": 23,
   "metadata": {
    "collapsed": true
   },
   "outputs": [],
   "source": [
    "# http://www.harding.edu/fmccown/r/"
   ]
  },
  {
   "cell_type": "code",
   "execution_count": 24,
   "metadata": {},
   "outputs": [
    {
     "data": {
      "image/png": "[encoded data removed]",
      "text/plain": [
       "Plot with title “Histogram of usedcars$year”"
      ]
     },
     "metadata": {},
     "output_type": "display_data"
    }
   ],
   "source": [
    "hist(usedcars$year,col=heat.colors(usedcars$year))"
   ]
  },
  {
   "cell_type": "code",
   "execution_count": 25,
   "metadata": {},
   "outputs": [
    {
     "data": {
      "text/plain": [
       "     price          mileage      \n",
       " Min.   : 3800   Min.   :  4867  \n",
       " 1st Qu.:10995   1st Qu.: 27200  \n",
       " Median :13592   Median : 36385  \n",
       " Mean   :12962   Mean   : 44261  \n",
       " 3rd Qu.:14904   3rd Qu.: 55124  \n",
       " Max.   :21992   Max.   :151479  "
      ]
     },
     "metadata": {},
     "output_type": "display_data"
    }
   ],
   "source": [
    "summary(usedcars[c(\"price\", \"mileage\")])"
   ]
  },
  {
   "cell_type": "code",
   "execution_count": 26,
   "metadata": {},
   "outputs": [
    {
     "data": {
      "text/html": [
       "<ol class=list-inline>\n",
       "\t<li>4867</li>\n",
       "\t<li>151479</li>\n",
       "</ol>\n"
      ],
      "text/latex": [
       "\\begin{enumerate*}\n",
       "\\item 4867\n",
       "\\item 151479\n",
       "\\end{enumerate*}\n"
      ],
      "text/markdown": [
       "1. 4867\n",
       "2. 151479\n",
       "\n",
       "\n"
      ],
      "text/plain": [
       "[1]   4867 151479"
      ]
     },
     "metadata": {},
     "output_type": "display_data"
    }
   ],
   "source": [
    "range(usedcars$mileage)"
   ]
  },
  {
   "cell_type": "code",
   "execution_count": 27,
   "metadata": {},
   "outputs": [
    {
     "data": {
      "text/html": [
       "146612"
      ],
      "text/latex": [
       "146612"
      ],
      "text/markdown": [
       "146612"
      ],
      "text/plain": [
       "[1] 146612"
      ]
     },
     "metadata": {},
     "output_type": "display_data"
    }
   ],
   "source": [
    "diff(range(usedcars$mileage))"
   ]
  },
  {
   "cell_type": "code",
   "execution_count": 28,
   "metadata": {},
   "outputs": [
    {
     "data": {
      "text/html": [
       "<dl class=dl-horizontal>\n",
       "\t<dt>0%</dt>\n",
       "\t\t<dd>3800</dd>\n",
       "\t<dt>25%</dt>\n",
       "\t\t<dd>10995</dd>\n",
       "\t<dt>50%</dt>\n",
       "\t\t<dd>13591.5</dd>\n",
       "\t<dt>75%</dt>\n",
       "\t\t<dd>14904.5</dd>\n",
       "\t<dt>100%</dt>\n",
       "\t\t<dd>21992</dd>\n",
       "</dl>\n"
      ],
      "text/latex": [
       "\\begin{description*}\n",
       "\\item[0\\textbackslash{}\\%] 3800\n",
       "\\item[25\\textbackslash{}\\%] 10995\n",
       "\\item[50\\textbackslash{}\\%] 13591.5\n",
       "\\item[75\\textbackslash{}\\%] 14904.5\n",
       "\\item[100\\textbackslash{}\\%] 21992\n",
       "\\end{description*}\n"
      ],
      "text/markdown": [
       "0%\n",
       ":   380025%\n",
       ":   1099550%\n",
       ":   13591.575%\n",
       ":   14904.5100%\n",
       ":   21992\n",
       "\n"
      ],
      "text/plain": [
       "     0%     25%     50%     75%    100% \n",
       " 3800.0 10995.0 13591.5 14904.5 21992.0 "
      ]
     },
     "metadata": {},
     "output_type": "display_data"
    }
   ],
   "source": [
    "quantile(usedcars$price)"
   ]
  },
  {
   "cell_type": "code",
   "execution_count": 29,
   "metadata": {},
   "outputs": [
    {
     "data": {
      "text/html": [
       "<dl class=dl-horizontal>\n",
       "\t<dt>0%</dt>\n",
       "\t\t<dd>3800</dd>\n",
       "\t<dt>20%</dt>\n",
       "\t\t<dd>10759.4</dd>\n",
       "\t<dt>40%</dt>\n",
       "\t\t<dd>12993.8</dd>\n",
       "\t<dt>60%</dt>\n",
       "\t\t<dd>13992</dd>\n",
       "\t<dt>80%</dt>\n",
       "\t\t<dd>14999</dd>\n",
       "\t<dt>100%</dt>\n",
       "\t\t<dd>21992</dd>\n",
       "</dl>\n"
      ],
      "text/latex": [
       "\\begin{description*}\n",
       "\\item[0\\textbackslash{}\\%] 3800\n",
       "\\item[20\\textbackslash{}\\%] 10759.4\n",
       "\\item[40\\textbackslash{}\\%] 12993.8\n",
       "\\item[60\\textbackslash{}\\%] 13992\n",
       "\\item[80\\textbackslash{}\\%] 14999\n",
       "\\item[100\\textbackslash{}\\%] 21992\n",
       "\\end{description*}\n"
      ],
      "text/markdown": [
       "0%\n",
       ":   380020%\n",
       ":   10759.440%\n",
       ":   12993.860%\n",
       ":   1399280%\n",
       ":   14999100%\n",
       ":   21992\n",
       "\n"
      ],
      "text/plain": [
       "     0%     20%     40%     60%     80%    100% \n",
       " 3800.0 10759.4 12993.8 13992.0 14999.0 21992.0 "
      ]
     },
     "metadata": {},
     "output_type": "display_data"
    }
   ],
   "source": [
    "quantile(usedcars$price,seq(from=0,to=1,by=0.20))"
   ]
  },
  {
   "cell_type": "code",
   "execution_count": 30,
   "metadata": {},
   "outputs": [
    {
     "data": {
      "text/html": [
       "<dl class=dl-horizontal>\n",
       "\t<dt>0%</dt>\n",
       "\t\t<dd>4867</dd>\n",
       "\t<dt>25%</dt>\n",
       "\t\t<dd>27200.25</dd>\n",
       "\t<dt>50%</dt>\n",
       "\t\t<dd>36385</dd>\n",
       "\t<dt>75%</dt>\n",
       "\t\t<dd>55124.5</dd>\n",
       "\t<dt>100%</dt>\n",
       "\t\t<dd>151479</dd>\n",
       "</dl>\n"
      ],
      "text/latex": [
       "\\begin{description*}\n",
       "\\item[0\\textbackslash{}\\%] 4867\n",
       "\\item[25\\textbackslash{}\\%] 27200.25\n",
       "\\item[50\\textbackslash{}\\%] 36385\n",
       "\\item[75\\textbackslash{}\\%] 55124.5\n",
       "\\item[100\\textbackslash{}\\%] 151479\n",
       "\\end{description*}\n"
      ],
      "text/markdown": [
       "0%\n",
       ":   486725%\n",
       ":   27200.2550%\n",
       ":   3638575%\n",
       ":   55124.5100%\n",
       ":   151479\n",
       "\n"
      ],
      "text/plain": [
       "       0%       25%       50%       75%      100% \n",
       "  4867.00  27200.25  36385.00  55124.50 151479.00 "
      ]
     },
     "metadata": {},
     "output_type": "display_data"
    },
    {
     "data": {
      "text/plain": [
       "   Min. 1st Qu.  Median    Mean 3rd Qu.    Max. \n",
       "   4867   27200   36380   44260   55120  151500 "
      ]
     },
     "metadata": {},
     "output_type": "display_data"
    },
    {
     "data": {
      "image/png": "[encoded data removed]",
      "text/plain": [
       "Plot with title “Histogram of usedcars$mileage”"
      ]
     },
     "metadata": {},
     "output_type": "display_data"
    }
   ],
   "source": [
    "hist(usedcars$mileage)\n",
    "quantile(usedcars$mileage)\n",
    "summary(usedcars$mileage)\n"
   ]
  },
  {
   "cell_type": "code",
   "execution_count": 31,
   "metadata": {},
   "outputs": [
    {
     "data": {
      "image/png": "[encoded data removed]",
      "text/plain": [
       "Plot with title “Scatter plot milage (x) vs price (y)”"
      ]
     },
     "metadata": {},
     "output_type": "display_data"
    }
   ],
   "source": [
    "plot(x=usedcars$mileage, y =usedcars$price, xlab = \"odometer\", ylab = \"price\", main=\"Scatter plot milage (x) vs price (y)\")"
   ]
  },
  {
   "cell_type": "code",
   "execution_count": 32,
   "metadata": {},
   "outputs": [
    {
     "name": "stderr",
     "output_type": "stream",
     "text": [
      "Updating HTML index of packages in '.Library'\n",
      "Making 'packages.html' ... done\n"
     ]
    }
   ],
   "source": [
    "install.packages(\"gmodels\")"
   ]
  },
  {
   "cell_type": "code",
   "execution_count": 33,
   "metadata": {
    "collapsed": true
   },
   "outputs": [],
   "source": [
    "library(gmodels)"
   ]
  },
  {
   "cell_type": "code",
   "execution_count": 34,
   "metadata": {},
   "outputs": [
    {
     "data": {
      "text/plain": [
       "\n",
       "FALSE  TRUE \n",
       "   51    99 "
      ]
     },
     "metadata": {},
     "output_type": "display_data"
    }
   ],
   "source": [
    "usedcars$consverative = usedcars$color %in% c(\"Black\", \"Gray\",\"Silver\", \"White\")\n",
    "table(usedcars$consverative)"
   ]
  },
  {
   "cell_type": "code",
   "execution_count": 35,
   "metadata": {
    "collapsed": true
   },
   "outputs": [],
   "source": [
    "?dist"
   ]
  },
  {
   "cell_type": "code",
   "execution_count": null,
   "metadata": {
    "collapsed": true
   },
   "outputs": [],
   "source": []
  },
  {
   "cell_type": "code",
   "execution_count": null,
   "metadata": {
    "collapsed": true
   },
   "outputs": [],
   "source": []
  }
 ],
 "metadata": {
  "kernelspec": {
   "display_name": "R",
   "language": "R",
   "name": "ir"
  },
  "language_info": {
   "codemirror_mode": "r",
   "file_extension": ".r",
   "mimetype": "text/x-r-source",
   "name": "R",
   "pygments_lexer": "r",
   "version": "3.3.2"
  }
 },
 "nbformat": 4,
 "nbformat_minor": 2
}
