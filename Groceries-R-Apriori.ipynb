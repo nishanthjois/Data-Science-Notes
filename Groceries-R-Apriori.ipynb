{
 "cells": [
  {
   "cell_type": "code",
   "execution_count": 4,
   "metadata": {
    "collapsed": false
   },
   "outputs": [],
   "source": [
    "data = read.csv('datasets/groceries.csv')\n"
   ]
  },
  {
   "cell_type": "code",
   "execution_count": 5,
   "metadata": {
    "collapsed": false
   },
   "outputs": [
    {
     "data": {
      "text/html": [
       "<table>\n",
       "<thead><tr><th scope=col>citrus.fruit</th><th scope=col>semi.finished.bread</th><th scope=col>margarine</th><th scope=col>ready.soups</th></tr></thead>\n",
       "<tbody>\n",
       "\t<tr><td>tropical fruit          </td><td>yogurt                  </td><td>coffee                  </td><td>                        </td></tr>\n",
       "\t<tr><td>whole milk              </td><td>                        </td><td>                        </td><td>                        </td></tr>\n",
       "\t<tr><td>pip fruit               </td><td>yogurt                  </td><td>cream cheese            </td><td>meat spreads            </td></tr>\n",
       "\t<tr><td>other vegetables        </td><td>whole milk              </td><td>condensed milk          </td><td>long life bakery product</td></tr>\n",
       "\t<tr><td>whole milk              </td><td>butter                  </td><td>yogurt                  </td><td>rice                    </td></tr>\n",
       "\t<tr><td>abrasive cleaner        </td><td>                        </td><td>                        </td><td>                        </td></tr>\n",
       "</tbody>\n",
       "</table>\n"
      ],
      "text/latex": [
       "\\begin{tabular}{r|llll}\n",
       " citrus.fruit & semi.finished.bread & margarine & ready.soups\\\\\n",
       "\\hline\n",
       "\t tropical fruit           & yogurt                   & coffee                   &                         \\\\\n",
       "\t whole milk               &                          &                          &                         \\\\\n",
       "\t pip fruit                & yogurt                   & cream cheese             & meat spreads            \\\\\n",
       "\t other vegetables         & whole milk               & condensed milk           & long life bakery product\\\\\n",
       "\t whole milk               & butter                   & yogurt                   & rice                    \\\\\n",
       "\t abrasive cleaner         &                          &                          &                         \\\\\n",
       "\\end{tabular}\n"
      ],
      "text/markdown": [
       "\n",
       "citrus.fruit | semi.finished.bread | margarine | ready.soups | \n",
       "|---|---|---|---|---|---|\n",
       "| tropical fruit           | yogurt                   | coffee                   |                          | \n",
       "| whole milk               |                          |                          |                          | \n",
       "| pip fruit                | yogurt                   | cream cheese             | meat spreads             | \n",
       "| other vegetables         | whole milk               | condensed milk           | long life bakery product | \n",
       "| whole milk               | butter                   | yogurt                   | rice                     | \n",
       "| abrasive cleaner         |                          |                          |                          | \n",
       "\n",
       "\n"
      ],
      "text/plain": [
       "  citrus.fruit     semi.finished.bread margarine      ready.soups             \n",
       "1 tropical fruit   yogurt              coffee                                 \n",
       "2 whole milk                                                                  \n",
       "3 pip fruit        yogurt              cream cheese   meat spreads            \n",
       "4 other vegetables whole milk          condensed milk long life bakery product\n",
       "5 whole milk       butter              yogurt         rice                    \n",
       "6 abrasive cleaner                                                            "
      ]
     },
     "metadata": {},
     "output_type": "display_data"
    }
   ],
   "source": [
    "head(data)"
   ]
  },
  {
   "cell_type": "code",
   "execution_count": null,
   "metadata": {
    "collapsed": true
   },
   "outputs": [],
   "source": [
    "Deep leanring videos\n",
    "deep learning interview questions\n",
    "Col-filtering"
   ]
  },
  {
   "cell_type": "code",
   "execution_count": null,
   "metadata": {
    "collapsed": true
   },
   "outputs": [],
   "source": []
  },
  {
   "cell_type": "code",
   "execution_count": null,
   "metadata": {
    "collapsed": true
   },
   "outputs": [],
   "source": []
  },
  {
   "cell_type": "code",
   "execution_count": null,
   "metadata": {
    "collapsed": true
   },
   "outputs": [],
   "source": []
  },
  {
   "cell_type": "code",
   "execution_count": null,
   "metadata": {
    "collapsed": true
   },
   "outputs": [],
   "source": []
  },
  {
   "cell_type": "code",
   "execution_count": null,
   "metadata": {
    "collapsed": true
   },
   "outputs": [],
   "source": []
  },
  {
   "cell_type": "code",
   "execution_count": null,
   "metadata": {
    "collapsed": true
   },
   "outputs": [],
   "source": []
  },
  {
   "cell_type": "code",
   "execution_count": null,
   "metadata": {
    "collapsed": true
   },
   "outputs": [],
   "source": []
  }
 ],
 "metadata": {
  "anaconda-cloud": {},
  "kernelspec": {
   "display_name": "R",
   "language": "R",
   "name": "ir"
  },
  "language_info": {
   "codemirror_mode": "r",
   "file_extension": ".r",
   "mimetype": "text/x-r-source",
   "name": "R",
   "pygments_lexer": "r",
   "version": "3.3.2"
  },
  "toc": {
   "colors": {
    "hover_highlight": "#DAA520",
    "navigate_num": "#000000",
    "navigate_text": "#333333",
    "running_highlight": "#FF0000",
    "selected_highlight": "#FFD700",
    "sidebar_border": "#EEEEEE",
    "wrapper_background": "#FFFFFF"
   },
   "moveMenuLeft": true,
   "nav_menu": {
    "height": "12px",
    "width": "252px"
   },
   "navigate_menu": true,
   "number_sections": true,
   "sideBar": true,
   "threshold": 4,
   "toc_cell": false,
   "toc_section_display": "block",
   "toc_window_display": false,
   "widenNotebook": false
  }
 },
 "nbformat": 4,
 "nbformat_minor": 2
}
