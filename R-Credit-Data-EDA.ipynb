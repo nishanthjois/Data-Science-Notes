{
 "cells": [
  {
   "cell_type": "markdown",
   "metadata": {},
   "source": [
    "# Read values"
   ]
  },
  {
   "cell_type": "code",
   "execution_count": 18,
   "metadata": {},
   "outputs": [
    {
     "data": {
      "text/html": [
       "<table>\n",
       "<thead><tr><th scope=col>checking_balance</th><th scope=col>months_loan_duration</th><th scope=col>credit_history</th><th scope=col>purpose</th><th scope=col>amount</th><th scope=col>savings_balance</th><th scope=col>employment_duration</th><th scope=col>percent_of_income</th><th scope=col>years_at_residence</th><th scope=col>age</th><th scope=col>other_credit</th><th scope=col>housing</th><th scope=col>existing_loans_count</th><th scope=col>job</th><th scope=col>dependents</th><th scope=col>phone</th><th scope=col>default</th></tr></thead>\n",
       "<tbody>\n",
       "\t<tr><td><span style=white-space:pre-wrap>&lt; 0 DM    </span> </td><td> 6                                                    </td><td>critical                                              </td><td>furniture/appliances                                  </td><td> 1169                                                 </td><td><span style=white-space:pre-wrap>unknown      </span> </td><td><span style=white-space:pre-wrap>&gt; 7 years  </span></td><td>4                                                     </td><td>4                                                     </td><td>67                                                    </td><td>none                                                  </td><td><span style=white-space:pre-wrap>own  </span>         </td><td>2                                                     </td><td><span style=white-space:pre-wrap>skilled   </span>    </td><td>1                                                     </td><td>yes                                                   </td><td>no                                                    </td></tr>\n",
       "\t<tr><td>1 - 200 DM                                              </td><td>48                                                      </td><td><span style=white-space:pre-wrap>good     </span>       </td><td>furniture/appliances                                    </td><td> 5951                                                   </td><td><span style=white-space:pre-wrap>&lt; 100 DM     </span></td><td>1 - 4 years                                             </td><td>2                                                       </td><td>2                                                       </td><td>22                                                      </td><td>none                                                    </td><td><span style=white-space:pre-wrap>own  </span>           </td><td>1                                                       </td><td><span style=white-space:pre-wrap>skilled   </span>      </td><td>1                                                       </td><td>no                                                      </td><td>yes                                                     </td></tr>\n",
       "\t<tr><td><span style=white-space:pre-wrap>unknown   </span>          </td><td>12                                                          </td><td>critical                                                    </td><td><span style=white-space:pre-wrap>education           </span></td><td> 2096                                                       </td><td><span style=white-space:pre-wrap>&lt; 100 DM     </span>    </td><td>4 - 7 years                                                 </td><td>2                                                           </td><td>3                                                           </td><td>49                                                          </td><td>none                                                        </td><td><span style=white-space:pre-wrap>own  </span>               </td><td>1                                                           </td><td>unskilled                                                   </td><td>2                                                           </td><td>no                                                          </td><td>no                                                          </td></tr>\n",
       "\t<tr><td><span style=white-space:pre-wrap>&lt; 0 DM    </span>   </td><td>42                                                      </td><td><span style=white-space:pre-wrap>good     </span>       </td><td>furniture/appliances                                    </td><td> 7882                                                   </td><td><span style=white-space:pre-wrap>&lt; 100 DM     </span></td><td>4 - 7 years                                             </td><td>2                                                       </td><td>4                                                       </td><td>45                                                      </td><td>none                                                    </td><td>other                                                   </td><td>1                                                       </td><td><span style=white-space:pre-wrap>skilled   </span>      </td><td>2                                                       </td><td>no                                                      </td><td>no                                                      </td></tr>\n",
       "\t<tr><td><span style=white-space:pre-wrap>&lt; 0 DM    </span>       </td><td>24                                                          </td><td><span style=white-space:pre-wrap>poor     </span>           </td><td><span style=white-space:pre-wrap>car                 </span></td><td> 4870                                                       </td><td><span style=white-space:pre-wrap>&lt; 100 DM     </span>    </td><td>1 - 4 years                                                 </td><td>3                                                           </td><td>4                                                           </td><td>53                                                          </td><td>none                                                        </td><td>other                                                       </td><td>2                                                           </td><td><span style=white-space:pre-wrap>skilled   </span>          </td><td>2                                                           </td><td>no                                                          </td><td>yes                                                         </td></tr>\n",
       "\t<tr><td>unknown             </td><td>36                  </td><td>good                </td><td>education           </td><td> 9055               </td><td>unknown             </td><td>1 - 4 years         </td><td>2                   </td><td>4                   </td><td>35                  </td><td>none                </td><td>other               </td><td>1                   </td><td>unskilled           </td><td>2                   </td><td>yes                 </td><td>no                  </td></tr>\n",
       "\t<tr><td><span style=white-space:pre-wrap>unknown   </span>    </td><td>24                                                    </td><td><span style=white-space:pre-wrap>good     </span>     </td><td>furniture/appliances                                  </td><td> 2835                                                 </td><td>500 - 1000 DM                                         </td><td><span style=white-space:pre-wrap>&gt; 7 years  </span></td><td>3                                                     </td><td>4                                                     </td><td>53                                                    </td><td>none                                                  </td><td><span style=white-space:pre-wrap>own  </span>         </td><td>1                                                     </td><td><span style=white-space:pre-wrap>skilled   </span>    </td><td>1                                                     </td><td>no                                                    </td><td>no                                                    </td></tr>\n",
       "\t<tr><td>1 - 200 DM                                                  </td><td>36                                                          </td><td><span style=white-space:pre-wrap>good     </span>           </td><td><span style=white-space:pre-wrap>car                 </span></td><td> 6948                                                       </td><td><span style=white-space:pre-wrap>&lt; 100 DM     </span>    </td><td>1 - 4 years                                                 </td><td>2                                                           </td><td>2                                                           </td><td>35                                                          </td><td>none                                                        </td><td>rent                                                        </td><td>1                                                           </td><td>management                                                  </td><td>1                                                           </td><td>yes                                                         </td><td>no                                                          </td></tr>\n",
       "\t<tr><td><span style=white-space:pre-wrap>unknown   </span>      </td><td>12                                                      </td><td><span style=white-space:pre-wrap>good     </span>       </td><td>furniture/appliances                                    </td><td> 3059                                                   </td><td><span style=white-space:pre-wrap>&gt; 1000 DM    </span></td><td>4 - 7 years                                             </td><td>2                                                       </td><td>4                                                       </td><td>61                                                      </td><td>none                                                    </td><td><span style=white-space:pre-wrap>own  </span>           </td><td>1                                                       </td><td>unskilled                                               </td><td>1                                                       </td><td>no                                                      </td><td>no                                                      </td></tr>\n",
       "\t<tr><td>1 - 200 DM                                                  </td><td>30                                                          </td><td>critical                                                    </td><td><span style=white-space:pre-wrap>car                 </span></td><td> 5234                                                       </td><td><span style=white-space:pre-wrap>&lt; 100 DM     </span>    </td><td>unemployed                                                  </td><td>4                                                           </td><td>2                                                           </td><td>28                                                          </td><td>none                                                        </td><td><span style=white-space:pre-wrap>own  </span>               </td><td>2                                                           </td><td>management                                                  </td><td>1                                                           </td><td>no                                                          </td><td>yes                                                         </td></tr>\n",
       "\t<tr><td>1 - 200 DM                                                  </td><td>12                                                          </td><td><span style=white-space:pre-wrap>good     </span>           </td><td><span style=white-space:pre-wrap>car                 </span></td><td> 1295                                                       </td><td><span style=white-space:pre-wrap>&lt; 100 DM     </span>    </td><td><span style=white-space:pre-wrap>&lt; 1 year   </span>      </td><td>3                                                           </td><td>1                                                           </td><td>25                                                          </td><td>none                                                        </td><td>rent                                                        </td><td>1                                                           </td><td><span style=white-space:pre-wrap>skilled   </span>          </td><td>1                                                           </td><td>no                                                          </td><td>yes                                                         </td></tr>\n",
       "\t<tr><td><span style=white-space:pre-wrap>&lt; 0 DM    </span>       </td><td>48                                                          </td><td><span style=white-space:pre-wrap>good     </span>           </td><td><span style=white-space:pre-wrap>business            </span></td><td> 4308                                                       </td><td><span style=white-space:pre-wrap>&lt; 100 DM     </span>    </td><td><span style=white-space:pre-wrap>&lt; 1 year   </span>      </td><td>3                                                           </td><td>4                                                           </td><td>24                                                          </td><td>none                                                        </td><td>rent                                                        </td><td>1                                                           </td><td><span style=white-space:pre-wrap>skilled   </span>          </td><td>1                                                           </td><td>no                                                          </td><td>yes                                                         </td></tr>\n",
       "\t<tr><td>1 - 200 DM                                              </td><td>12                                                      </td><td><span style=white-space:pre-wrap>good     </span>       </td><td>furniture/appliances                                    </td><td> 1567                                                   </td><td><span style=white-space:pre-wrap>&lt; 100 DM     </span></td><td>1 - 4 years                                             </td><td>1                                                       </td><td>1                                                       </td><td>22                                                      </td><td>none                                                    </td><td><span style=white-space:pre-wrap>own  </span>           </td><td>1                                                       </td><td><span style=white-space:pre-wrap>skilled   </span>      </td><td>1                                                       </td><td>yes                                                     </td><td>no                                                      </td></tr>\n",
       "\t<tr><td><span style=white-space:pre-wrap>&lt; 0 DM    </span>       </td><td>24                                                          </td><td>critical                                                    </td><td><span style=white-space:pre-wrap>car                 </span></td><td> 1199                                                       </td><td><span style=white-space:pre-wrap>&lt; 100 DM     </span>    </td><td><span style=white-space:pre-wrap>&gt; 7 years  </span>      </td><td>4                                                           </td><td>4                                                           </td><td>60                                                          </td><td>none                                                        </td><td><span style=white-space:pre-wrap>own  </span>               </td><td>2                                                           </td><td>unskilled                                                   </td><td>1                                                           </td><td>no                                                          </td><td>yes                                                         </td></tr>\n",
       "\t<tr><td><span style=white-space:pre-wrap>&lt; 0 DM    </span>       </td><td>15                                                          </td><td><span style=white-space:pre-wrap>good     </span>           </td><td><span style=white-space:pre-wrap>car                 </span></td><td> 1403                                                       </td><td><span style=white-space:pre-wrap>&lt; 100 DM     </span>    </td><td>1 - 4 years                                                 </td><td>2                                                           </td><td>4                                                           </td><td>28                                                          </td><td>none                                                        </td><td>rent                                                        </td><td>1                                                           </td><td><span style=white-space:pre-wrap>skilled   </span>          </td><td>1                                                           </td><td>no                                                          </td><td>no                                                          </td></tr>\n",
       "\t<tr><td><span style=white-space:pre-wrap>&lt; 0 DM    </span></td><td>24                                                   </td><td><span style=white-space:pre-wrap>good     </span>    </td><td>furniture/appliances                                 </td><td> 1282                                                </td><td>100 - 500 DM                                         </td><td>1 - 4 years                                          </td><td>4                                                    </td><td>2                                                    </td><td>32                                                   </td><td>none                                                 </td><td><span style=white-space:pre-wrap>own  </span>        </td><td>1                                                    </td><td>unskilled                                            </td><td>1                                                    </td><td>no                                                   </td><td>yes                                                  </td></tr>\n",
       "\t<tr><td><span style=white-space:pre-wrap>unknown   </span>    </td><td>24                                                    </td><td>critical                                              </td><td>furniture/appliances                                  </td><td> 2424                                                 </td><td><span style=white-space:pre-wrap>unknown      </span> </td><td><span style=white-space:pre-wrap>&gt; 7 years  </span></td><td>4                                                     </td><td>4                                                     </td><td>53                                                    </td><td>none                                                  </td><td><span style=white-space:pre-wrap>own  </span>         </td><td>2                                                     </td><td><span style=white-space:pre-wrap>skilled   </span>    </td><td>1                                                     </td><td>no                                                    </td><td>no                                                    </td></tr>\n",
       "\t<tr><td><span style=white-space:pre-wrap>&lt; 0 DM    </span>       </td><td>30                                                          </td><td><span style=white-space:pre-wrap>perfect  </span>           </td><td><span style=white-space:pre-wrap>business            </span></td><td> 8072                                                       </td><td><span style=white-space:pre-wrap>unknown      </span>       </td><td><span style=white-space:pre-wrap>&lt; 1 year   </span>      </td><td>2                                                           </td><td>3                                                           </td><td>25                                                          </td><td>bank                                                        </td><td><span style=white-space:pre-wrap>own  </span>               </td><td>3                                                           </td><td><span style=white-space:pre-wrap>skilled   </span>          </td><td>1                                                           </td><td>no                                                          </td><td>no                                                          </td></tr>\n",
       "\t<tr><td>1 - 200 DM                                                  </td><td>24                                                          </td><td><span style=white-space:pre-wrap>good     </span>           </td><td><span style=white-space:pre-wrap>car                 </span></td><td>12579                                                       </td><td><span style=white-space:pre-wrap>&lt; 100 DM     </span>    </td><td><span style=white-space:pre-wrap>&gt; 7 years  </span>      </td><td>4                                                           </td><td>2                                                           </td><td>44                                                          </td><td>none                                                        </td><td>other                                                       </td><td>1                                                           </td><td>management                                                  </td><td>1                                                           </td><td>yes                                                         </td><td>yes                                                         </td></tr>\n",
       "\t<tr><td><span style=white-space:pre-wrap>unknown   </span>    </td><td>24                                                    </td><td><span style=white-space:pre-wrap>good     </span>     </td><td>furniture/appliances                                  </td><td> 3430                                                 </td><td>500 - 1000 DM                                         </td><td><span style=white-space:pre-wrap>&gt; 7 years  </span></td><td>3                                                     </td><td>2                                                     </td><td>31                                                    </td><td>none                                                  </td><td><span style=white-space:pre-wrap>own  </span>         </td><td>1                                                     </td><td><span style=white-space:pre-wrap>skilled   </span>    </td><td>2                                                     </td><td>yes                                                   </td><td>no                                                    </td></tr>\n",
       "\t<tr><td><span style=white-space:pre-wrap>unknown   </span>          </td><td> 9                                                          </td><td>critical                                                    </td><td><span style=white-space:pre-wrap>car                 </span></td><td> 2134                                                       </td><td><span style=white-space:pre-wrap>&lt; 100 DM     </span>    </td><td>1 - 4 years                                                 </td><td>4                                                           </td><td>4                                                           </td><td>48                                                          </td><td>none                                                        </td><td><span style=white-space:pre-wrap>own  </span>               </td><td>3                                                           </td><td><span style=white-space:pre-wrap>skilled   </span>          </td><td>1                                                           </td><td>yes                                                         </td><td>no                                                          </td></tr>\n",
       "\t<tr><td><span style=white-space:pre-wrap>&lt; 0 DM    </span></td><td> 6                                                   </td><td><span style=white-space:pre-wrap>good     </span>    </td><td>furniture/appliances                                 </td><td> 2647                                                </td><td>500 - 1000 DM                                        </td><td>1 - 4 years                                          </td><td>2                                                    </td><td>3                                                    </td><td>44                                                   </td><td>none                                                 </td><td>rent                                                 </td><td>1                                                    </td><td><span style=white-space:pre-wrap>skilled   </span>   </td><td>2                                                    </td><td>no                                                   </td><td>no                                                   </td></tr>\n",
       "\t<tr><td><span style=white-space:pre-wrap>&lt; 0 DM    </span>       </td><td>10                                                          </td><td>critical                                                    </td><td><span style=white-space:pre-wrap>car                 </span></td><td> 2241                                                       </td><td><span style=white-space:pre-wrap>&lt; 100 DM     </span>    </td><td><span style=white-space:pre-wrap>&lt; 1 year   </span>      </td><td>1                                                           </td><td>3                                                           </td><td>48                                                          </td><td>none                                                        </td><td>rent                                                        </td><td>2                                                           </td><td>unskilled                                                   </td><td>2                                                           </td><td>no                                                          </td><td>no                                                          </td></tr>\n",
       "\t<tr><td>1 - 200 DM                                                  </td><td>12                                                          </td><td>critical                                                    </td><td><span style=white-space:pre-wrap>car                 </span></td><td> 1804                                                       </td><td>100 - 500 DM                                                </td><td><span style=white-space:pre-wrap>&lt; 1 year   </span>      </td><td>3                                                           </td><td>4                                                           </td><td>44                                                          </td><td>none                                                        </td><td><span style=white-space:pre-wrap>own  </span>               </td><td>1                                                           </td><td><span style=white-space:pre-wrap>skilled   </span>          </td><td>1                                                           </td><td>no                                                          </td><td>no                                                          </td></tr>\n",
       "\t<tr><td>unknown             </td><td>10                  </td><td>critical            </td><td>furniture/appliances</td><td> 2069               </td><td>unknown             </td><td>1 - 4 years         </td><td>2                   </td><td>1                   </td><td>26                  </td><td>none                </td><td>own                 </td><td>2                   </td><td>skilled             </td><td>1                   </td><td>no                  </td><td>no                  </td></tr>\n",
       "\t<tr><td><span style=white-space:pre-wrap>&lt; 0 DM    </span>   </td><td> 6                                                      </td><td><span style=white-space:pre-wrap>good     </span>       </td><td>furniture/appliances                                    </td><td> 1374                                                   </td><td><span style=white-space:pre-wrap>&lt; 100 DM     </span></td><td>1 - 4 years                                             </td><td>1                                                       </td><td>2                                                       </td><td>36                                                      </td><td>bank                                                    </td><td><span style=white-space:pre-wrap>own  </span>           </td><td>1                                                       </td><td>unskilled                                               </td><td>1                                                       </td><td>yes                                                     </td><td>no                                                      </td></tr>\n",
       "\t<tr><td><span style=white-space:pre-wrap>unknown   </span>      </td><td> 6                                                      </td><td><span style=white-space:pre-wrap>perfect  </span>       </td><td>furniture/appliances                                    </td><td><span style=white-space:pre-wrap>  426</span>           </td><td><span style=white-space:pre-wrap>&lt; 100 DM     </span></td><td><span style=white-space:pre-wrap>&gt; 7 years  </span>  </td><td>4                                                       </td><td>4                                                       </td><td>39                                                      </td><td>none                                                    </td><td><span style=white-space:pre-wrap>own  </span>           </td><td>1                                                       </td><td>unskilled                                               </td><td>1                                                       </td><td>no                                                      </td><td>no                                                      </td></tr>\n",
       "\t<tr><td><span style=white-space:pre-wrap>&gt; 200 DM  </span>   </td><td>12                                                      </td><td>very good                                               </td><td>furniture/appliances                                    </td><td><span style=white-space:pre-wrap>  409</span>           </td><td><span style=white-space:pre-wrap>&gt; 1000 DM    </span></td><td>1 - 4 years                                             </td><td>3                                                       </td><td>3                                                       </td><td>42                                                      </td><td>none                                                    </td><td>rent                                                    </td><td>2                                                       </td><td><span style=white-space:pre-wrap>skilled   </span>      </td><td>1                                                       </td><td>no                                                      </td><td>no                                                      </td></tr>\n",
       "\t<tr><td>1 - 200 DM                                              </td><td> 7                                                      </td><td><span style=white-space:pre-wrap>good     </span>       </td><td>furniture/appliances                                    </td><td> 2415                                                   </td><td><span style=white-space:pre-wrap>&lt; 100 DM     </span></td><td>1 - 4 years                                             </td><td>3                                                       </td><td>2                                                       </td><td>34                                                      </td><td>none                                                    </td><td><span style=white-space:pre-wrap>own  </span>           </td><td>1                                                       </td><td><span style=white-space:pre-wrap>skilled   </span>      </td><td>1                                                       </td><td>no                                                      </td><td>no                                                      </td></tr>\n",
       "\t<tr><td><span style=white-space:pre-wrap>&lt; 0 DM    </span>       </td><td>60                                                          </td><td><span style=white-space:pre-wrap>poor     </span>           </td><td><span style=white-space:pre-wrap>business            </span></td><td> 6836                                                       </td><td><span style=white-space:pre-wrap>&lt; 100 DM     </span>    </td><td><span style=white-space:pre-wrap>&gt; 7 years  </span>      </td><td>3                                                           </td><td>4                                                           </td><td>63                                                          </td><td>none                                                        </td><td><span style=white-space:pre-wrap>own  </span>               </td><td>2                                                           </td><td><span style=white-space:pre-wrap>skilled   </span>          </td><td>1                                                           </td><td>yes                                                         </td><td>yes                                                         </td></tr>\n",
       "\t<tr><td>⋮</td><td>⋮</td><td>⋮</td><td>⋮</td><td>⋮</td><td>⋮</td><td>⋮</td><td>⋮</td><td>⋮</td><td>⋮</td><td>⋮</td><td>⋮</td><td>⋮</td><td>⋮</td><td>⋮</td><td>⋮</td><td>⋮</td></tr>\n",
       "\t<tr><td>1 - 200 DM          </td><td>15                  </td><td>good                </td><td>renovations         </td><td>1514                </td><td>100 - 500 DM        </td><td>1 - 4 years         </td><td>4                   </td><td>2                   </td><td>22                  </td><td>none                </td><td>own                 </td><td>1                   </td><td>skilled             </td><td>1                   </td><td>no                  </td><td>no                  </td></tr>\n",
       "\t<tr><td><span style=white-space:pre-wrap>unknown   </span>          </td><td>24                                                          </td><td><span style=white-space:pre-wrap>good     </span>           </td><td><span style=white-space:pre-wrap>car                 </span></td><td>7393                                                        </td><td><span style=white-space:pre-wrap>&lt; 100 DM     </span>    </td><td>1 - 4 years                                                 </td><td>1                                                           </td><td>4                                                           </td><td>43                                                          </td><td>none                                                        </td><td><span style=white-space:pre-wrap>own  </span>               </td><td>1                                                           </td><td>unskilled                                                   </td><td>2                                                           </td><td>no                                                          </td><td>no                                                          </td></tr>\n",
       "\t<tr><td><span style=white-space:pre-wrap>&lt; 0 DM    </span>       </td><td>24                                                          </td><td>very good                                                   </td><td><span style=white-space:pre-wrap>car                 </span></td><td>1193                                                        </td><td><span style=white-space:pre-wrap>&lt; 100 DM     </span>    </td><td>unemployed                                                  </td><td>1                                                           </td><td>4                                                           </td><td>29                                                          </td><td>none                                                        </td><td>rent                                                        </td><td>2                                                           </td><td>unemployed                                                  </td><td>1                                                           </td><td>no                                                          </td><td>yes                                                         </td></tr>\n",
       "\t<tr><td><span style=white-space:pre-wrap>&lt; 0 DM    </span>       </td><td>60                                                          </td><td><span style=white-space:pre-wrap>good     </span>           </td><td><span style=white-space:pre-wrap>business            </span></td><td>7297                                                        </td><td><span style=white-space:pre-wrap>&lt; 100 DM     </span>    </td><td><span style=white-space:pre-wrap>&gt; 7 years  </span>      </td><td>4                                                           </td><td>4                                                           </td><td>36                                                          </td><td>none                                                        </td><td>rent                                                        </td><td>1                                                           </td><td><span style=white-space:pre-wrap>skilled   </span>          </td><td>1                                                           </td><td>no                                                          </td><td>yes                                                         </td></tr>\n",
       "\t<tr><td><span style=white-space:pre-wrap>unknown   </span>      </td><td>30                                                      </td><td>critical                                                </td><td>furniture/appliances                                    </td><td>2831                                                    </td><td><span style=white-space:pre-wrap>&lt; 100 DM     </span></td><td>1 - 4 years                                             </td><td>4                                                       </td><td>2                                                       </td><td>33                                                      </td><td>none                                                    </td><td><span style=white-space:pre-wrap>own  </span>           </td><td>1                                                       </td><td><span style=white-space:pre-wrap>skilled   </span>      </td><td>1                                                       </td><td>yes                                                     </td><td>no                                                      </td></tr>\n",
       "\t<tr><td><span style=white-space:pre-wrap>&gt; 200 DM  </span></td><td>24                                                   </td><td><span style=white-space:pre-wrap>good     </span>    </td><td>furniture/appliances                                 </td><td>1258                                                 </td><td>500 - 1000 DM                                        </td><td>1 - 4 years                                          </td><td>3                                                    </td><td>3                                                    </td><td>57                                                   </td><td>none                                                 </td><td><span style=white-space:pre-wrap>own  </span>        </td><td>1                                                    </td><td>unskilled                                            </td><td>1                                                    </td><td>no                                                   </td><td>no                                                   </td></tr>\n",
       "\t<tr><td>1 - 200 DM                                              </td><td> 6                                                      </td><td><span style=white-space:pre-wrap>good     </span>       </td><td>furniture/appliances                                    </td><td> 753                                                    </td><td><span style=white-space:pre-wrap>&lt; 100 DM     </span></td><td>1 - 4 years                                             </td><td>2                                                       </td><td>3                                                       </td><td>64                                                      </td><td>none                                                    </td><td><span style=white-space:pre-wrap>own  </span>           </td><td>1                                                       </td><td><span style=white-space:pre-wrap>skilled   </span>      </td><td>1                                                       </td><td>no                                                      </td><td>no                                                      </td></tr>\n",
       "\t<tr><td>1 - 200 DM                                                  </td><td>18                                                          </td><td><span style=white-space:pre-wrap>poor     </span>           </td><td><span style=white-space:pre-wrap>business            </span></td><td>2427                                                        </td><td><span style=white-space:pre-wrap>unknown      </span>       </td><td><span style=white-space:pre-wrap>&gt; 7 years  </span>      </td><td>4                                                           </td><td>2                                                           </td><td>42                                                          </td><td>none                                                        </td><td><span style=white-space:pre-wrap>own  </span>               </td><td>2                                                           </td><td><span style=white-space:pre-wrap>skilled   </span>          </td><td>1                                                           </td><td>no                                                          </td><td>no                                                          </td></tr>\n",
       "\t<tr><td><span style=white-space:pre-wrap>unknown   </span>          </td><td>24                                                          </td><td><span style=white-space:pre-wrap>poor     </span>           </td><td><span style=white-space:pre-wrap>car                 </span></td><td>2538                                                        </td><td><span style=white-space:pre-wrap>&lt; 100 DM     </span>    </td><td><span style=white-space:pre-wrap>&gt; 7 years  </span>      </td><td>4                                                           </td><td>4                                                           </td><td>47                                                          </td><td>none                                                        </td><td><span style=white-space:pre-wrap>own  </span>               </td><td>2                                                           </td><td>unskilled                                                   </td><td>2                                                           </td><td>no                                                          </td><td>yes                                                         </td></tr>\n",
       "\t<tr><td>1 - 200 DM          </td><td>15                  </td><td>very good           </td><td>car                 </td><td>1264                </td><td>100 - 500 DM        </td><td>1 - 4 years         </td><td>2                   </td><td>2                   </td><td>25                  </td><td>none                </td><td>rent                </td><td>1                   </td><td>skilled             </td><td>1                   </td><td>no                  </td><td>yes                 </td></tr>\n",
       "\t<tr><td>1 - 200 DM                                              </td><td>30                                                      </td><td>critical                                                </td><td>furniture/appliances                                    </td><td>8386                                                    </td><td><span style=white-space:pre-wrap>&lt; 100 DM     </span></td><td>4 - 7 years                                             </td><td>2                                                       </td><td>2                                                       </td><td>49                                                      </td><td>none                                                    </td><td><span style=white-space:pre-wrap>own  </span>           </td><td>1                                                       </td><td><span style=white-space:pre-wrap>skilled   </span>      </td><td>1                                                       </td><td>no                                                      </td><td>yes                                                     </td></tr>\n",
       "\t<tr><td><span style=white-space:pre-wrap>unknown   </span>          </td><td>48                                                          </td><td><span style=white-space:pre-wrap>good     </span>           </td><td><span style=white-space:pre-wrap>business            </span></td><td>4844                                                        </td><td><span style=white-space:pre-wrap>&lt; 100 DM     </span>    </td><td>unemployed                                                  </td><td>3                                                           </td><td>2                                                           </td><td>33                                                          </td><td>bank                                                        </td><td>rent                                                        </td><td>1                                                           </td><td>management                                                  </td><td>1                                                           </td><td>yes                                                         </td><td>yes                                                         </td></tr>\n",
       "\t<tr><td><span style=white-space:pre-wrap>&gt; 200 DM  </span>       </td><td>21                                                          </td><td><span style=white-space:pre-wrap>good     </span>           </td><td><span style=white-space:pre-wrap>car                 </span></td><td>2923                                                        </td><td>100 - 500 DM                                                </td><td>1 - 4 years                                                 </td><td>1                                                           </td><td>1                                                           </td><td>28                                                          </td><td>bank                                                        </td><td><span style=white-space:pre-wrap>own  </span>               </td><td>1                                                           </td><td>management                                                  </td><td>1                                                           </td><td>yes                                                         </td><td>no                                                          </td></tr>\n",
       "\t<tr><td><span style=white-space:pre-wrap>&lt; 0 DM    </span>       </td><td>36                                                          </td><td><span style=white-space:pre-wrap>good     </span>           </td><td><span style=white-space:pre-wrap>car                 </span></td><td>8229                                                        </td><td><span style=white-space:pre-wrap>&lt; 100 DM     </span>    </td><td>1 - 4 years                                                 </td><td>2                                                           </td><td>2                                                           </td><td>26                                                          </td><td>none                                                        </td><td><span style=white-space:pre-wrap>own  </span>               </td><td>1                                                           </td><td><span style=white-space:pre-wrap>skilled   </span>          </td><td>2                                                           </td><td>no                                                          </td><td>yes                                                         </td></tr>\n",
       "\t<tr><td><span style=white-space:pre-wrap>unknown   </span>      </td><td>24                                                      </td><td>critical                                                </td><td>furniture/appliances                                    </td><td>2028                                                    </td><td><span style=white-space:pre-wrap>&lt; 100 DM     </span></td><td>4 - 7 years                                             </td><td>2                                                       </td><td>2                                                       </td><td>30                                                      </td><td>none                                                    </td><td><span style=white-space:pre-wrap>own  </span>           </td><td>2                                                       </td><td>unskilled                                               </td><td>1                                                       </td><td>no                                                      </td><td>no                                                      </td></tr>\n",
       "\t<tr><td><span style=white-space:pre-wrap>&lt; 0 DM    </span>   </td><td>15                                                      </td><td>critical                                                </td><td>furniture/appliances                                    </td><td>1433                                                    </td><td><span style=white-space:pre-wrap>&lt; 100 DM     </span></td><td>1 - 4 years                                             </td><td>4                                                       </td><td>3                                                       </td><td>25                                                      </td><td>none                                                    </td><td>rent                                                    </td><td>2                                                       </td><td><span style=white-space:pre-wrap>skilled   </span>      </td><td>1                                                       </td><td>no                                                      </td><td>no                                                      </td></tr>\n",
       "\t<tr><td><span style=white-space:pre-wrap>&gt; 200 DM  </span>       </td><td>42                                                          </td><td><span style=white-space:pre-wrap>perfect  </span>           </td><td><span style=white-space:pre-wrap>business            </span></td><td>6289                                                        </td><td><span style=white-space:pre-wrap>&lt; 100 DM     </span>    </td><td><span style=white-space:pre-wrap>&lt; 1 year   </span>      </td><td>2                                                           </td><td>1                                                           </td><td>33                                                          </td><td>none                                                        </td><td><span style=white-space:pre-wrap>own  </span>               </td><td>2                                                           </td><td><span style=white-space:pre-wrap>skilled   </span>          </td><td>1                                                           </td><td>no                                                          </td><td>no                                                          </td></tr>\n",
       "\t<tr><td>unknown             </td><td>13                  </td><td>good                </td><td>furniture/appliances</td><td>1409                </td><td>100 - 500 DM        </td><td>unemployed          </td><td>2                   </td><td>4                   </td><td>64                  </td><td>none                </td><td>own                 </td><td>1                   </td><td>skilled             </td><td>1                   </td><td>no                  </td><td>no                  </td></tr>\n",
       "\t<tr><td><span style=white-space:pre-wrap>&lt; 0 DM    </span>       </td><td>24                                                          </td><td><span style=white-space:pre-wrap>good     </span>           </td><td><span style=white-space:pre-wrap>car                 </span></td><td>6579                                                        </td><td><span style=white-space:pre-wrap>&lt; 100 DM     </span>    </td><td>unemployed                                                  </td><td>4                                                           </td><td>2                                                           </td><td>29                                                          </td><td>none                                                        </td><td>other                                                       </td><td>1                                                           </td><td>management                                                  </td><td>1                                                           </td><td>yes                                                         </td><td>no                                                          </td></tr>\n",
       "\t<tr><td>1 - 200 DM                                              </td><td>24                                                      </td><td>critical                                                </td><td>furniture/appliances                                    </td><td>1743                                                    </td><td><span style=white-space:pre-wrap>&lt; 100 DM     </span></td><td><span style=white-space:pre-wrap>&gt; 7 years  </span>  </td><td>4                                                       </td><td>2                                                       </td><td>48                                                      </td><td>none                                                    </td><td><span style=white-space:pre-wrap>own  </span>           </td><td>2                                                       </td><td>unskilled                                               </td><td>1                                                       </td><td>no                                                      </td><td>no                                                      </td></tr>\n",
       "\t<tr><td><span style=white-space:pre-wrap>unknown   </span>          </td><td>12                                                          </td><td>critical                                                    </td><td><span style=white-space:pre-wrap>education           </span></td><td>3565                                                        </td><td><span style=white-space:pre-wrap>unknown      </span>       </td><td><span style=white-space:pre-wrap>&lt; 1 year   </span>      </td><td>2                                                           </td><td>1                                                           </td><td>37                                                          </td><td>none                                                        </td><td><span style=white-space:pre-wrap>own  </span>               </td><td>2                                                           </td><td>unskilled                                                   </td><td>2                                                           </td><td>no                                                          </td><td>no                                                          </td></tr>\n",
       "\t<tr><td><span style=white-space:pre-wrap>unknown   </span>    </td><td>15                                                    </td><td>very good                                             </td><td>furniture/appliances                                  </td><td>1569                                                  </td><td>100 - 500 DM                                          </td><td><span style=white-space:pre-wrap>&gt; 7 years  </span></td><td>4                                                     </td><td>4                                                     </td><td>34                                                    </td><td>bank                                                  </td><td><span style=white-space:pre-wrap>own  </span>         </td><td>1                                                     </td><td>unskilled                                             </td><td>2                                                     </td><td>no                                                    </td><td>no                                                    </td></tr>\n",
       "\t<tr><td><span style=white-space:pre-wrap>&lt; 0 DM    </span></td><td>18                                                   </td><td><span style=white-space:pre-wrap>good     </span>    </td><td>furniture/appliances                                 </td><td>1936                                                 </td><td><span style=white-space:pre-wrap>unknown      </span></td><td>4 - 7 years                                          </td><td>2                                                    </td><td>4                                                    </td><td>23                                                   </td><td>none                                                 </td><td>rent                                                 </td><td>2                                                    </td><td>unskilled                                            </td><td>1                                                    </td><td>no                                                   </td><td>no                                                   </td></tr>\n",
       "\t<tr><td><span style=white-space:pre-wrap>&lt; 0 DM    </span>   </td><td>36                                                      </td><td><span style=white-space:pre-wrap>good     </span>       </td><td>furniture/appliances                                    </td><td>3959                                                    </td><td><span style=white-space:pre-wrap>&lt; 100 DM     </span></td><td>unemployed                                              </td><td>4                                                       </td><td>3                                                       </td><td>30                                                      </td><td>none                                                    </td><td><span style=white-space:pre-wrap>own  </span>           </td><td>1                                                       </td><td>management                                              </td><td>1                                                       </td><td>yes                                                     </td><td>no                                                      </td></tr>\n",
       "\t<tr><td><span style=white-space:pre-wrap>unknown   </span>          </td><td>12                                                          </td><td><span style=white-space:pre-wrap>good     </span>           </td><td><span style=white-space:pre-wrap>car                 </span></td><td>2390                                                        </td><td><span style=white-space:pre-wrap>unknown      </span>       </td><td><span style=white-space:pre-wrap>&gt; 7 years  </span>      </td><td>4                                                           </td><td>3                                                           </td><td>50                                                          </td><td>none                                                        </td><td><span style=white-space:pre-wrap>own  </span>               </td><td>1                                                           </td><td><span style=white-space:pre-wrap>skilled   </span>          </td><td>1                                                           </td><td>yes                                                         </td><td>no                                                          </td></tr>\n",
       "\t<tr><td><span style=white-space:pre-wrap>unknown   </span>      </td><td>12                                                      </td><td><span style=white-space:pre-wrap>good     </span>       </td><td>furniture/appliances                                    </td><td>1736                                                    </td><td><span style=white-space:pre-wrap>&lt; 100 DM     </span></td><td>4 - 7 years                                             </td><td>3                                                       </td><td>4                                                       </td><td>31                                                      </td><td>none                                                    </td><td><span style=white-space:pre-wrap>own  </span>           </td><td>1                                                       </td><td>unskilled                                               </td><td>1                                                       </td><td>no                                                      </td><td>no                                                      </td></tr>\n",
       "\t<tr><td><span style=white-space:pre-wrap>&lt; 0 DM    </span>       </td><td>30                                                          </td><td><span style=white-space:pre-wrap>good     </span>           </td><td><span style=white-space:pre-wrap>car                 </span></td><td>3857                                                        </td><td><span style=white-space:pre-wrap>&lt; 100 DM     </span>    </td><td>1 - 4 years                                                 </td><td>4                                                           </td><td>4                                                           </td><td>40                                                          </td><td>none                                                        </td><td><span style=white-space:pre-wrap>own  </span>               </td><td>1                                                           </td><td>management                                                  </td><td>1                                                           </td><td>yes                                                         </td><td>no                                                          </td></tr>\n",
       "\t<tr><td><span style=white-space:pre-wrap>unknown   </span>      </td><td>12                                                      </td><td><span style=white-space:pre-wrap>good     </span>       </td><td>furniture/appliances                                    </td><td> 804                                                    </td><td><span style=white-space:pre-wrap>&lt; 100 DM     </span></td><td><span style=white-space:pre-wrap>&gt; 7 years  </span>  </td><td>4                                                       </td><td>4                                                       </td><td>38                                                      </td><td>none                                                    </td><td><span style=white-space:pre-wrap>own  </span>           </td><td>1                                                       </td><td><span style=white-space:pre-wrap>skilled   </span>      </td><td>1                                                       </td><td>no                                                      </td><td>no                                                      </td></tr>\n",
       "\t<tr><td><span style=white-space:pre-wrap>&lt; 0 DM    </span>   </td><td>45                                                      </td><td><span style=white-space:pre-wrap>good     </span>       </td><td>furniture/appliances                                    </td><td>1845                                                    </td><td><span style=white-space:pre-wrap>&lt; 100 DM     </span></td><td>1 - 4 years                                             </td><td>4                                                       </td><td>4                                                       </td><td>23                                                      </td><td>none                                                    </td><td>other                                                   </td><td>1                                                       </td><td><span style=white-space:pre-wrap>skilled   </span>      </td><td>1                                                       </td><td>yes                                                     </td><td>yes                                                     </td></tr>\n",
       "\t<tr><td>1 - 200 DM          </td><td>45                  </td><td>critical            </td><td>car                 </td><td>4576                </td><td>100 - 500 DM        </td><td>unemployed          </td><td>3                   </td><td>4                   </td><td>27                  </td><td>none                </td><td>own                 </td><td>1                   </td><td>skilled             </td><td>1                   </td><td>no                  </td><td>no                  </td></tr>\n",
       "</tbody>\n",
       "</table>\n"
      ],
      "text/latex": [
       "\\begin{tabular}{r|lllllllllllllllll}\n",
       " checking\\_balance & months\\_loan\\_duration & credit\\_history & purpose & amount & savings\\_balance & employment\\_duration & percent\\_of\\_income & years\\_at\\_residence & age & other\\_credit & housing & existing\\_loans\\_count & job & dependents & phone & default\\\\\n",
       "\\hline\n",
       "\t < 0 DM               &  6                   & critical             & furniture/appliances &  1169                & unknown              & > 7 years            & 4                    & 4                    & 67                   & none                 & own                  & 2                    & skilled              & 1                    & yes                  & no                  \\\\\n",
       "\t 1 - 200 DM           & 48                   & good                 & furniture/appliances &  5951                & < 100 DM             & 1 - 4 years          & 2                    & 2                    & 22                   & none                 & own                  & 1                    & skilled              & 1                    & no                   & yes                 \\\\\n",
       "\t unknown              & 12                   & critical             & education            &  2096                & < 100 DM             & 4 - 7 years          & 2                    & 3                    & 49                   & none                 & own                  & 1                    & unskilled            & 2                    & no                   & no                  \\\\\n",
       "\t < 0 DM               & 42                   & good                 & furniture/appliances &  7882                & < 100 DM             & 4 - 7 years          & 2                    & 4                    & 45                   & none                 & other                & 1                    & skilled              & 2                    & no                   & no                  \\\\\n",
       "\t < 0 DM               & 24                   & poor                 & car                  &  4870                & < 100 DM             & 1 - 4 years          & 3                    & 4                    & 53                   & none                 & other                & 2                    & skilled              & 2                    & no                   & yes                 \\\\\n",
       "\t unknown              & 36                   & good                 & education            &  9055                & unknown              & 1 - 4 years          & 2                    & 4                    & 35                   & none                 & other                & 1                    & unskilled            & 2                    & yes                  & no                  \\\\\n",
       "\t unknown              & 24                   & good                 & furniture/appliances &  2835                & 500 - 1000 DM        & > 7 years            & 3                    & 4                    & 53                   & none                 & own                  & 1                    & skilled              & 1                    & no                   & no                  \\\\\n",
       "\t 1 - 200 DM           & 36                   & good                 & car                  &  6948                & < 100 DM             & 1 - 4 years          & 2                    & 2                    & 35                   & none                 & rent                 & 1                    & management           & 1                    & yes                  & no                  \\\\\n",
       "\t unknown              & 12                   & good                 & furniture/appliances &  3059                & > 1000 DM            & 4 - 7 years          & 2                    & 4                    & 61                   & none                 & own                  & 1                    & unskilled            & 1                    & no                   & no                  \\\\\n",
       "\t 1 - 200 DM           & 30                   & critical             & car                  &  5234                & < 100 DM             & unemployed           & 4                    & 2                    & 28                   & none                 & own                  & 2                    & management           & 1                    & no                   & yes                 \\\\\n",
       "\t 1 - 200 DM           & 12                   & good                 & car                  &  1295                & < 100 DM             & < 1 year             & 3                    & 1                    & 25                   & none                 & rent                 & 1                    & skilled              & 1                    & no                   & yes                 \\\\\n",
       "\t < 0 DM               & 48                   & good                 & business             &  4308                & < 100 DM             & < 1 year             & 3                    & 4                    & 24                   & none                 & rent                 & 1                    & skilled              & 1                    & no                   & yes                 \\\\\n",
       "\t 1 - 200 DM           & 12                   & good                 & furniture/appliances &  1567                & < 100 DM             & 1 - 4 years          & 1                    & 1                    & 22                   & none                 & own                  & 1                    & skilled              & 1                    & yes                  & no                  \\\\\n",
       "\t < 0 DM               & 24                   & critical             & car                  &  1199                & < 100 DM             & > 7 years            & 4                    & 4                    & 60                   & none                 & own                  & 2                    & unskilled            & 1                    & no                   & yes                 \\\\\n",
       "\t < 0 DM               & 15                   & good                 & car                  &  1403                & < 100 DM             & 1 - 4 years          & 2                    & 4                    & 28                   & none                 & rent                 & 1                    & skilled              & 1                    & no                   & no                  \\\\\n",
       "\t < 0 DM               & 24                   & good                 & furniture/appliances &  1282                & 100 - 500 DM         & 1 - 4 years          & 4                    & 2                    & 32                   & none                 & own                  & 1                    & unskilled            & 1                    & no                   & yes                 \\\\\n",
       "\t unknown              & 24                   & critical             & furniture/appliances &  2424                & unknown              & > 7 years            & 4                    & 4                    & 53                   & none                 & own                  & 2                    & skilled              & 1                    & no                   & no                  \\\\\n",
       "\t < 0 DM               & 30                   & perfect              & business             &  8072                & unknown              & < 1 year             & 2                    & 3                    & 25                   & bank                 & own                  & 3                    & skilled              & 1                    & no                   & no                  \\\\\n",
       "\t 1 - 200 DM           & 24                   & good                 & car                  & 12579                & < 100 DM             & > 7 years            & 4                    & 2                    & 44                   & none                 & other                & 1                    & management           & 1                    & yes                  & yes                 \\\\\n",
       "\t unknown              & 24                   & good                 & furniture/appliances &  3430                & 500 - 1000 DM        & > 7 years            & 3                    & 2                    & 31                   & none                 & own                  & 1                    & skilled              & 2                    & yes                  & no                  \\\\\n",
       "\t unknown              &  9                   & critical             & car                  &  2134                & < 100 DM             & 1 - 4 years          & 4                    & 4                    & 48                   & none                 & own                  & 3                    & skilled              & 1                    & yes                  & no                  \\\\\n",
       "\t < 0 DM               &  6                   & good                 & furniture/appliances &  2647                & 500 - 1000 DM        & 1 - 4 years          & 2                    & 3                    & 44                   & none                 & rent                 & 1                    & skilled              & 2                    & no                   & no                  \\\\\n",
       "\t < 0 DM               & 10                   & critical             & car                  &  2241                & < 100 DM             & < 1 year             & 1                    & 3                    & 48                   & none                 & rent                 & 2                    & unskilled            & 2                    & no                   & no                  \\\\\n",
       "\t 1 - 200 DM           & 12                   & critical             & car                  &  1804                & 100 - 500 DM         & < 1 year             & 3                    & 4                    & 44                   & none                 & own                  & 1                    & skilled              & 1                    & no                   & no                  \\\\\n",
       "\t unknown              & 10                   & critical             & furniture/appliances &  2069                & unknown              & 1 - 4 years          & 2                    & 1                    & 26                   & none                 & own                  & 2                    & skilled              & 1                    & no                   & no                  \\\\\n",
       "\t < 0 DM               &  6                   & good                 & furniture/appliances &  1374                & < 100 DM             & 1 - 4 years          & 1                    & 2                    & 36                   & bank                 & own                  & 1                    & unskilled            & 1                    & yes                  & no                  \\\\\n",
       "\t unknown              &  6                   & perfect              & furniture/appliances &   426                & < 100 DM             & > 7 years            & 4                    & 4                    & 39                   & none                 & own                  & 1                    & unskilled            & 1                    & no                   & no                  \\\\\n",
       "\t > 200 DM             & 12                   & very good            & furniture/appliances &   409                & > 1000 DM            & 1 - 4 years          & 3                    & 3                    & 42                   & none                 & rent                 & 2                    & skilled              & 1                    & no                   & no                  \\\\\n",
       "\t 1 - 200 DM           &  7                   & good                 & furniture/appliances &  2415                & < 100 DM             & 1 - 4 years          & 3                    & 2                    & 34                   & none                 & own                  & 1                    & skilled              & 1                    & no                   & no                  \\\\\n",
       "\t < 0 DM               & 60                   & poor                 & business             &  6836                & < 100 DM             & > 7 years            & 3                    & 4                    & 63                   & none                 & own                  & 2                    & skilled              & 1                    & yes                  & yes                 \\\\\n",
       "\t ⋮ & ⋮ & ⋮ & ⋮ & ⋮ & ⋮ & ⋮ & ⋮ & ⋮ & ⋮ & ⋮ & ⋮ & ⋮ & ⋮ & ⋮ & ⋮ & ⋮\\\\\n",
       "\t 1 - 200 DM           & 15                   & good                 & renovations          & 1514                 & 100 - 500 DM         & 1 - 4 years          & 4                    & 2                    & 22                   & none                 & own                  & 1                    & skilled              & 1                    & no                   & no                  \\\\\n",
       "\t unknown              & 24                   & good                 & car                  & 7393                 & < 100 DM             & 1 - 4 years          & 1                    & 4                    & 43                   & none                 & own                  & 1                    & unskilled            & 2                    & no                   & no                  \\\\\n",
       "\t < 0 DM               & 24                   & very good            & car                  & 1193                 & < 100 DM             & unemployed           & 1                    & 4                    & 29                   & none                 & rent                 & 2                    & unemployed           & 1                    & no                   & yes                 \\\\\n",
       "\t < 0 DM               & 60                   & good                 & business             & 7297                 & < 100 DM             & > 7 years            & 4                    & 4                    & 36                   & none                 & rent                 & 1                    & skilled              & 1                    & no                   & yes                 \\\\\n",
       "\t unknown              & 30                   & critical             & furniture/appliances & 2831                 & < 100 DM             & 1 - 4 years          & 4                    & 2                    & 33                   & none                 & own                  & 1                    & skilled              & 1                    & yes                  & no                  \\\\\n",
       "\t > 200 DM             & 24                   & good                 & furniture/appliances & 1258                 & 500 - 1000 DM        & 1 - 4 years          & 3                    & 3                    & 57                   & none                 & own                  & 1                    & unskilled            & 1                    & no                   & no                  \\\\\n",
       "\t 1 - 200 DM           &  6                   & good                 & furniture/appliances &  753                 & < 100 DM             & 1 - 4 years          & 2                    & 3                    & 64                   & none                 & own                  & 1                    & skilled              & 1                    & no                   & no                  \\\\\n",
       "\t 1 - 200 DM           & 18                   & poor                 & business             & 2427                 & unknown              & > 7 years            & 4                    & 2                    & 42                   & none                 & own                  & 2                    & skilled              & 1                    & no                   & no                  \\\\\n",
       "\t unknown              & 24                   & poor                 & car                  & 2538                 & < 100 DM             & > 7 years            & 4                    & 4                    & 47                   & none                 & own                  & 2                    & unskilled            & 2                    & no                   & yes                 \\\\\n",
       "\t 1 - 200 DM           & 15                   & very good            & car                  & 1264                 & 100 - 500 DM         & 1 - 4 years          & 2                    & 2                    & 25                   & none                 & rent                 & 1                    & skilled              & 1                    & no                   & yes                 \\\\\n",
       "\t 1 - 200 DM           & 30                   & critical             & furniture/appliances & 8386                 & < 100 DM             & 4 - 7 years          & 2                    & 2                    & 49                   & none                 & own                  & 1                    & skilled              & 1                    & no                   & yes                 \\\\\n",
       "\t unknown              & 48                   & good                 & business             & 4844                 & < 100 DM             & unemployed           & 3                    & 2                    & 33                   & bank                 & rent                 & 1                    & management           & 1                    & yes                  & yes                 \\\\\n",
       "\t > 200 DM             & 21                   & good                 & car                  & 2923                 & 100 - 500 DM         & 1 - 4 years          & 1                    & 1                    & 28                   & bank                 & own                  & 1                    & management           & 1                    & yes                  & no                  \\\\\n",
       "\t < 0 DM               & 36                   & good                 & car                  & 8229                 & < 100 DM             & 1 - 4 years          & 2                    & 2                    & 26                   & none                 & own                  & 1                    & skilled              & 2                    & no                   & yes                 \\\\\n",
       "\t unknown              & 24                   & critical             & furniture/appliances & 2028                 & < 100 DM             & 4 - 7 years          & 2                    & 2                    & 30                   & none                 & own                  & 2                    & unskilled            & 1                    & no                   & no                  \\\\\n",
       "\t < 0 DM               & 15                   & critical             & furniture/appliances & 1433                 & < 100 DM             & 1 - 4 years          & 4                    & 3                    & 25                   & none                 & rent                 & 2                    & skilled              & 1                    & no                   & no                  \\\\\n",
       "\t > 200 DM             & 42                   & perfect              & business             & 6289                 & < 100 DM             & < 1 year             & 2                    & 1                    & 33                   & none                 & own                  & 2                    & skilled              & 1                    & no                   & no                  \\\\\n",
       "\t unknown              & 13                   & good                 & furniture/appliances & 1409                 & 100 - 500 DM         & unemployed           & 2                    & 4                    & 64                   & none                 & own                  & 1                    & skilled              & 1                    & no                   & no                  \\\\\n",
       "\t < 0 DM               & 24                   & good                 & car                  & 6579                 & < 100 DM             & unemployed           & 4                    & 2                    & 29                   & none                 & other                & 1                    & management           & 1                    & yes                  & no                  \\\\\n",
       "\t 1 - 200 DM           & 24                   & critical             & furniture/appliances & 1743                 & < 100 DM             & > 7 years            & 4                    & 2                    & 48                   & none                 & own                  & 2                    & unskilled            & 1                    & no                   & no                  \\\\\n",
       "\t unknown              & 12                   & critical             & education            & 3565                 & unknown              & < 1 year             & 2                    & 1                    & 37                   & none                 & own                  & 2                    & unskilled            & 2                    & no                   & no                  \\\\\n",
       "\t unknown              & 15                   & very good            & furniture/appliances & 1569                 & 100 - 500 DM         & > 7 years            & 4                    & 4                    & 34                   & bank                 & own                  & 1                    & unskilled            & 2                    & no                   & no                  \\\\\n",
       "\t < 0 DM               & 18                   & good                 & furniture/appliances & 1936                 & unknown              & 4 - 7 years          & 2                    & 4                    & 23                   & none                 & rent                 & 2                    & unskilled            & 1                    & no                   & no                  \\\\\n",
       "\t < 0 DM               & 36                   & good                 & furniture/appliances & 3959                 & < 100 DM             & unemployed           & 4                    & 3                    & 30                   & none                 & own                  & 1                    & management           & 1                    & yes                  & no                  \\\\\n",
       "\t unknown              & 12                   & good                 & car                  & 2390                 & unknown              & > 7 years            & 4                    & 3                    & 50                   & none                 & own                  & 1                    & skilled              & 1                    & yes                  & no                  \\\\\n",
       "\t unknown              & 12                   & good                 & furniture/appliances & 1736                 & < 100 DM             & 4 - 7 years          & 3                    & 4                    & 31                   & none                 & own                  & 1                    & unskilled            & 1                    & no                   & no                  \\\\\n",
       "\t < 0 DM               & 30                   & good                 & car                  & 3857                 & < 100 DM             & 1 - 4 years          & 4                    & 4                    & 40                   & none                 & own                  & 1                    & management           & 1                    & yes                  & no                  \\\\\n",
       "\t unknown              & 12                   & good                 & furniture/appliances &  804                 & < 100 DM             & > 7 years            & 4                    & 4                    & 38                   & none                 & own                  & 1                    & skilled              & 1                    & no                   & no                  \\\\\n",
       "\t < 0 DM               & 45                   & good                 & furniture/appliances & 1845                 & < 100 DM             & 1 - 4 years          & 4                    & 4                    & 23                   & none                 & other                & 1                    & skilled              & 1                    & yes                  & yes                 \\\\\n",
       "\t 1 - 200 DM           & 45                   & critical             & car                  & 4576                 & 100 - 500 DM         & unemployed           & 3                    & 4                    & 27                   & none                 & own                  & 1                    & skilled              & 1                    & no                   & no                  \\\\\n",
       "\\end{tabular}\n"
      ],
      "text/markdown": [
       "\n",
       "checking_balance | months_loan_duration | credit_history | purpose | amount | savings_balance | employment_duration | percent_of_income | years_at_residence | age | other_credit | housing | existing_loans_count | job | dependents | phone | default | \n",
       "|---|---|---|---|---|---|---|---|---|---|---|---|---|---|---|---|---|---|---|---|---|---|---|---|---|---|---|---|---|---|---|---|---|---|---|---|---|---|---|---|---|---|---|---|---|---|---|---|---|---|---|---|---|---|---|---|---|---|---|---|---|\n",
       "| < 0 DM               |  6                   | critical             | furniture/appliances |  1169                | unknown              | > 7 years            | 4                    | 4                    | 67                   | none                 | own                  | 2                    | skilled              | 1                    | yes                  | no                   | \n",
       "| 1 - 200 DM           | 48                   | good                 | furniture/appliances |  5951                | < 100 DM             | 1 - 4 years          | 2                    | 2                    | 22                   | none                 | own                  | 1                    | skilled              | 1                    | no                   | yes                  | \n",
       "| unknown              | 12                   | critical             | education            |  2096                | < 100 DM             | 4 - 7 years          | 2                    | 3                    | 49                   | none                 | own                  | 1                    | unskilled            | 2                    | no                   | no                   | \n",
       "| < 0 DM               | 42                   | good                 | furniture/appliances |  7882                | < 100 DM             | 4 - 7 years          | 2                    | 4                    | 45                   | none                 | other                | 1                    | skilled              | 2                    | no                   | no                   | \n",
       "| < 0 DM               | 24                   | poor                 | car                  |  4870                | < 100 DM             | 1 - 4 years          | 3                    | 4                    | 53                   | none                 | other                | 2                    | skilled              | 2                    | no                   | yes                  | \n",
       "| unknown              | 36                   | good                 | education            |  9055                | unknown              | 1 - 4 years          | 2                    | 4                    | 35                   | none                 | other                | 1                    | unskilled            | 2                    | yes                  | no                   | \n",
       "| unknown              | 24                   | good                 | furniture/appliances |  2835                | 500 - 1000 DM        | > 7 years            | 3                    | 4                    | 53                   | none                 | own                  | 1                    | skilled              | 1                    | no                   | no                   | \n",
       "| 1 - 200 DM           | 36                   | good                 | car                  |  6948                | < 100 DM             | 1 - 4 years          | 2                    | 2                    | 35                   | none                 | rent                 | 1                    | management           | 1                    | yes                  | no                   | \n",
       "| unknown              | 12                   | good                 | furniture/appliances |  3059                | > 1000 DM            | 4 - 7 years          | 2                    | 4                    | 61                   | none                 | own                  | 1                    | unskilled            | 1                    | no                   | no                   | \n",
       "| 1 - 200 DM           | 30                   | critical             | car                  |  5234                | < 100 DM             | unemployed           | 4                    | 2                    | 28                   | none                 | own                  | 2                    | management           | 1                    | no                   | yes                  | \n",
       "| 1 - 200 DM           | 12                   | good                 | car                  |  1295                | < 100 DM             | < 1 year             | 3                    | 1                    | 25                   | none                 | rent                 | 1                    | skilled              | 1                    | no                   | yes                  | \n",
       "| < 0 DM               | 48                   | good                 | business             |  4308                | < 100 DM             | < 1 year             | 3                    | 4                    | 24                   | none                 | rent                 | 1                    | skilled              | 1                    | no                   | yes                  | \n",
       "| 1 - 200 DM           | 12                   | good                 | furniture/appliances |  1567                | < 100 DM             | 1 - 4 years          | 1                    | 1                    | 22                   | none                 | own                  | 1                    | skilled              | 1                    | yes                  | no                   | \n",
       "| < 0 DM               | 24                   | critical             | car                  |  1199                | < 100 DM             | > 7 years            | 4                    | 4                    | 60                   | none                 | own                  | 2                    | unskilled            | 1                    | no                   | yes                  | \n",
       "| < 0 DM               | 15                   | good                 | car                  |  1403                | < 100 DM             | 1 - 4 years          | 2                    | 4                    | 28                   | none                 | rent                 | 1                    | skilled              | 1                    | no                   | no                   | \n",
       "| < 0 DM               | 24                   | good                 | furniture/appliances |  1282                | 100 - 500 DM         | 1 - 4 years          | 4                    | 2                    | 32                   | none                 | own                  | 1                    | unskilled            | 1                    | no                   | yes                  | \n",
       "| unknown              | 24                   | critical             | furniture/appliances |  2424                | unknown              | > 7 years            | 4                    | 4                    | 53                   | none                 | own                  | 2                    | skilled              | 1                    | no                   | no                   | \n",
       "| < 0 DM               | 30                   | perfect              | business             |  8072                | unknown              | < 1 year             | 2                    | 3                    | 25                   | bank                 | own                  | 3                    | skilled              | 1                    | no                   | no                   | \n",
       "| 1 - 200 DM           | 24                   | good                 | car                  | 12579                | < 100 DM             | > 7 years            | 4                    | 2                    | 44                   | none                 | other                | 1                    | management           | 1                    | yes                  | yes                  | \n",
       "| unknown              | 24                   | good                 | furniture/appliances |  3430                | 500 - 1000 DM        | > 7 years            | 3                    | 2                    | 31                   | none                 | own                  | 1                    | skilled              | 2                    | yes                  | no                   | \n",
       "| unknown              |  9                   | critical             | car                  |  2134                | < 100 DM             | 1 - 4 years          | 4                    | 4                    | 48                   | none                 | own                  | 3                    | skilled              | 1                    | yes                  | no                   | \n",
       "| < 0 DM               |  6                   | good                 | furniture/appliances |  2647                | 500 - 1000 DM        | 1 - 4 years          | 2                    | 3                    | 44                   | none                 | rent                 | 1                    | skilled              | 2                    | no                   | no                   | \n",
       "| < 0 DM               | 10                   | critical             | car                  |  2241                | < 100 DM             | < 1 year             | 1                    | 3                    | 48                   | none                 | rent                 | 2                    | unskilled            | 2                    | no                   | no                   | \n",
       "| 1 - 200 DM           | 12                   | critical             | car                  |  1804                | 100 - 500 DM         | < 1 year             | 3                    | 4                    | 44                   | none                 | own                  | 1                    | skilled              | 1                    | no                   | no                   | \n",
       "| unknown              | 10                   | critical             | furniture/appliances |  2069                | unknown              | 1 - 4 years          | 2                    | 1                    | 26                   | none                 | own                  | 2                    | skilled              | 1                    | no                   | no                   | \n",
       "| < 0 DM               |  6                   | good                 | furniture/appliances |  1374                | < 100 DM             | 1 - 4 years          | 1                    | 2                    | 36                   | bank                 | own                  | 1                    | unskilled            | 1                    | yes                  | no                   | \n",
       "| unknown              |  6                   | perfect              | furniture/appliances |   426                | < 100 DM             | > 7 years            | 4                    | 4                    | 39                   | none                 | own                  | 1                    | unskilled            | 1                    | no                   | no                   | \n",
       "| > 200 DM             | 12                   | very good            | furniture/appliances |   409                | > 1000 DM            | 1 - 4 years          | 3                    | 3                    | 42                   | none                 | rent                 | 2                    | skilled              | 1                    | no                   | no                   | \n",
       "| 1 - 200 DM           |  7                   | good                 | furniture/appliances |  2415                | < 100 DM             | 1 - 4 years          | 3                    | 2                    | 34                   | none                 | own                  | 1                    | skilled              | 1                    | no                   | no                   | \n",
       "| < 0 DM               | 60                   | poor                 | business             |  6836                | < 100 DM             | > 7 years            | 3                    | 4                    | 63                   | none                 | own                  | 2                    | skilled              | 1                    | yes                  | yes                  | \n",
       "| ⋮ | ⋮ | ⋮ | ⋮ | ⋮ | ⋮ | ⋮ | ⋮ | ⋮ | ⋮ | ⋮ | ⋮ | ⋮ | ⋮ | ⋮ | ⋮ | ⋮ | \n",
       "| 1 - 200 DM           | 15                   | good                 | renovations          | 1514                 | 100 - 500 DM         | 1 - 4 years          | 4                    | 2                    | 22                   | none                 | own                  | 1                    | skilled              | 1                    | no                   | no                   | \n",
       "| unknown              | 24                   | good                 | car                  | 7393                 | < 100 DM             | 1 - 4 years          | 1                    | 4                    | 43                   | none                 | own                  | 1                    | unskilled            | 2                    | no                   | no                   | \n",
       "| < 0 DM               | 24                   | very good            | car                  | 1193                 | < 100 DM             | unemployed           | 1                    | 4                    | 29                   | none                 | rent                 | 2                    | unemployed           | 1                    | no                   | yes                  | \n",
       "| < 0 DM               | 60                   | good                 | business             | 7297                 | < 100 DM             | > 7 years            | 4                    | 4                    | 36                   | none                 | rent                 | 1                    | skilled              | 1                    | no                   | yes                  | \n",
       "| unknown              | 30                   | critical             | furniture/appliances | 2831                 | < 100 DM             | 1 - 4 years          | 4                    | 2                    | 33                   | none                 | own                  | 1                    | skilled              | 1                    | yes                  | no                   | \n",
       "| > 200 DM             | 24                   | good                 | furniture/appliances | 1258                 | 500 - 1000 DM        | 1 - 4 years          | 3                    | 3                    | 57                   | none                 | own                  | 1                    | unskilled            | 1                    | no                   | no                   | \n",
       "| 1 - 200 DM           |  6                   | good                 | furniture/appliances |  753                 | < 100 DM             | 1 - 4 years          | 2                    | 3                    | 64                   | none                 | own                  | 1                    | skilled              | 1                    | no                   | no                   | \n",
       "| 1 - 200 DM           | 18                   | poor                 | business             | 2427                 | unknown              | > 7 years            | 4                    | 2                    | 42                   | none                 | own                  | 2                    | skilled              | 1                    | no                   | no                   | \n",
       "| unknown              | 24                   | poor                 | car                  | 2538                 | < 100 DM             | > 7 years            | 4                    | 4                    | 47                   | none                 | own                  | 2                    | unskilled            | 2                    | no                   | yes                  | \n",
       "| 1 - 200 DM           | 15                   | very good            | car                  | 1264                 | 100 - 500 DM         | 1 - 4 years          | 2                    | 2                    | 25                   | none                 | rent                 | 1                    | skilled              | 1                    | no                   | yes                  | \n",
       "| 1 - 200 DM           | 30                   | critical             | furniture/appliances | 8386                 | < 100 DM             | 4 - 7 years          | 2                    | 2                    | 49                   | none                 | own                  | 1                    | skilled              | 1                    | no                   | yes                  | \n",
       "| unknown              | 48                   | good                 | business             | 4844                 | < 100 DM             | unemployed           | 3                    | 2                    | 33                   | bank                 | rent                 | 1                    | management           | 1                    | yes                  | yes                  | \n",
       "| > 200 DM             | 21                   | good                 | car                  | 2923                 | 100 - 500 DM         | 1 - 4 years          | 1                    | 1                    | 28                   | bank                 | own                  | 1                    | management           | 1                    | yes                  | no                   | \n",
       "| < 0 DM               | 36                   | good                 | car                  | 8229                 | < 100 DM             | 1 - 4 years          | 2                    | 2                    | 26                   | none                 | own                  | 1                    | skilled              | 2                    | no                   | yes                  | \n",
       "| unknown              | 24                   | critical             | furniture/appliances | 2028                 | < 100 DM             | 4 - 7 years          | 2                    | 2                    | 30                   | none                 | own                  | 2                    | unskilled            | 1                    | no                   | no                   | \n",
       "| < 0 DM               | 15                   | critical             | furniture/appliances | 1433                 | < 100 DM             | 1 - 4 years          | 4                    | 3                    | 25                   | none                 | rent                 | 2                    | skilled              | 1                    | no                   | no                   | \n",
       "| > 200 DM             | 42                   | perfect              | business             | 6289                 | < 100 DM             | < 1 year             | 2                    | 1                    | 33                   | none                 | own                  | 2                    | skilled              | 1                    | no                   | no                   | \n",
       "| unknown              | 13                   | good                 | furniture/appliances | 1409                 | 100 - 500 DM         | unemployed           | 2                    | 4                    | 64                   | none                 | own                  | 1                    | skilled              | 1                    | no                   | no                   | \n",
       "| < 0 DM               | 24                   | good                 | car                  | 6579                 | < 100 DM             | unemployed           | 4                    | 2                    | 29                   | none                 | other                | 1                    | management           | 1                    | yes                  | no                   | \n",
       "| 1 - 200 DM           | 24                   | critical             | furniture/appliances | 1743                 | < 100 DM             | > 7 years            | 4                    | 2                    | 48                   | none                 | own                  | 2                    | unskilled            | 1                    | no                   | no                   | \n",
       "| unknown              | 12                   | critical             | education            | 3565                 | unknown              | < 1 year             | 2                    | 1                    | 37                   | none                 | own                  | 2                    | unskilled            | 2                    | no                   | no                   | \n",
       "| unknown              | 15                   | very good            | furniture/appliances | 1569                 | 100 - 500 DM         | > 7 years            | 4                    | 4                    | 34                   | bank                 | own                  | 1                    | unskilled            | 2                    | no                   | no                   | \n",
       "| < 0 DM               | 18                   | good                 | furniture/appliances | 1936                 | unknown              | 4 - 7 years          | 2                    | 4                    | 23                   | none                 | rent                 | 2                    | unskilled            | 1                    | no                   | no                   | \n",
       "| < 0 DM               | 36                   | good                 | furniture/appliances | 3959                 | < 100 DM             | unemployed           | 4                    | 3                    | 30                   | none                 | own                  | 1                    | management           | 1                    | yes                  | no                   | \n",
       "| unknown              | 12                   | good                 | car                  | 2390                 | unknown              | > 7 years            | 4                    | 3                    | 50                   | none                 | own                  | 1                    | skilled              | 1                    | yes                  | no                   | \n",
       "| unknown              | 12                   | good                 | furniture/appliances | 1736                 | < 100 DM             | 4 - 7 years          | 3                    | 4                    | 31                   | none                 | own                  | 1                    | unskilled            | 1                    | no                   | no                   | \n",
       "| < 0 DM               | 30                   | good                 | car                  | 3857                 | < 100 DM             | 1 - 4 years          | 4                    | 4                    | 40                   | none                 | own                  | 1                    | management           | 1                    | yes                  | no                   | \n",
       "| unknown              | 12                   | good                 | furniture/appliances |  804                 | < 100 DM             | > 7 years            | 4                    | 4                    | 38                   | none                 | own                  | 1                    | skilled              | 1                    | no                   | no                   | \n",
       "| < 0 DM               | 45                   | good                 | furniture/appliances | 1845                 | < 100 DM             | 1 - 4 years          | 4                    | 4                    | 23                   | none                 | other                | 1                    | skilled              | 1                    | yes                  | yes                  | \n",
       "| 1 - 200 DM           | 45                   | critical             | car                  | 4576                 | 100 - 500 DM         | unemployed           | 3                    | 4                    | 27                   | none                 | own                  | 1                    | skilled              | 1                    | no                   | no                   | \n",
       "\n",
       "\n"
      ],
      "text/plain": [
       "     checking_balance months_loan_duration credit_history purpose             \n",
       "1    < 0 DM            6                   critical       furniture/appliances\n",
       "2    1 - 200 DM       48                   good           furniture/appliances\n",
       "3    unknown          12                   critical       education           \n",
       "4    < 0 DM           42                   good           furniture/appliances\n",
       "5    < 0 DM           24                   poor           car                 \n",
       "6    unknown          36                   good           education           \n",
       "7    unknown          24                   good           furniture/appliances\n",
       "8    1 - 200 DM       36                   good           car                 \n",
       "9    unknown          12                   good           furniture/appliances\n",
       "10   1 - 200 DM       30                   critical       car                 \n",
       "11   1 - 200 DM       12                   good           car                 \n",
       "12   < 0 DM           48                   good           business            \n",
       "13   1 - 200 DM       12                   good           furniture/appliances\n",
       "14   < 0 DM           24                   critical       car                 \n",
       "15   < 0 DM           15                   good           car                 \n",
       "16   < 0 DM           24                   good           furniture/appliances\n",
       "17   unknown          24                   critical       furniture/appliances\n",
       "18   < 0 DM           30                   perfect        business            \n",
       "19   1 - 200 DM       24                   good           car                 \n",
       "20   unknown          24                   good           furniture/appliances\n",
       "21   unknown           9                   critical       car                 \n",
       "22   < 0 DM            6                   good           furniture/appliances\n",
       "23   < 0 DM           10                   critical       car                 \n",
       "24   1 - 200 DM       12                   critical       car                 \n",
       "25   unknown          10                   critical       furniture/appliances\n",
       "26   < 0 DM            6                   good           furniture/appliances\n",
       "27   unknown           6                   perfect        furniture/appliances\n",
       "28   > 200 DM         12                   very good      furniture/appliances\n",
       "29   1 - 200 DM        7                   good           furniture/appliances\n",
       "30   < 0 DM           60                   poor           business            \n",
       "⋮    ⋮                ⋮                    ⋮              ⋮                   \n",
       "971  1 - 200 DM       15                   good           renovations         \n",
       "972  unknown          24                   good           car                 \n",
       "973  < 0 DM           24                   very good      car                 \n",
       "974  < 0 DM           60                   good           business            \n",
       "975  unknown          30                   critical       furniture/appliances\n",
       "976  > 200 DM         24                   good           furniture/appliances\n",
       "977  1 - 200 DM        6                   good           furniture/appliances\n",
       "978  1 - 200 DM       18                   poor           business            \n",
       "979  unknown          24                   poor           car                 \n",
       "980  1 - 200 DM       15                   very good      car                 \n",
       "981  1 - 200 DM       30                   critical       furniture/appliances\n",
       "982  unknown          48                   good           business            \n",
       "983  > 200 DM         21                   good           car                 \n",
       "984  < 0 DM           36                   good           car                 \n",
       "985  unknown          24                   critical       furniture/appliances\n",
       "986  < 0 DM           15                   critical       furniture/appliances\n",
       "987  > 200 DM         42                   perfect        business            \n",
       "988  unknown          13                   good           furniture/appliances\n",
       "989  < 0 DM           24                   good           car                 \n",
       "990  1 - 200 DM       24                   critical       furniture/appliances\n",
       "991  unknown          12                   critical       education           \n",
       "992  unknown          15                   very good      furniture/appliances\n",
       "993  < 0 DM           18                   good           furniture/appliances\n",
       "994  < 0 DM           36                   good           furniture/appliances\n",
       "995  unknown          12                   good           car                 \n",
       "996  unknown          12                   good           furniture/appliances\n",
       "997  < 0 DM           30                   good           car                 \n",
       "998  unknown          12                   good           furniture/appliances\n",
       "999  < 0 DM           45                   good           furniture/appliances\n",
       "1000 1 - 200 DM       45                   critical       car                 \n",
       "     amount savings_balance employment_duration percent_of_income\n",
       "1     1169  unknown         > 7 years           4                \n",
       "2     5951  < 100 DM        1 - 4 years         2                \n",
       "3     2096  < 100 DM        4 - 7 years         2                \n",
       "4     7882  < 100 DM        4 - 7 years         2                \n",
       "5     4870  < 100 DM        1 - 4 years         3                \n",
       "6     9055  unknown         1 - 4 years         2                \n",
       "7     2835  500 - 1000 DM   > 7 years           3                \n",
       "8     6948  < 100 DM        1 - 4 years         2                \n",
       "9     3059  > 1000 DM       4 - 7 years         2                \n",
       "10    5234  < 100 DM        unemployed          4                \n",
       "11    1295  < 100 DM        < 1 year            3                \n",
       "12    4308  < 100 DM        < 1 year            3                \n",
       "13    1567  < 100 DM        1 - 4 years         1                \n",
       "14    1199  < 100 DM        > 7 years           4                \n",
       "15    1403  < 100 DM        1 - 4 years         2                \n",
       "16    1282  100 - 500 DM    1 - 4 years         4                \n",
       "17    2424  unknown         > 7 years           4                \n",
       "18    8072  unknown         < 1 year            2                \n",
       "19   12579  < 100 DM        > 7 years           4                \n",
       "20    3430  500 - 1000 DM   > 7 years           3                \n",
       "21    2134  < 100 DM        1 - 4 years         4                \n",
       "22    2647  500 - 1000 DM   1 - 4 years         2                \n",
       "23    2241  < 100 DM        < 1 year            1                \n",
       "24    1804  100 - 500 DM    < 1 year            3                \n",
       "25    2069  unknown         1 - 4 years         2                \n",
       "26    1374  < 100 DM        1 - 4 years         1                \n",
       "27     426  < 100 DM        > 7 years           4                \n",
       "28     409  > 1000 DM       1 - 4 years         3                \n",
       "29    2415  < 100 DM        1 - 4 years         3                \n",
       "30    6836  < 100 DM        > 7 years           3                \n",
       "⋮    ⋮      ⋮               ⋮                   ⋮                \n",
       "971  1514   100 - 500 DM    1 - 4 years         4                \n",
       "972  7393   < 100 DM        1 - 4 years         1                \n",
       "973  1193   < 100 DM        unemployed          1                \n",
       "974  7297   < 100 DM        > 7 years           4                \n",
       "975  2831   < 100 DM        1 - 4 years         4                \n",
       "976  1258   500 - 1000 DM   1 - 4 years         3                \n",
       "977   753   < 100 DM        1 - 4 years         2                \n",
       "978  2427   unknown         > 7 years           4                \n",
       "979  2538   < 100 DM        > 7 years           4                \n",
       "980  1264   100 - 500 DM    1 - 4 years         2                \n",
       "981  8386   < 100 DM        4 - 7 years         2                \n",
       "982  4844   < 100 DM        unemployed          3                \n",
       "983  2923   100 - 500 DM    1 - 4 years         1                \n",
       "984  8229   < 100 DM        1 - 4 years         2                \n",
       "985  2028   < 100 DM        4 - 7 years         2                \n",
       "986  1433   < 100 DM        1 - 4 years         4                \n",
       "987  6289   < 100 DM        < 1 year            2                \n",
       "988  1409   100 - 500 DM    unemployed          2                \n",
       "989  6579   < 100 DM        unemployed          4                \n",
       "990  1743   < 100 DM        > 7 years           4                \n",
       "991  3565   unknown         < 1 year            2                \n",
       "992  1569   100 - 500 DM    > 7 years           4                \n",
       "993  1936   unknown         4 - 7 years         2                \n",
       "994  3959   < 100 DM        unemployed          4                \n",
       "995  2390   unknown         > 7 years           4                \n",
       "996  1736   < 100 DM        4 - 7 years         3                \n",
       "997  3857   < 100 DM        1 - 4 years         4                \n",
       "998   804   < 100 DM        > 7 years           4                \n",
       "999  1845   < 100 DM        1 - 4 years         4                \n",
       "1000 4576   100 - 500 DM    unemployed          3                \n",
       "     years_at_residence age other_credit housing existing_loans_count\n",
       "1    4                  67  none         own     2                   \n",
       "2    2                  22  none         own     1                   \n",
       "3    3                  49  none         own     1                   \n",
       "4    4                  45  none         other   1                   \n",
       "5    4                  53  none         other   2                   \n",
       "6    4                  35  none         other   1                   \n",
       "7    4                  53  none         own     1                   \n",
       "8    2                  35  none         rent    1                   \n",
       "9    4                  61  none         own     1                   \n",
       "10   2                  28  none         own     2                   \n",
       "11   1                  25  none         rent    1                   \n",
       "12   4                  24  none         rent    1                   \n",
       "13   1                  22  none         own     1                   \n",
       "14   4                  60  none         own     2                   \n",
       "15   4                  28  none         rent    1                   \n",
       "16   2                  32  none         own     1                   \n",
       "17   4                  53  none         own     2                   \n",
       "18   3                  25  bank         own     3                   \n",
       "19   2                  44  none         other   1                   \n",
       "20   2                  31  none         own     1                   \n",
       "21   4                  48  none         own     3                   \n",
       "22   3                  44  none         rent    1                   \n",
       "23   3                  48  none         rent    2                   \n",
       "24   4                  44  none         own     1                   \n",
       "25   1                  26  none         own     2                   \n",
       "26   2                  36  bank         own     1                   \n",
       "27   4                  39  none         own     1                   \n",
       "28   3                  42  none         rent    2                   \n",
       "29   2                  34  none         own     1                   \n",
       "30   4                  63  none         own     2                   \n",
       "⋮    ⋮                  ⋮   ⋮            ⋮       ⋮                   \n",
       "971  2                  22  none         own     1                   \n",
       "972  4                  43  none         own     1                   \n",
       "973  4                  29  none         rent    2                   \n",
       "974  4                  36  none         rent    1                   \n",
       "975  2                  33  none         own     1                   \n",
       "976  3                  57  none         own     1                   \n",
       "977  3                  64  none         own     1                   \n",
       "978  2                  42  none         own     2                   \n",
       "979  4                  47  none         own     2                   \n",
       "980  2                  25  none         rent    1                   \n",
       "981  2                  49  none         own     1                   \n",
       "982  2                  33  bank         rent    1                   \n",
       "983  1                  28  bank         own     1                   \n",
       "984  2                  26  none         own     1                   \n",
       "985  2                  30  none         own     2                   \n",
       "986  3                  25  none         rent    2                   \n",
       "987  1                  33  none         own     2                   \n",
       "988  4                  64  none         own     1                   \n",
       "989  2                  29  none         other   1                   \n",
       "990  2                  48  none         own     2                   \n",
       "991  1                  37  none         own     2                   \n",
       "992  4                  34  bank         own     1                   \n",
       "993  4                  23  none         rent    2                   \n",
       "994  3                  30  none         own     1                   \n",
       "995  3                  50  none         own     1                   \n",
       "996  4                  31  none         own     1                   \n",
       "997  4                  40  none         own     1                   \n",
       "998  4                  38  none         own     1                   \n",
       "999  4                  23  none         other   1                   \n",
       "1000 4                  27  none         own     1                   \n",
       "     job        dependents phone default\n",
       "1    skilled    1          yes   no     \n",
       "2    skilled    1          no    yes    \n",
       "3    unskilled  2          no    no     \n",
       "4    skilled    2          no    no     \n",
       "5    skilled    2          no    yes    \n",
       "6    unskilled  2          yes   no     \n",
       "7    skilled    1          no    no     \n",
       "8    management 1          yes   no     \n",
       "9    unskilled  1          no    no     \n",
       "10   management 1          no    yes    \n",
       "11   skilled    1          no    yes    \n",
       "12   skilled    1          no    yes    \n",
       "13   skilled    1          yes   no     \n",
       "14   unskilled  1          no    yes    \n",
       "15   skilled    1          no    no     \n",
       "16   unskilled  1          no    yes    \n",
       "17   skilled    1          no    no     \n",
       "18   skilled    1          no    no     \n",
       "19   management 1          yes   yes    \n",
       "20   skilled    2          yes   no     \n",
       "21   skilled    1          yes   no     \n",
       "22   skilled    2          no    no     \n",
       "23   unskilled  2          no    no     \n",
       "24   skilled    1          no    no     \n",
       "25   skilled    1          no    no     \n",
       "26   unskilled  1          yes   no     \n",
       "27   unskilled  1          no    no     \n",
       "28   skilled    1          no    no     \n",
       "29   skilled    1          no    no     \n",
       "30   skilled    1          yes   yes    \n",
       "⋮    ⋮          ⋮          ⋮     ⋮      \n",
       "971  skilled    1          no    no     \n",
       "972  unskilled  2          no    no     \n",
       "973  unemployed 1          no    yes    \n",
       "974  skilled    1          no    yes    \n",
       "975  skilled    1          yes   no     \n",
       "976  unskilled  1          no    no     \n",
       "977  skilled    1          no    no     \n",
       "978  skilled    1          no    no     \n",
       "979  unskilled  2          no    yes    \n",
       "980  skilled    1          no    yes    \n",
       "981  skilled    1          no    yes    \n",
       "982  management 1          yes   yes    \n",
       "983  management 1          yes   no     \n",
       "984  skilled    2          no    yes    \n",
       "985  unskilled  1          no    no     \n",
       "986  skilled    1          no    no     \n",
       "987  skilled    1          no    no     \n",
       "988  skilled    1          no    no     \n",
       "989  management 1          yes   no     \n",
       "990  unskilled  1          no    no     \n",
       "991  unskilled  2          no    no     \n",
       "992  unskilled  2          no    no     \n",
       "993  unskilled  1          no    no     \n",
       "994  management 1          yes   no     \n",
       "995  skilled    1          yes   no     \n",
       "996  unskilled  1          no    no     \n",
       "997  management 1          yes   no     \n",
       "998  skilled    1          no    no     \n",
       "999  skilled    1          yes   yes    \n",
       "1000 skilled    1          no    no     "
      ]
     },
     "metadata": {},
     "output_type": "display_data"
    }
   ],
   "source": [
    "credit = read.csv('credit.csv')\n",
    "credit"
   ]
  },
  {
   "cell_type": "markdown",
   "metadata": {},
   "source": [
    "## Strucutre of dataset"
   ]
  },
  {
   "cell_type": "code",
   "execution_count": 3,
   "metadata": {},
   "outputs": [
    {
     "name": "stdout",
     "output_type": "stream",
     "text": [
      "'data.frame':\t1000 obs. of  17 variables:\n",
      " $ checking_balance    : Factor w/ 4 levels \"< 0 DM\",\"> 200 DM\",..: 1 3 4 1 1 4 4 3 4 3 ...\n",
      " $ months_loan_duration: int  6 48 12 42 24 36 24 36 12 30 ...\n",
      " $ credit_history      : Factor w/ 5 levels \"critical\",\"good\",..: 1 2 1 2 4 2 2 2 2 1 ...\n",
      " $ purpose             : Factor w/ 6 levels \"business\",\"car\",..: 5 5 4 5 2 4 5 2 5 2 ...\n",
      " $ amount              : int  1169 5951 2096 7882 4870 9055 2835 6948 3059 5234 ...\n",
      " $ savings_balance     : Factor w/ 5 levels \"< 100 DM\",\"> 1000 DM\",..: 5 1 1 1 1 5 4 1 2 1 ...\n",
      " $ employment_duration : Factor w/ 5 levels \"< 1 year\",\"> 7 years\",..: 2 3 4 4 3 3 2 3 4 5 ...\n",
      " $ percent_of_income   : int  4 2 2 2 3 2 3 2 2 4 ...\n",
      " $ years_at_residence  : int  4 2 3 4 4 4 4 2 4 2 ...\n",
      " $ age                 : int  67 22 49 45 53 35 53 35 61 28 ...\n",
      " $ other_credit        : Factor w/ 3 levels \"bank\",\"none\",..: 2 2 2 2 2 2 2 2 2 2 ...\n",
      " $ housing             : Factor w/ 3 levels \"other\",\"own\",..: 2 2 2 1 1 1 2 3 2 2 ...\n",
      " $ existing_loans_count: int  2 1 1 1 2 1 1 1 1 2 ...\n",
      " $ job                 : Factor w/ 4 levels \"management\",\"skilled\",..: 2 2 4 2 2 4 2 1 4 1 ...\n",
      " $ dependents          : int  1 1 2 2 2 2 1 1 1 1 ...\n",
      " $ phone               : Factor w/ 2 levels \"no\",\"yes\": 2 1 1 1 1 2 1 2 1 1 ...\n",
      " $ default             : Factor w/ 2 levels \"no\",\"yes\": 1 2 1 1 2 1 1 1 1 2 ...\n"
     ]
    }
   ],
   "source": [
    "str(credit,)"
   ]
  },
  {
   "cell_type": "code",
   "execution_count": 7,
   "metadata": {
    "collapsed": true
   },
   "outputs": [],
   "source": [
    "credit_na = is.na(credit,)"
   ]
  },
  {
   "cell_type": "code",
   "execution_count": 8,
   "metadata": {},
   "outputs": [
    {
     "name": "stdout",
     "output_type": "stream",
     "text": [
      " logi [1:1000, 1:17] FALSE FALSE FALSE FALSE FALSE FALSE ...\n",
      " - attr(*, \"dimnames\")=List of 2\n",
      "  ..$ : NULL\n",
      "  ..$ : chr [1:17] \"checking_balance\" \"months_loan_duration\" \"credit_history\" \"purpose\" ...\n"
     ]
    }
   ],
   "source": [
    "str(credit_na)\n"
   ]
  },
  {
   "cell_type": "code",
   "execution_count": 9,
   "metadata": {},
   "outputs": [
    {
     "data": {
      "text/html": [
       "<table>\n",
       "<thead><tr><th scope=col>checking_balance</th><th scope=col>months_loan_duration</th><th scope=col>credit_history</th><th scope=col>purpose</th><th scope=col>amount</th><th scope=col>savings_balance</th><th scope=col>employment_duration</th><th scope=col>percent_of_income</th><th scope=col>years_at_residence</th><th scope=col>age</th><th scope=col>other_credit</th><th scope=col>housing</th><th scope=col>existing_loans_count</th><th scope=col>job</th><th scope=col>dependents</th><th scope=col>phone</th><th scope=col>default</th></tr></thead>\n",
       "<tbody>\n",
       "\t<tr><td>FALSE</td><td>FALSE</td><td>FALSE</td><td>FALSE</td><td>FALSE</td><td>FALSE</td><td>FALSE</td><td>FALSE</td><td>FALSE</td><td>FALSE</td><td>FALSE</td><td>FALSE</td><td>FALSE</td><td>FALSE</td><td>FALSE</td><td>FALSE</td><td>FALSE</td></tr>\n",
       "\t<tr><td>FALSE</td><td>FALSE</td><td>FALSE</td><td>FALSE</td><td>FALSE</td><td>FALSE</td><td>FALSE</td><td>FALSE</td><td>FALSE</td><td>FALSE</td><td>FALSE</td><td>FALSE</td><td>FALSE</td><td>FALSE</td><td>FALSE</td><td>FALSE</td><td>FALSE</td></tr>\n",
       "\t<tr><td>FALSE</td><td>FALSE</td><td>FALSE</td><td>FALSE</td><td>FALSE</td><td>FALSE</td><td>FALSE</td><td>FALSE</td><td>FALSE</td><td>FALSE</td><td>FALSE</td><td>FALSE</td><td>FALSE</td><td>FALSE</td><td>FALSE</td><td>FALSE</td><td>FALSE</td></tr>\n",
       "\t<tr><td>FALSE</td><td>FALSE</td><td>FALSE</td><td>FALSE</td><td>FALSE</td><td>FALSE</td><td>FALSE</td><td>FALSE</td><td>FALSE</td><td>FALSE</td><td>FALSE</td><td>FALSE</td><td>FALSE</td><td>FALSE</td><td>FALSE</td><td>FALSE</td><td>FALSE</td></tr>\n",
       "\t<tr><td>FALSE</td><td>FALSE</td><td>FALSE</td><td>FALSE</td><td>FALSE</td><td>FALSE</td><td>FALSE</td><td>FALSE</td><td>FALSE</td><td>FALSE</td><td>FALSE</td><td>FALSE</td><td>FALSE</td><td>FALSE</td><td>FALSE</td><td>FALSE</td><td>FALSE</td></tr>\n",
       "\t<tr><td>FALSE</td><td>FALSE</td><td>FALSE</td><td>FALSE</td><td>FALSE</td><td>FALSE</td><td>FALSE</td><td>FALSE</td><td>FALSE</td><td>FALSE</td><td>FALSE</td><td>FALSE</td><td>FALSE</td><td>FALSE</td><td>FALSE</td><td>FALSE</td><td>FALSE</td></tr>\n",
       "\t<tr><td>FALSE</td><td>FALSE</td><td>FALSE</td><td>FALSE</td><td>FALSE</td><td>FALSE</td><td>FALSE</td><td>FALSE</td><td>FALSE</td><td>FALSE</td><td>FALSE</td><td>FALSE</td><td>FALSE</td><td>FALSE</td><td>FALSE</td><td>FALSE</td><td>FALSE</td></tr>\n",
       "\t<tr><td>FALSE</td><td>FALSE</td><td>FALSE</td><td>FALSE</td><td>FALSE</td><td>FALSE</td><td>FALSE</td><td>FALSE</td><td>FALSE</td><td>FALSE</td><td>FALSE</td><td>FALSE</td><td>FALSE</td><td>FALSE</td><td>FALSE</td><td>FALSE</td><td>FALSE</td></tr>\n",
       "\t<tr><td>FALSE</td><td>FALSE</td><td>FALSE</td><td>FALSE</td><td>FALSE</td><td>FALSE</td><td>FALSE</td><td>FALSE</td><td>FALSE</td><td>FALSE</td><td>FALSE</td><td>FALSE</td><td>FALSE</td><td>FALSE</td><td>FALSE</td><td>FALSE</td><td>FALSE</td></tr>\n",
       "\t<tr><td>FALSE</td><td>FALSE</td><td>FALSE</td><td>FALSE</td><td>FALSE</td><td>FALSE</td><td>FALSE</td><td>FALSE</td><td>FALSE</td><td>FALSE</td><td>FALSE</td><td>FALSE</td><td>FALSE</td><td>FALSE</td><td>FALSE</td><td>FALSE</td><td>FALSE</td></tr>\n",
       "\t<tr><td>FALSE</td><td>FALSE</td><td>FALSE</td><td>FALSE</td><td>FALSE</td><td>FALSE</td><td>FALSE</td><td>FALSE</td><td>FALSE</td><td>FALSE</td><td>FALSE</td><td>FALSE</td><td>FALSE</td><td>FALSE</td><td>FALSE</td><td>FALSE</td><td>FALSE</td></tr>\n",
       "\t<tr><td>FALSE</td><td>FALSE</td><td>FALSE</td><td>FALSE</td><td>FALSE</td><td>FALSE</td><td>FALSE</td><td>FALSE</td><td>FALSE</td><td>FALSE</td><td>FALSE</td><td>FALSE</td><td>FALSE</td><td>FALSE</td><td>FALSE</td><td>FALSE</td><td>FALSE</td></tr>\n",
       "\t<tr><td>FALSE</td><td>FALSE</td><td>FALSE</td><td>FALSE</td><td>FALSE</td><td>FALSE</td><td>FALSE</td><td>FALSE</td><td>FALSE</td><td>FALSE</td><td>FALSE</td><td>FALSE</td><td>FALSE</td><td>FALSE</td><td>FALSE</td><td>FALSE</td><td>FALSE</td></tr>\n",
       "\t<tr><td>FALSE</td><td>FALSE</td><td>FALSE</td><td>FALSE</td><td>FALSE</td><td>FALSE</td><td>FALSE</td><td>FALSE</td><td>FALSE</td><td>FALSE</td><td>FALSE</td><td>FALSE</td><td>FALSE</td><td>FALSE</td><td>FALSE</td><td>FALSE</td><td>FALSE</td></tr>\n",
       "\t<tr><td>FALSE</td><td>FALSE</td><td>FALSE</td><td>FALSE</td><td>FALSE</td><td>FALSE</td><td>FALSE</td><td>FALSE</td><td>FALSE</td><td>FALSE</td><td>FALSE</td><td>FALSE</td><td>FALSE</td><td>FALSE</td><td>FALSE</td><td>FALSE</td><td>FALSE</td></tr>\n",
       "\t<tr><td>FALSE</td><td>FALSE</td><td>FALSE</td><td>FALSE</td><td>FALSE</td><td>FALSE</td><td>FALSE</td><td>FALSE</td><td>FALSE</td><td>FALSE</td><td>FALSE</td><td>FALSE</td><td>FALSE</td><td>FALSE</td><td>FALSE</td><td>FALSE</td><td>FALSE</td></tr>\n",
       "\t<tr><td>FALSE</td><td>FALSE</td><td>FALSE</td><td>FALSE</td><td>FALSE</td><td>FALSE</td><td>FALSE</td><td>FALSE</td><td>FALSE</td><td>FALSE</td><td>FALSE</td><td>FALSE</td><td>FALSE</td><td>FALSE</td><td>FALSE</td><td>FALSE</td><td>FALSE</td></tr>\n",
       "\t<tr><td>FALSE</td><td>FALSE</td><td>FALSE</td><td>FALSE</td><td>FALSE</td><td>FALSE</td><td>FALSE</td><td>FALSE</td><td>FALSE</td><td>FALSE</td><td>FALSE</td><td>FALSE</td><td>FALSE</td><td>FALSE</td><td>FALSE</td><td>FALSE</td><td>FALSE</td></tr>\n",
       "\t<tr><td>FALSE</td><td>FALSE</td><td>FALSE</td><td>FALSE</td><td>FALSE</td><td>FALSE</td><td>FALSE</td><td>FALSE</td><td>FALSE</td><td>FALSE</td><td>FALSE</td><td>FALSE</td><td>FALSE</td><td>FALSE</td><td>FALSE</td><td>FALSE</td><td>FALSE</td></tr>\n",
       "\t<tr><td>FALSE</td><td>FALSE</td><td>FALSE</td><td>FALSE</td><td>FALSE</td><td>FALSE</td><td>FALSE</td><td>FALSE</td><td>FALSE</td><td>FALSE</td><td>FALSE</td><td>FALSE</td><td>FALSE</td><td>FALSE</td><td>FALSE</td><td>FALSE</td><td>FALSE</td></tr>\n",
       "\t<tr><td>FALSE</td><td>FALSE</td><td>FALSE</td><td>FALSE</td><td>FALSE</td><td>FALSE</td><td>FALSE</td><td>FALSE</td><td>FALSE</td><td>FALSE</td><td>FALSE</td><td>FALSE</td><td>FALSE</td><td>FALSE</td><td>FALSE</td><td>FALSE</td><td>FALSE</td></tr>\n",
       "\t<tr><td>FALSE</td><td>FALSE</td><td>FALSE</td><td>FALSE</td><td>FALSE</td><td>FALSE</td><td>FALSE</td><td>FALSE</td><td>FALSE</td><td>FALSE</td><td>FALSE</td><td>FALSE</td><td>FALSE</td><td>FALSE</td><td>FALSE</td><td>FALSE</td><td>FALSE</td></tr>\n",
       "\t<tr><td>FALSE</td><td>FALSE</td><td>FALSE</td><td>FALSE</td><td>FALSE</td><td>FALSE</td><td>FALSE</td><td>FALSE</td><td>FALSE</td><td>FALSE</td><td>FALSE</td><td>FALSE</td><td>FALSE</td><td>FALSE</td><td>FALSE</td><td>FALSE</td><td>FALSE</td></tr>\n",
       "\t<tr><td>FALSE</td><td>FALSE</td><td>FALSE</td><td>FALSE</td><td>FALSE</td><td>FALSE</td><td>FALSE</td><td>FALSE</td><td>FALSE</td><td>FALSE</td><td>FALSE</td><td>FALSE</td><td>FALSE</td><td>FALSE</td><td>FALSE</td><td>FALSE</td><td>FALSE</td></tr>\n",
       "\t<tr><td>FALSE</td><td>FALSE</td><td>FALSE</td><td>FALSE</td><td>FALSE</td><td>FALSE</td><td>FALSE</td><td>FALSE</td><td>FALSE</td><td>FALSE</td><td>FALSE</td><td>FALSE</td><td>FALSE</td><td>FALSE</td><td>FALSE</td><td>FALSE</td><td>FALSE</td></tr>\n",
       "\t<tr><td>FALSE</td><td>FALSE</td><td>FALSE</td><td>FALSE</td><td>FALSE</td><td>FALSE</td><td>FALSE</td><td>FALSE</td><td>FALSE</td><td>FALSE</td><td>FALSE</td><td>FALSE</td><td>FALSE</td><td>FALSE</td><td>FALSE</td><td>FALSE</td><td>FALSE</td></tr>\n",
       "\t<tr><td>FALSE</td><td>FALSE</td><td>FALSE</td><td>FALSE</td><td>FALSE</td><td>FALSE</td><td>FALSE</td><td>FALSE</td><td>FALSE</td><td>FALSE</td><td>FALSE</td><td>FALSE</td><td>FALSE</td><td>FALSE</td><td>FALSE</td><td>FALSE</td><td>FALSE</td></tr>\n",
       "\t<tr><td>FALSE</td><td>FALSE</td><td>FALSE</td><td>FALSE</td><td>FALSE</td><td>FALSE</td><td>FALSE</td><td>FALSE</td><td>FALSE</td><td>FALSE</td><td>FALSE</td><td>FALSE</td><td>FALSE</td><td>FALSE</td><td>FALSE</td><td>FALSE</td><td>FALSE</td></tr>\n",
       "\t<tr><td>FALSE</td><td>FALSE</td><td>FALSE</td><td>FALSE</td><td>FALSE</td><td>FALSE</td><td>FALSE</td><td>FALSE</td><td>FALSE</td><td>FALSE</td><td>FALSE</td><td>FALSE</td><td>FALSE</td><td>FALSE</td><td>FALSE</td><td>FALSE</td><td>FALSE</td></tr>\n",
       "\t<tr><td>FALSE</td><td>FALSE</td><td>FALSE</td><td>FALSE</td><td>FALSE</td><td>FALSE</td><td>FALSE</td><td>FALSE</td><td>FALSE</td><td>FALSE</td><td>FALSE</td><td>FALSE</td><td>FALSE</td><td>FALSE</td><td>FALSE</td><td>FALSE</td><td>FALSE</td></tr>\n",
       "\t<tr><td>⋮</td><td>⋮</td><td>⋮</td><td>⋮</td><td>⋮</td><td>⋮</td><td>⋮</td><td>⋮</td><td>⋮</td><td>⋮</td><td>⋮</td><td>⋮</td><td>⋮</td><td>⋮</td><td>⋮</td><td>⋮</td><td>⋮</td></tr>\n",
       "\t<tr><td>FALSE</td><td>FALSE</td><td>FALSE</td><td>FALSE</td><td>FALSE</td><td>FALSE</td><td>FALSE</td><td>FALSE</td><td>FALSE</td><td>FALSE</td><td>FALSE</td><td>FALSE</td><td>FALSE</td><td>FALSE</td><td>FALSE</td><td>FALSE</td><td>FALSE</td></tr>\n",
       "\t<tr><td>FALSE</td><td>FALSE</td><td>FALSE</td><td>FALSE</td><td>FALSE</td><td>FALSE</td><td>FALSE</td><td>FALSE</td><td>FALSE</td><td>FALSE</td><td>FALSE</td><td>FALSE</td><td>FALSE</td><td>FALSE</td><td>FALSE</td><td>FALSE</td><td>FALSE</td></tr>\n",
       "\t<tr><td>FALSE</td><td>FALSE</td><td>FALSE</td><td>FALSE</td><td>FALSE</td><td>FALSE</td><td>FALSE</td><td>FALSE</td><td>FALSE</td><td>FALSE</td><td>FALSE</td><td>FALSE</td><td>FALSE</td><td>FALSE</td><td>FALSE</td><td>FALSE</td><td>FALSE</td></tr>\n",
       "\t<tr><td>FALSE</td><td>FALSE</td><td>FALSE</td><td>FALSE</td><td>FALSE</td><td>FALSE</td><td>FALSE</td><td>FALSE</td><td>FALSE</td><td>FALSE</td><td>FALSE</td><td>FALSE</td><td>FALSE</td><td>FALSE</td><td>FALSE</td><td>FALSE</td><td>FALSE</td></tr>\n",
       "\t<tr><td>FALSE</td><td>FALSE</td><td>FALSE</td><td>FALSE</td><td>FALSE</td><td>FALSE</td><td>FALSE</td><td>FALSE</td><td>FALSE</td><td>FALSE</td><td>FALSE</td><td>FALSE</td><td>FALSE</td><td>FALSE</td><td>FALSE</td><td>FALSE</td><td>FALSE</td></tr>\n",
       "\t<tr><td>FALSE</td><td>FALSE</td><td>FALSE</td><td>FALSE</td><td>FALSE</td><td>FALSE</td><td>FALSE</td><td>FALSE</td><td>FALSE</td><td>FALSE</td><td>FALSE</td><td>FALSE</td><td>FALSE</td><td>FALSE</td><td>FALSE</td><td>FALSE</td><td>FALSE</td></tr>\n",
       "\t<tr><td>FALSE</td><td>FALSE</td><td>FALSE</td><td>FALSE</td><td>FALSE</td><td>FALSE</td><td>FALSE</td><td>FALSE</td><td>FALSE</td><td>FALSE</td><td>FALSE</td><td>FALSE</td><td>FALSE</td><td>FALSE</td><td>FALSE</td><td>FALSE</td><td>FALSE</td></tr>\n",
       "\t<tr><td>FALSE</td><td>FALSE</td><td>FALSE</td><td>FALSE</td><td>FALSE</td><td>FALSE</td><td>FALSE</td><td>FALSE</td><td>FALSE</td><td>FALSE</td><td>FALSE</td><td>FALSE</td><td>FALSE</td><td>FALSE</td><td>FALSE</td><td>FALSE</td><td>FALSE</td></tr>\n",
       "\t<tr><td>FALSE</td><td>FALSE</td><td>FALSE</td><td>FALSE</td><td>FALSE</td><td>FALSE</td><td>FALSE</td><td>FALSE</td><td>FALSE</td><td>FALSE</td><td>FALSE</td><td>FALSE</td><td>FALSE</td><td>FALSE</td><td>FALSE</td><td>FALSE</td><td>FALSE</td></tr>\n",
       "\t<tr><td>FALSE</td><td>FALSE</td><td>FALSE</td><td>FALSE</td><td>FALSE</td><td>FALSE</td><td>FALSE</td><td>FALSE</td><td>FALSE</td><td>FALSE</td><td>FALSE</td><td>FALSE</td><td>FALSE</td><td>FALSE</td><td>FALSE</td><td>FALSE</td><td>FALSE</td></tr>\n",
       "\t<tr><td>FALSE</td><td>FALSE</td><td>FALSE</td><td>FALSE</td><td>FALSE</td><td>FALSE</td><td>FALSE</td><td>FALSE</td><td>FALSE</td><td>FALSE</td><td>FALSE</td><td>FALSE</td><td>FALSE</td><td>FALSE</td><td>FALSE</td><td>FALSE</td><td>FALSE</td></tr>\n",
       "\t<tr><td>FALSE</td><td>FALSE</td><td>FALSE</td><td>FALSE</td><td>FALSE</td><td>FALSE</td><td>FALSE</td><td>FALSE</td><td>FALSE</td><td>FALSE</td><td>FALSE</td><td>FALSE</td><td>FALSE</td><td>FALSE</td><td>FALSE</td><td>FALSE</td><td>FALSE</td></tr>\n",
       "\t<tr><td>FALSE</td><td>FALSE</td><td>FALSE</td><td>FALSE</td><td>FALSE</td><td>FALSE</td><td>FALSE</td><td>FALSE</td><td>FALSE</td><td>FALSE</td><td>FALSE</td><td>FALSE</td><td>FALSE</td><td>FALSE</td><td>FALSE</td><td>FALSE</td><td>FALSE</td></tr>\n",
       "\t<tr><td>FALSE</td><td>FALSE</td><td>FALSE</td><td>FALSE</td><td>FALSE</td><td>FALSE</td><td>FALSE</td><td>FALSE</td><td>FALSE</td><td>FALSE</td><td>FALSE</td><td>FALSE</td><td>FALSE</td><td>FALSE</td><td>FALSE</td><td>FALSE</td><td>FALSE</td></tr>\n",
       "\t<tr><td>FALSE</td><td>FALSE</td><td>FALSE</td><td>FALSE</td><td>FALSE</td><td>FALSE</td><td>FALSE</td><td>FALSE</td><td>FALSE</td><td>FALSE</td><td>FALSE</td><td>FALSE</td><td>FALSE</td><td>FALSE</td><td>FALSE</td><td>FALSE</td><td>FALSE</td></tr>\n",
       "\t<tr><td>FALSE</td><td>FALSE</td><td>FALSE</td><td>FALSE</td><td>FALSE</td><td>FALSE</td><td>FALSE</td><td>FALSE</td><td>FALSE</td><td>FALSE</td><td>FALSE</td><td>FALSE</td><td>FALSE</td><td>FALSE</td><td>FALSE</td><td>FALSE</td><td>FALSE</td></tr>\n",
       "\t<tr><td>FALSE</td><td>FALSE</td><td>FALSE</td><td>FALSE</td><td>FALSE</td><td>FALSE</td><td>FALSE</td><td>FALSE</td><td>FALSE</td><td>FALSE</td><td>FALSE</td><td>FALSE</td><td>FALSE</td><td>FALSE</td><td>FALSE</td><td>FALSE</td><td>FALSE</td></tr>\n",
       "\t<tr><td>FALSE</td><td>FALSE</td><td>FALSE</td><td>FALSE</td><td>FALSE</td><td>FALSE</td><td>FALSE</td><td>FALSE</td><td>FALSE</td><td>FALSE</td><td>FALSE</td><td>FALSE</td><td>FALSE</td><td>FALSE</td><td>FALSE</td><td>FALSE</td><td>FALSE</td></tr>\n",
       "\t<tr><td>FALSE</td><td>FALSE</td><td>FALSE</td><td>FALSE</td><td>FALSE</td><td>FALSE</td><td>FALSE</td><td>FALSE</td><td>FALSE</td><td>FALSE</td><td>FALSE</td><td>FALSE</td><td>FALSE</td><td>FALSE</td><td>FALSE</td><td>FALSE</td><td>FALSE</td></tr>\n",
       "\t<tr><td>FALSE</td><td>FALSE</td><td>FALSE</td><td>FALSE</td><td>FALSE</td><td>FALSE</td><td>FALSE</td><td>FALSE</td><td>FALSE</td><td>FALSE</td><td>FALSE</td><td>FALSE</td><td>FALSE</td><td>FALSE</td><td>FALSE</td><td>FALSE</td><td>FALSE</td></tr>\n",
       "\t<tr><td>FALSE</td><td>FALSE</td><td>FALSE</td><td>FALSE</td><td>FALSE</td><td>FALSE</td><td>FALSE</td><td>FALSE</td><td>FALSE</td><td>FALSE</td><td>FALSE</td><td>FALSE</td><td>FALSE</td><td>FALSE</td><td>FALSE</td><td>FALSE</td><td>FALSE</td></tr>\n",
       "\t<tr><td>FALSE</td><td>FALSE</td><td>FALSE</td><td>FALSE</td><td>FALSE</td><td>FALSE</td><td>FALSE</td><td>FALSE</td><td>FALSE</td><td>FALSE</td><td>FALSE</td><td>FALSE</td><td>FALSE</td><td>FALSE</td><td>FALSE</td><td>FALSE</td><td>FALSE</td></tr>\n",
       "\t<tr><td>FALSE</td><td>FALSE</td><td>FALSE</td><td>FALSE</td><td>FALSE</td><td>FALSE</td><td>FALSE</td><td>FALSE</td><td>FALSE</td><td>FALSE</td><td>FALSE</td><td>FALSE</td><td>FALSE</td><td>FALSE</td><td>FALSE</td><td>FALSE</td><td>FALSE</td></tr>\n",
       "\t<tr><td>FALSE</td><td>FALSE</td><td>FALSE</td><td>FALSE</td><td>FALSE</td><td>FALSE</td><td>FALSE</td><td>FALSE</td><td>FALSE</td><td>FALSE</td><td>FALSE</td><td>FALSE</td><td>FALSE</td><td>FALSE</td><td>FALSE</td><td>FALSE</td><td>FALSE</td></tr>\n",
       "\t<tr><td>FALSE</td><td>FALSE</td><td>FALSE</td><td>FALSE</td><td>FALSE</td><td>FALSE</td><td>FALSE</td><td>FALSE</td><td>FALSE</td><td>FALSE</td><td>FALSE</td><td>FALSE</td><td>FALSE</td><td>FALSE</td><td>FALSE</td><td>FALSE</td><td>FALSE</td></tr>\n",
       "\t<tr><td>FALSE</td><td>FALSE</td><td>FALSE</td><td>FALSE</td><td>FALSE</td><td>FALSE</td><td>FALSE</td><td>FALSE</td><td>FALSE</td><td>FALSE</td><td>FALSE</td><td>FALSE</td><td>FALSE</td><td>FALSE</td><td>FALSE</td><td>FALSE</td><td>FALSE</td></tr>\n",
       "\t<tr><td>FALSE</td><td>FALSE</td><td>FALSE</td><td>FALSE</td><td>FALSE</td><td>FALSE</td><td>FALSE</td><td>FALSE</td><td>FALSE</td><td>FALSE</td><td>FALSE</td><td>FALSE</td><td>FALSE</td><td>FALSE</td><td>FALSE</td><td>FALSE</td><td>FALSE</td></tr>\n",
       "\t<tr><td>FALSE</td><td>FALSE</td><td>FALSE</td><td>FALSE</td><td>FALSE</td><td>FALSE</td><td>FALSE</td><td>FALSE</td><td>FALSE</td><td>FALSE</td><td>FALSE</td><td>FALSE</td><td>FALSE</td><td>FALSE</td><td>FALSE</td><td>FALSE</td><td>FALSE</td></tr>\n",
       "\t<tr><td>FALSE</td><td>FALSE</td><td>FALSE</td><td>FALSE</td><td>FALSE</td><td>FALSE</td><td>FALSE</td><td>FALSE</td><td>FALSE</td><td>FALSE</td><td>FALSE</td><td>FALSE</td><td>FALSE</td><td>FALSE</td><td>FALSE</td><td>FALSE</td><td>FALSE</td></tr>\n",
       "\t<tr><td>FALSE</td><td>FALSE</td><td>FALSE</td><td>FALSE</td><td>FALSE</td><td>FALSE</td><td>FALSE</td><td>FALSE</td><td>FALSE</td><td>FALSE</td><td>FALSE</td><td>FALSE</td><td>FALSE</td><td>FALSE</td><td>FALSE</td><td>FALSE</td><td>FALSE</td></tr>\n",
       "</tbody>\n",
       "</table>\n"
      ],
      "text/latex": [
       "\\begin{tabular}{lllllllllllllllll}\n",
       " checking\\_balance & months\\_loan\\_duration & credit\\_history & purpose & amount & savings\\_balance & employment\\_duration & percent\\_of\\_income & years\\_at\\_residence & age & other\\_credit & housing & existing\\_loans\\_count & job & dependents & phone & default\\\\\n",
       "\\hline\n",
       "\t FALSE & FALSE & FALSE & FALSE & FALSE & FALSE & FALSE & FALSE & FALSE & FALSE & FALSE & FALSE & FALSE & FALSE & FALSE & FALSE & FALSE\\\\\n",
       "\t FALSE & FALSE & FALSE & FALSE & FALSE & FALSE & FALSE & FALSE & FALSE & FALSE & FALSE & FALSE & FALSE & FALSE & FALSE & FALSE & FALSE\\\\\n",
       "\t FALSE & FALSE & FALSE & FALSE & FALSE & FALSE & FALSE & FALSE & FALSE & FALSE & FALSE & FALSE & FALSE & FALSE & FALSE & FALSE & FALSE\\\\\n",
       "\t FALSE & FALSE & FALSE & FALSE & FALSE & FALSE & FALSE & FALSE & FALSE & FALSE & FALSE & FALSE & FALSE & FALSE & FALSE & FALSE & FALSE\\\\\n",
       "\t FALSE & FALSE & FALSE & FALSE & FALSE & FALSE & FALSE & FALSE & FALSE & FALSE & FALSE & FALSE & FALSE & FALSE & FALSE & FALSE & FALSE\\\\\n",
       "\t FALSE & FALSE & FALSE & FALSE & FALSE & FALSE & FALSE & FALSE & FALSE & FALSE & FALSE & FALSE & FALSE & FALSE & FALSE & FALSE & FALSE\\\\\n",
       "\t FALSE & FALSE & FALSE & FALSE & FALSE & FALSE & FALSE & FALSE & FALSE & FALSE & FALSE & FALSE & FALSE & FALSE & FALSE & FALSE & FALSE\\\\\n",
       "\t FALSE & FALSE & FALSE & FALSE & FALSE & FALSE & FALSE & FALSE & FALSE & FALSE & FALSE & FALSE & FALSE & FALSE & FALSE & FALSE & FALSE\\\\\n",
       "\t FALSE & FALSE & FALSE & FALSE & FALSE & FALSE & FALSE & FALSE & FALSE & FALSE & FALSE & FALSE & FALSE & FALSE & FALSE & FALSE & FALSE\\\\\n",
       "\t FALSE & FALSE & FALSE & FALSE & FALSE & FALSE & FALSE & FALSE & FALSE & FALSE & FALSE & FALSE & FALSE & FALSE & FALSE & FALSE & FALSE\\\\\n",
       "\t FALSE & FALSE & FALSE & FALSE & FALSE & FALSE & FALSE & FALSE & FALSE & FALSE & FALSE & FALSE & FALSE & FALSE & FALSE & FALSE & FALSE\\\\\n",
       "\t FALSE & FALSE & FALSE & FALSE & FALSE & FALSE & FALSE & FALSE & FALSE & FALSE & FALSE & FALSE & FALSE & FALSE & FALSE & FALSE & FALSE\\\\\n",
       "\t FALSE & FALSE & FALSE & FALSE & FALSE & FALSE & FALSE & FALSE & FALSE & FALSE & FALSE & FALSE & FALSE & FALSE & FALSE & FALSE & FALSE\\\\\n",
       "\t FALSE & FALSE & FALSE & FALSE & FALSE & FALSE & FALSE & FALSE & FALSE & FALSE & FALSE & FALSE & FALSE & FALSE & FALSE & FALSE & FALSE\\\\\n",
       "\t FALSE & FALSE & FALSE & FALSE & FALSE & FALSE & FALSE & FALSE & FALSE & FALSE & FALSE & FALSE & FALSE & FALSE & FALSE & FALSE & FALSE\\\\\n",
       "\t FALSE & FALSE & FALSE & FALSE & FALSE & FALSE & FALSE & FALSE & FALSE & FALSE & FALSE & FALSE & FALSE & FALSE & FALSE & FALSE & FALSE\\\\\n",
       "\t FALSE & FALSE & FALSE & FALSE & FALSE & FALSE & FALSE & FALSE & FALSE & FALSE & FALSE & FALSE & FALSE & FALSE & FALSE & FALSE & FALSE\\\\\n",
       "\t FALSE & FALSE & FALSE & FALSE & FALSE & FALSE & FALSE & FALSE & FALSE & FALSE & FALSE & FALSE & FALSE & FALSE & FALSE & FALSE & FALSE\\\\\n",
       "\t FALSE & FALSE & FALSE & FALSE & FALSE & FALSE & FALSE & FALSE & FALSE & FALSE & FALSE & FALSE & FALSE & FALSE & FALSE & FALSE & FALSE\\\\\n",
       "\t FALSE & FALSE & FALSE & FALSE & FALSE & FALSE & FALSE & FALSE & FALSE & FALSE & FALSE & FALSE & FALSE & FALSE & FALSE & FALSE & FALSE\\\\\n",
       "\t FALSE & FALSE & FALSE & FALSE & FALSE & FALSE & FALSE & FALSE & FALSE & FALSE & FALSE & FALSE & FALSE & FALSE & FALSE & FALSE & FALSE\\\\\n",
       "\t FALSE & FALSE & FALSE & FALSE & FALSE & FALSE & FALSE & FALSE & FALSE & FALSE & FALSE & FALSE & FALSE & FALSE & FALSE & FALSE & FALSE\\\\\n",
       "\t FALSE & FALSE & FALSE & FALSE & FALSE & FALSE & FALSE & FALSE & FALSE & FALSE & FALSE & FALSE & FALSE & FALSE & FALSE & FALSE & FALSE\\\\\n",
       "\t FALSE & FALSE & FALSE & FALSE & FALSE & FALSE & FALSE & FALSE & FALSE & FALSE & FALSE & FALSE & FALSE & FALSE & FALSE & FALSE & FALSE\\\\\n",
       "\t FALSE & FALSE & FALSE & FALSE & FALSE & FALSE & FALSE & FALSE & FALSE & FALSE & FALSE & FALSE & FALSE & FALSE & FALSE & FALSE & FALSE\\\\\n",
       "\t FALSE & FALSE & FALSE & FALSE & FALSE & FALSE & FALSE & FALSE & FALSE & FALSE & FALSE & FALSE & FALSE & FALSE & FALSE & FALSE & FALSE\\\\\n",
       "\t FALSE & FALSE & FALSE & FALSE & FALSE & FALSE & FALSE & FALSE & FALSE & FALSE & FALSE & FALSE & FALSE & FALSE & FALSE & FALSE & FALSE\\\\\n",
       "\t FALSE & FALSE & FALSE & FALSE & FALSE & FALSE & FALSE & FALSE & FALSE & FALSE & FALSE & FALSE & FALSE & FALSE & FALSE & FALSE & FALSE\\\\\n",
       "\t FALSE & FALSE & FALSE & FALSE & FALSE & FALSE & FALSE & FALSE & FALSE & FALSE & FALSE & FALSE & FALSE & FALSE & FALSE & FALSE & FALSE\\\\\n",
       "\t FALSE & FALSE & FALSE & FALSE & FALSE & FALSE & FALSE & FALSE & FALSE & FALSE & FALSE & FALSE & FALSE & FALSE & FALSE & FALSE & FALSE\\\\\n",
       "\t ⋮ & ⋮ & ⋮ & ⋮ & ⋮ & ⋮ & ⋮ & ⋮ & ⋮ & ⋮ & ⋮ & ⋮ & ⋮ & ⋮ & ⋮ & ⋮ & ⋮\\\\\n",
       "\t FALSE & FALSE & FALSE & FALSE & FALSE & FALSE & FALSE & FALSE & FALSE & FALSE & FALSE & FALSE & FALSE & FALSE & FALSE & FALSE & FALSE\\\\\n",
       "\t FALSE & FALSE & FALSE & FALSE & FALSE & FALSE & FALSE & FALSE & FALSE & FALSE & FALSE & FALSE & FALSE & FALSE & FALSE & FALSE & FALSE\\\\\n",
       "\t FALSE & FALSE & FALSE & FALSE & FALSE & FALSE & FALSE & FALSE & FALSE & FALSE & FALSE & FALSE & FALSE & FALSE & FALSE & FALSE & FALSE\\\\\n",
       "\t FALSE & FALSE & FALSE & FALSE & FALSE & FALSE & FALSE & FALSE & FALSE & FALSE & FALSE & FALSE & FALSE & FALSE & FALSE & FALSE & FALSE\\\\\n",
       "\t FALSE & FALSE & FALSE & FALSE & FALSE & FALSE & FALSE & FALSE & FALSE & FALSE & FALSE & FALSE & FALSE & FALSE & FALSE & FALSE & FALSE\\\\\n",
       "\t FALSE & FALSE & FALSE & FALSE & FALSE & FALSE & FALSE & FALSE & FALSE & FALSE & FALSE & FALSE & FALSE & FALSE & FALSE & FALSE & FALSE\\\\\n",
       "\t FALSE & FALSE & FALSE & FALSE & FALSE & FALSE & FALSE & FALSE & FALSE & FALSE & FALSE & FALSE & FALSE & FALSE & FALSE & FALSE & FALSE\\\\\n",
       "\t FALSE & FALSE & FALSE & FALSE & FALSE & FALSE & FALSE & FALSE & FALSE & FALSE & FALSE & FALSE & FALSE & FALSE & FALSE & FALSE & FALSE\\\\\n",
       "\t FALSE & FALSE & FALSE & FALSE & FALSE & FALSE & FALSE & FALSE & FALSE & FALSE & FALSE & FALSE & FALSE & FALSE & FALSE & FALSE & FALSE\\\\\n",
       "\t FALSE & FALSE & FALSE & FALSE & FALSE & FALSE & FALSE & FALSE & FALSE & FALSE & FALSE & FALSE & FALSE & FALSE & FALSE & FALSE & FALSE\\\\\n",
       "\t FALSE & FALSE & FALSE & FALSE & FALSE & FALSE & FALSE & FALSE & FALSE & FALSE & FALSE & FALSE & FALSE & FALSE & FALSE & FALSE & FALSE\\\\\n",
       "\t FALSE & FALSE & FALSE & FALSE & FALSE & FALSE & FALSE & FALSE & FALSE & FALSE & FALSE & FALSE & FALSE & FALSE & FALSE & FALSE & FALSE\\\\\n",
       "\t FALSE & FALSE & FALSE & FALSE & FALSE & FALSE & FALSE & FALSE & FALSE & FALSE & FALSE & FALSE & FALSE & FALSE & FALSE & FALSE & FALSE\\\\\n",
       "\t FALSE & FALSE & FALSE & FALSE & FALSE & FALSE & FALSE & FALSE & FALSE & FALSE & FALSE & FALSE & FALSE & FALSE & FALSE & FALSE & FALSE\\\\\n",
       "\t FALSE & FALSE & FALSE & FALSE & FALSE & FALSE & FALSE & FALSE & FALSE & FALSE & FALSE & FALSE & FALSE & FALSE & FALSE & FALSE & FALSE\\\\\n",
       "\t FALSE & FALSE & FALSE & FALSE & FALSE & FALSE & FALSE & FALSE & FALSE & FALSE & FALSE & FALSE & FALSE & FALSE & FALSE & FALSE & FALSE\\\\\n",
       "\t FALSE & FALSE & FALSE & FALSE & FALSE & FALSE & FALSE & FALSE & FALSE & FALSE & FALSE & FALSE & FALSE & FALSE & FALSE & FALSE & FALSE\\\\\n",
       "\t FALSE & FALSE & FALSE & FALSE & FALSE & FALSE & FALSE & FALSE & FALSE & FALSE & FALSE & FALSE & FALSE & FALSE & FALSE & FALSE & FALSE\\\\\n",
       "\t FALSE & FALSE & FALSE & FALSE & FALSE & FALSE & FALSE & FALSE & FALSE & FALSE & FALSE & FALSE & FALSE & FALSE & FALSE & FALSE & FALSE\\\\\n",
       "\t FALSE & FALSE & FALSE & FALSE & FALSE & FALSE & FALSE & FALSE & FALSE & FALSE & FALSE & FALSE & FALSE & FALSE & FALSE & FALSE & FALSE\\\\\n",
       "\t FALSE & FALSE & FALSE & FALSE & FALSE & FALSE & FALSE & FALSE & FALSE & FALSE & FALSE & FALSE & FALSE & FALSE & FALSE & FALSE & FALSE\\\\\n",
       "\t FALSE & FALSE & FALSE & FALSE & FALSE & FALSE & FALSE & FALSE & FALSE & FALSE & FALSE & FALSE & FALSE & FALSE & FALSE & FALSE & FALSE\\\\\n",
       "\t FALSE & FALSE & FALSE & FALSE & FALSE & FALSE & FALSE & FALSE & FALSE & FALSE & FALSE & FALSE & FALSE & FALSE & FALSE & FALSE & FALSE\\\\\n",
       "\t FALSE & FALSE & FALSE & FALSE & FALSE & FALSE & FALSE & FALSE & FALSE & FALSE & FALSE & FALSE & FALSE & FALSE & FALSE & FALSE & FALSE\\\\\n",
       "\t FALSE & FALSE & FALSE & FALSE & FALSE & FALSE & FALSE & FALSE & FALSE & FALSE & FALSE & FALSE & FALSE & FALSE & FALSE & FALSE & FALSE\\\\\n",
       "\t FALSE & FALSE & FALSE & FALSE & FALSE & FALSE & FALSE & FALSE & FALSE & FALSE & FALSE & FALSE & FALSE & FALSE & FALSE & FALSE & FALSE\\\\\n",
       "\t FALSE & FALSE & FALSE & FALSE & FALSE & FALSE & FALSE & FALSE & FALSE & FALSE & FALSE & FALSE & FALSE & FALSE & FALSE & FALSE & FALSE\\\\\n",
       "\t FALSE & FALSE & FALSE & FALSE & FALSE & FALSE & FALSE & FALSE & FALSE & FALSE & FALSE & FALSE & FALSE & FALSE & FALSE & FALSE & FALSE\\\\\n",
       "\t FALSE & FALSE & FALSE & FALSE & FALSE & FALSE & FALSE & FALSE & FALSE & FALSE & FALSE & FALSE & FALSE & FALSE & FALSE & FALSE & FALSE\\\\\n",
       "\t FALSE & FALSE & FALSE & FALSE & FALSE & FALSE & FALSE & FALSE & FALSE & FALSE & FALSE & FALSE & FALSE & FALSE & FALSE & FALSE & FALSE\\\\\n",
       "\\end{tabular}\n"
      ],
      "text/markdown": [
       "\n",
       "checking_balance | months_loan_duration | credit_history | purpose | amount | savings_balance | employment_duration | percent_of_income | years_at_residence | age | other_credit | housing | existing_loans_count | job | dependents | phone | default | \n",
       "|---|---|---|---|---|---|---|---|---|---|---|---|---|---|---|---|---|---|---|---|---|---|---|---|---|---|---|---|---|---|---|---|---|---|---|---|---|---|---|---|---|---|---|---|---|---|---|---|---|---|---|---|---|---|---|---|---|---|---|---|---|\n",
       "| FALSE | FALSE | FALSE | FALSE | FALSE | FALSE | FALSE | FALSE | FALSE | FALSE | FALSE | FALSE | FALSE | FALSE | FALSE | FALSE | FALSE | \n",
       "| FALSE | FALSE | FALSE | FALSE | FALSE | FALSE | FALSE | FALSE | FALSE | FALSE | FALSE | FALSE | FALSE | FALSE | FALSE | FALSE | FALSE | \n",
       "| FALSE | FALSE | FALSE | FALSE | FALSE | FALSE | FALSE | FALSE | FALSE | FALSE | FALSE | FALSE | FALSE | FALSE | FALSE | FALSE | FALSE | \n",
       "| FALSE | FALSE | FALSE | FALSE | FALSE | FALSE | FALSE | FALSE | FALSE | FALSE | FALSE | FALSE | FALSE | FALSE | FALSE | FALSE | FALSE | \n",
       "| FALSE | FALSE | FALSE | FALSE | FALSE | FALSE | FALSE | FALSE | FALSE | FALSE | FALSE | FALSE | FALSE | FALSE | FALSE | FALSE | FALSE | \n",
       "| FALSE | FALSE | FALSE | FALSE | FALSE | FALSE | FALSE | FALSE | FALSE | FALSE | FALSE | FALSE | FALSE | FALSE | FALSE | FALSE | FALSE | \n",
       "| FALSE | FALSE | FALSE | FALSE | FALSE | FALSE | FALSE | FALSE | FALSE | FALSE | FALSE | FALSE | FALSE | FALSE | FALSE | FALSE | FALSE | \n",
       "| FALSE | FALSE | FALSE | FALSE | FALSE | FALSE | FALSE | FALSE | FALSE | FALSE | FALSE | FALSE | FALSE | FALSE | FALSE | FALSE | FALSE | \n",
       "| FALSE | FALSE | FALSE | FALSE | FALSE | FALSE | FALSE | FALSE | FALSE | FALSE | FALSE | FALSE | FALSE | FALSE | FALSE | FALSE | FALSE | \n",
       "| FALSE | FALSE | FALSE | FALSE | FALSE | FALSE | FALSE | FALSE | FALSE | FALSE | FALSE | FALSE | FALSE | FALSE | FALSE | FALSE | FALSE | \n",
       "| FALSE | FALSE | FALSE | FALSE | FALSE | FALSE | FALSE | FALSE | FALSE | FALSE | FALSE | FALSE | FALSE | FALSE | FALSE | FALSE | FALSE | \n",
       "| FALSE | FALSE | FALSE | FALSE | FALSE | FALSE | FALSE | FALSE | FALSE | FALSE | FALSE | FALSE | FALSE | FALSE | FALSE | FALSE | FALSE | \n",
       "| FALSE | FALSE | FALSE | FALSE | FALSE | FALSE | FALSE | FALSE | FALSE | FALSE | FALSE | FALSE | FALSE | FALSE | FALSE | FALSE | FALSE | \n",
       "| FALSE | FALSE | FALSE | FALSE | FALSE | FALSE | FALSE | FALSE | FALSE | FALSE | FALSE | FALSE | FALSE | FALSE | FALSE | FALSE | FALSE | \n",
       "| FALSE | FALSE | FALSE | FALSE | FALSE | FALSE | FALSE | FALSE | FALSE | FALSE | FALSE | FALSE | FALSE | FALSE | FALSE | FALSE | FALSE | \n",
       "| FALSE | FALSE | FALSE | FALSE | FALSE | FALSE | FALSE | FALSE | FALSE | FALSE | FALSE | FALSE | FALSE | FALSE | FALSE | FALSE | FALSE | \n",
       "| FALSE | FALSE | FALSE | FALSE | FALSE | FALSE | FALSE | FALSE | FALSE | FALSE | FALSE | FALSE | FALSE | FALSE | FALSE | FALSE | FALSE | \n",
       "| FALSE | FALSE | FALSE | FALSE | FALSE | FALSE | FALSE | FALSE | FALSE | FALSE | FALSE | FALSE | FALSE | FALSE | FALSE | FALSE | FALSE | \n",
       "| FALSE | FALSE | FALSE | FALSE | FALSE | FALSE | FALSE | FALSE | FALSE | FALSE | FALSE | FALSE | FALSE | FALSE | FALSE | FALSE | FALSE | \n",
       "| FALSE | FALSE | FALSE | FALSE | FALSE | FALSE | FALSE | FALSE | FALSE | FALSE | FALSE | FALSE | FALSE | FALSE | FALSE | FALSE | FALSE | \n",
       "| FALSE | FALSE | FALSE | FALSE | FALSE | FALSE | FALSE | FALSE | FALSE | FALSE | FALSE | FALSE | FALSE | FALSE | FALSE | FALSE | FALSE | \n",
       "| FALSE | FALSE | FALSE | FALSE | FALSE | FALSE | FALSE | FALSE | FALSE | FALSE | FALSE | FALSE | FALSE | FALSE | FALSE | FALSE | FALSE | \n",
       "| FALSE | FALSE | FALSE | FALSE | FALSE | FALSE | FALSE | FALSE | FALSE | FALSE | FALSE | FALSE | FALSE | FALSE | FALSE | FALSE | FALSE | \n",
       "| FALSE | FALSE | FALSE | FALSE | FALSE | FALSE | FALSE | FALSE | FALSE | FALSE | FALSE | FALSE | FALSE | FALSE | FALSE | FALSE | FALSE | \n",
       "| FALSE | FALSE | FALSE | FALSE | FALSE | FALSE | FALSE | FALSE | FALSE | FALSE | FALSE | FALSE | FALSE | FALSE | FALSE | FALSE | FALSE | \n",
       "| FALSE | FALSE | FALSE | FALSE | FALSE | FALSE | FALSE | FALSE | FALSE | FALSE | FALSE | FALSE | FALSE | FALSE | FALSE | FALSE | FALSE | \n",
       "| FALSE | FALSE | FALSE | FALSE | FALSE | FALSE | FALSE | FALSE | FALSE | FALSE | FALSE | FALSE | FALSE | FALSE | FALSE | FALSE | FALSE | \n",
       "| FALSE | FALSE | FALSE | FALSE | FALSE | FALSE | FALSE | FALSE | FALSE | FALSE | FALSE | FALSE | FALSE | FALSE | FALSE | FALSE | FALSE | \n",
       "| FALSE | FALSE | FALSE | FALSE | FALSE | FALSE | FALSE | FALSE | FALSE | FALSE | FALSE | FALSE | FALSE | FALSE | FALSE | FALSE | FALSE | \n",
       "| FALSE | FALSE | FALSE | FALSE | FALSE | FALSE | FALSE | FALSE | FALSE | FALSE | FALSE | FALSE | FALSE | FALSE | FALSE | FALSE | FALSE | \n",
       "| ⋮ | ⋮ | ⋮ | ⋮ | ⋮ | ⋮ | ⋮ | ⋮ | ⋮ | ⋮ | ⋮ | ⋮ | ⋮ | ⋮ | ⋮ | ⋮ | ⋮ | \n",
       "| FALSE | FALSE | FALSE | FALSE | FALSE | FALSE | FALSE | FALSE | FALSE | FALSE | FALSE | FALSE | FALSE | FALSE | FALSE | FALSE | FALSE | \n",
       "| FALSE | FALSE | FALSE | FALSE | FALSE | FALSE | FALSE | FALSE | FALSE | FALSE | FALSE | FALSE | FALSE | FALSE | FALSE | FALSE | FALSE | \n",
       "| FALSE | FALSE | FALSE | FALSE | FALSE | FALSE | FALSE | FALSE | FALSE | FALSE | FALSE | FALSE | FALSE | FALSE | FALSE | FALSE | FALSE | \n",
       "| FALSE | FALSE | FALSE | FALSE | FALSE | FALSE | FALSE | FALSE | FALSE | FALSE | FALSE | FALSE | FALSE | FALSE | FALSE | FALSE | FALSE | \n",
       "| FALSE | FALSE | FALSE | FALSE | FALSE | FALSE | FALSE | FALSE | FALSE | FALSE | FALSE | FALSE | FALSE | FALSE | FALSE | FALSE | FALSE | \n",
       "| FALSE | FALSE | FALSE | FALSE | FALSE | FALSE | FALSE | FALSE | FALSE | FALSE | FALSE | FALSE | FALSE | FALSE | FALSE | FALSE | FALSE | \n",
       "| FALSE | FALSE | FALSE | FALSE | FALSE | FALSE | FALSE | FALSE | FALSE | FALSE | FALSE | FALSE | FALSE | FALSE | FALSE | FALSE | FALSE | \n",
       "| FALSE | FALSE | FALSE | FALSE | FALSE | FALSE | FALSE | FALSE | FALSE | FALSE | FALSE | FALSE | FALSE | FALSE | FALSE | FALSE | FALSE | \n",
       "| FALSE | FALSE | FALSE | FALSE | FALSE | FALSE | FALSE | FALSE | FALSE | FALSE | FALSE | FALSE | FALSE | FALSE | FALSE | FALSE | FALSE | \n",
       "| FALSE | FALSE | FALSE | FALSE | FALSE | FALSE | FALSE | FALSE | FALSE | FALSE | FALSE | FALSE | FALSE | FALSE | FALSE | FALSE | FALSE | \n",
       "| FALSE | FALSE | FALSE | FALSE | FALSE | FALSE | FALSE | FALSE | FALSE | FALSE | FALSE | FALSE | FALSE | FALSE | FALSE | FALSE | FALSE | \n",
       "| FALSE | FALSE | FALSE | FALSE | FALSE | FALSE | FALSE | FALSE | FALSE | FALSE | FALSE | FALSE | FALSE | FALSE | FALSE | FALSE | FALSE | \n",
       "| FALSE | FALSE | FALSE | FALSE | FALSE | FALSE | FALSE | FALSE | FALSE | FALSE | FALSE | FALSE | FALSE | FALSE | FALSE | FALSE | FALSE | \n",
       "| FALSE | FALSE | FALSE | FALSE | FALSE | FALSE | FALSE | FALSE | FALSE | FALSE | FALSE | FALSE | FALSE | FALSE | FALSE | FALSE | FALSE | \n",
       "| FALSE | FALSE | FALSE | FALSE | FALSE | FALSE | FALSE | FALSE | FALSE | FALSE | FALSE | FALSE | FALSE | FALSE | FALSE | FALSE | FALSE | \n",
       "| FALSE | FALSE | FALSE | FALSE | FALSE | FALSE | FALSE | FALSE | FALSE | FALSE | FALSE | FALSE | FALSE | FALSE | FALSE | FALSE | FALSE | \n",
       "| FALSE | FALSE | FALSE | FALSE | FALSE | FALSE | FALSE | FALSE | FALSE | FALSE | FALSE | FALSE | FALSE | FALSE | FALSE | FALSE | FALSE | \n",
       "| FALSE | FALSE | FALSE | FALSE | FALSE | FALSE | FALSE | FALSE | FALSE | FALSE | FALSE | FALSE | FALSE | FALSE | FALSE | FALSE | FALSE | \n",
       "| FALSE | FALSE | FALSE | FALSE | FALSE | FALSE | FALSE | FALSE | FALSE | FALSE | FALSE | FALSE | FALSE | FALSE | FALSE | FALSE | FALSE | \n",
       "| FALSE | FALSE | FALSE | FALSE | FALSE | FALSE | FALSE | FALSE | FALSE | FALSE | FALSE | FALSE | FALSE | FALSE | FALSE | FALSE | FALSE | \n",
       "| FALSE | FALSE | FALSE | FALSE | FALSE | FALSE | FALSE | FALSE | FALSE | FALSE | FALSE | FALSE | FALSE | FALSE | FALSE | FALSE | FALSE | \n",
       "| FALSE | FALSE | FALSE | FALSE | FALSE | FALSE | FALSE | FALSE | FALSE | FALSE | FALSE | FALSE | FALSE | FALSE | FALSE | FALSE | FALSE | \n",
       "| FALSE | FALSE | FALSE | FALSE | FALSE | FALSE | FALSE | FALSE | FALSE | FALSE | FALSE | FALSE | FALSE | FALSE | FALSE | FALSE | FALSE | \n",
       "| FALSE | FALSE | FALSE | FALSE | FALSE | FALSE | FALSE | FALSE | FALSE | FALSE | FALSE | FALSE | FALSE | FALSE | FALSE | FALSE | FALSE | \n",
       "| FALSE | FALSE | FALSE | FALSE | FALSE | FALSE | FALSE | FALSE | FALSE | FALSE | FALSE | FALSE | FALSE | FALSE | FALSE | FALSE | FALSE | \n",
       "| FALSE | FALSE | FALSE | FALSE | FALSE | FALSE | FALSE | FALSE | FALSE | FALSE | FALSE | FALSE | FALSE | FALSE | FALSE | FALSE | FALSE | \n",
       "| FALSE | FALSE | FALSE | FALSE | FALSE | FALSE | FALSE | FALSE | FALSE | FALSE | FALSE | FALSE | FALSE | FALSE | FALSE | FALSE | FALSE | \n",
       "| FALSE | FALSE | FALSE | FALSE | FALSE | FALSE | FALSE | FALSE | FALSE | FALSE | FALSE | FALSE | FALSE | FALSE | FALSE | FALSE | FALSE | \n",
       "| FALSE | FALSE | FALSE | FALSE | FALSE | FALSE | FALSE | FALSE | FALSE | FALSE | FALSE | FALSE | FALSE | FALSE | FALSE | FALSE | FALSE | \n",
       "| FALSE | FALSE | FALSE | FALSE | FALSE | FALSE | FALSE | FALSE | FALSE | FALSE | FALSE | FALSE | FALSE | FALSE | FALSE | FALSE | FALSE | \n",
       "\n",
       "\n"
      ],
      "text/plain": [
       "      checking_balance months_loan_duration credit_history purpose amount\n",
       " [1,] FALSE            FALSE                FALSE          FALSE   FALSE \n",
       " [2,] FALSE            FALSE                FALSE          FALSE   FALSE \n",
       " [3,] FALSE            FALSE                FALSE          FALSE   FALSE \n",
       " [4,] FALSE            FALSE                FALSE          FALSE   FALSE \n",
       " [5,] FALSE            FALSE                FALSE          FALSE   FALSE \n",
       " [6,] FALSE            FALSE                FALSE          FALSE   FALSE \n",
       " [7,] FALSE            FALSE                FALSE          FALSE   FALSE \n",
       " [8,] FALSE            FALSE                FALSE          FALSE   FALSE \n",
       " [9,] FALSE            FALSE                FALSE          FALSE   FALSE \n",
       "[10,] FALSE            FALSE                FALSE          FALSE   FALSE \n",
       "[11,] FALSE            FALSE                FALSE          FALSE   FALSE \n",
       "[12,] FALSE            FALSE                FALSE          FALSE   FALSE \n",
       "[13,] FALSE            FALSE                FALSE          FALSE   FALSE \n",
       "[14,] FALSE            FALSE                FALSE          FALSE   FALSE \n",
       "[15,] FALSE            FALSE                FALSE          FALSE   FALSE \n",
       "[16,] FALSE            FALSE                FALSE          FALSE   FALSE \n",
       "[17,] FALSE            FALSE                FALSE          FALSE   FALSE \n",
       "[18,] FALSE            FALSE                FALSE          FALSE   FALSE \n",
       "[19,] FALSE            FALSE                FALSE          FALSE   FALSE \n",
       "[20,] FALSE            FALSE                FALSE          FALSE   FALSE \n",
       "[21,] FALSE            FALSE                FALSE          FALSE   FALSE \n",
       "[22,] FALSE            FALSE                FALSE          FALSE   FALSE \n",
       "[23,] FALSE            FALSE                FALSE          FALSE   FALSE \n",
       "[24,] FALSE            FALSE                FALSE          FALSE   FALSE \n",
       "[25,] FALSE            FALSE                FALSE          FALSE   FALSE \n",
       "[26,] FALSE            FALSE                FALSE          FALSE   FALSE \n",
       "[27,] FALSE            FALSE                FALSE          FALSE   FALSE \n",
       "[28,] FALSE            FALSE                FALSE          FALSE   FALSE \n",
       "[29,] FALSE            FALSE                FALSE          FALSE   FALSE \n",
       "[30,] FALSE            FALSE                FALSE          FALSE   FALSE \n",
       "[31,] ⋮                ⋮                    ⋮              ⋮       ⋮     \n",
       "[32,] FALSE            FALSE                FALSE          FALSE   FALSE \n",
       "[33,] FALSE            FALSE                FALSE          FALSE   FALSE \n",
       "[34,] FALSE            FALSE                FALSE          FALSE   FALSE \n",
       "[35,] FALSE            FALSE                FALSE          FALSE   FALSE \n",
       "[36,] FALSE            FALSE                FALSE          FALSE   FALSE \n",
       "[37,] FALSE            FALSE                FALSE          FALSE   FALSE \n",
       "[38,] FALSE            FALSE                FALSE          FALSE   FALSE \n",
       "[39,] FALSE            FALSE                FALSE          FALSE   FALSE \n",
       "[40,] FALSE            FALSE                FALSE          FALSE   FALSE \n",
       "[41,] FALSE            FALSE                FALSE          FALSE   FALSE \n",
       "[42,] FALSE            FALSE                FALSE          FALSE   FALSE \n",
       "[43,] FALSE            FALSE                FALSE          FALSE   FALSE \n",
       "[44,] FALSE            FALSE                FALSE          FALSE   FALSE \n",
       "[45,] FALSE            FALSE                FALSE          FALSE   FALSE \n",
       "[46,] FALSE            FALSE                FALSE          FALSE   FALSE \n",
       "[47,] FALSE            FALSE                FALSE          FALSE   FALSE \n",
       "[48,] FALSE            FALSE                FALSE          FALSE   FALSE \n",
       "[49,] FALSE            FALSE                FALSE          FALSE   FALSE \n",
       "[50,] FALSE            FALSE                FALSE          FALSE   FALSE \n",
       "[51,] FALSE            FALSE                FALSE          FALSE   FALSE \n",
       "[52,] FALSE            FALSE                FALSE          FALSE   FALSE \n",
       "[53,] FALSE            FALSE                FALSE          FALSE   FALSE \n",
       "[54,] FALSE            FALSE                FALSE          FALSE   FALSE \n",
       "[55,] FALSE            FALSE                FALSE          FALSE   FALSE \n",
       "[56,] FALSE            FALSE                FALSE          FALSE   FALSE \n",
       "[57,] FALSE            FALSE                FALSE          FALSE   FALSE \n",
       "[58,] FALSE            FALSE                FALSE          FALSE   FALSE \n",
       "[59,] FALSE            FALSE                FALSE          FALSE   FALSE \n",
       "[60,] FALSE            FALSE                FALSE          FALSE   FALSE \n",
       "[61,] FALSE            FALSE                FALSE          FALSE   FALSE \n",
       "      savings_balance employment_duration percent_of_income years_at_residence\n",
       " [1,] FALSE           FALSE               FALSE             FALSE             \n",
       " [2,] FALSE           FALSE               FALSE             FALSE             \n",
       " [3,] FALSE           FALSE               FALSE             FALSE             \n",
       " [4,] FALSE           FALSE               FALSE             FALSE             \n",
       " [5,] FALSE           FALSE               FALSE             FALSE             \n",
       " [6,] FALSE           FALSE               FALSE             FALSE             \n",
       " [7,] FALSE           FALSE               FALSE             FALSE             \n",
       " [8,] FALSE           FALSE               FALSE             FALSE             \n",
       " [9,] FALSE           FALSE               FALSE             FALSE             \n",
       "[10,] FALSE           FALSE               FALSE             FALSE             \n",
       "[11,] FALSE           FALSE               FALSE             FALSE             \n",
       "[12,] FALSE           FALSE               FALSE             FALSE             \n",
       "[13,] FALSE           FALSE               FALSE             FALSE             \n",
       "[14,] FALSE           FALSE               FALSE             FALSE             \n",
       "[15,] FALSE           FALSE               FALSE             FALSE             \n",
       "[16,] FALSE           FALSE               FALSE             FALSE             \n",
       "[17,] FALSE           FALSE               FALSE             FALSE             \n",
       "[18,] FALSE           FALSE               FALSE             FALSE             \n",
       "[19,] FALSE           FALSE               FALSE             FALSE             \n",
       "[20,] FALSE           FALSE               FALSE             FALSE             \n",
       "[21,] FALSE           FALSE               FALSE             FALSE             \n",
       "[22,] FALSE           FALSE               FALSE             FALSE             \n",
       "[23,] FALSE           FALSE               FALSE             FALSE             \n",
       "[24,] FALSE           FALSE               FALSE             FALSE             \n",
       "[25,] FALSE           FALSE               FALSE             FALSE             \n",
       "[26,] FALSE           FALSE               FALSE             FALSE             \n",
       "[27,] FALSE           FALSE               FALSE             FALSE             \n",
       "[28,] FALSE           FALSE               FALSE             FALSE             \n",
       "[29,] FALSE           FALSE               FALSE             FALSE             \n",
       "[30,] FALSE           FALSE               FALSE             FALSE             \n",
       "[31,] ⋮               ⋮                   ⋮                 ⋮                 \n",
       "[32,] FALSE           FALSE               FALSE             FALSE             \n",
       "[33,] FALSE           FALSE               FALSE             FALSE             \n",
       "[34,] FALSE           FALSE               FALSE             FALSE             \n",
       "[35,] FALSE           FALSE               FALSE             FALSE             \n",
       "[36,] FALSE           FALSE               FALSE             FALSE             \n",
       "[37,] FALSE           FALSE               FALSE             FALSE             \n",
       "[38,] FALSE           FALSE               FALSE             FALSE             \n",
       "[39,] FALSE           FALSE               FALSE             FALSE             \n",
       "[40,] FALSE           FALSE               FALSE             FALSE             \n",
       "[41,] FALSE           FALSE               FALSE             FALSE             \n",
       "[42,] FALSE           FALSE               FALSE             FALSE             \n",
       "[43,] FALSE           FALSE               FALSE             FALSE             \n",
       "[44,] FALSE           FALSE               FALSE             FALSE             \n",
       "[45,] FALSE           FALSE               FALSE             FALSE             \n",
       "[46,] FALSE           FALSE               FALSE             FALSE             \n",
       "[47,] FALSE           FALSE               FALSE             FALSE             \n",
       "[48,] FALSE           FALSE               FALSE             FALSE             \n",
       "[49,] FALSE           FALSE               FALSE             FALSE             \n",
       "[50,] FALSE           FALSE               FALSE             FALSE             \n",
       "[51,] FALSE           FALSE               FALSE             FALSE             \n",
       "[52,] FALSE           FALSE               FALSE             FALSE             \n",
       "[53,] FALSE           FALSE               FALSE             FALSE             \n",
       "[54,] FALSE           FALSE               FALSE             FALSE             \n",
       "[55,] FALSE           FALSE               FALSE             FALSE             \n",
       "[56,] FALSE           FALSE               FALSE             FALSE             \n",
       "[57,] FALSE           FALSE               FALSE             FALSE             \n",
       "[58,] FALSE           FALSE               FALSE             FALSE             \n",
       "[59,] FALSE           FALSE               FALSE             FALSE             \n",
       "[60,] FALSE           FALSE               FALSE             FALSE             \n",
       "[61,] FALSE           FALSE               FALSE             FALSE             \n",
       "      age   other_credit housing existing_loans_count job   dependents phone\n",
       " [1,] FALSE FALSE        FALSE   FALSE                FALSE FALSE      FALSE\n",
       " [2,] FALSE FALSE        FALSE   FALSE                FALSE FALSE      FALSE\n",
       " [3,] FALSE FALSE        FALSE   FALSE                FALSE FALSE      FALSE\n",
       " [4,] FALSE FALSE        FALSE   FALSE                FALSE FALSE      FALSE\n",
       " [5,] FALSE FALSE        FALSE   FALSE                FALSE FALSE      FALSE\n",
       " [6,] FALSE FALSE        FALSE   FALSE                FALSE FALSE      FALSE\n",
       " [7,] FALSE FALSE        FALSE   FALSE                FALSE FALSE      FALSE\n",
       " [8,] FALSE FALSE        FALSE   FALSE                FALSE FALSE      FALSE\n",
       " [9,] FALSE FALSE        FALSE   FALSE                FALSE FALSE      FALSE\n",
       "[10,] FALSE FALSE        FALSE   FALSE                FALSE FALSE      FALSE\n",
       "[11,] FALSE FALSE        FALSE   FALSE                FALSE FALSE      FALSE\n",
       "[12,] FALSE FALSE        FALSE   FALSE                FALSE FALSE      FALSE\n",
       "[13,] FALSE FALSE        FALSE   FALSE                FALSE FALSE      FALSE\n",
       "[14,] FALSE FALSE        FALSE   FALSE                FALSE FALSE      FALSE\n",
       "[15,] FALSE FALSE        FALSE   FALSE                FALSE FALSE      FALSE\n",
       "[16,] FALSE FALSE        FALSE   FALSE                FALSE FALSE      FALSE\n",
       "[17,] FALSE FALSE        FALSE   FALSE                FALSE FALSE      FALSE\n",
       "[18,] FALSE FALSE        FALSE   FALSE                FALSE FALSE      FALSE\n",
       "[19,] FALSE FALSE        FALSE   FALSE                FALSE FALSE      FALSE\n",
       "[20,] FALSE FALSE        FALSE   FALSE                FALSE FALSE      FALSE\n",
       "[21,] FALSE FALSE        FALSE   FALSE                FALSE FALSE      FALSE\n",
       "[22,] FALSE FALSE        FALSE   FALSE                FALSE FALSE      FALSE\n",
       "[23,] FALSE FALSE        FALSE   FALSE                FALSE FALSE      FALSE\n",
       "[24,] FALSE FALSE        FALSE   FALSE                FALSE FALSE      FALSE\n",
       "[25,] FALSE FALSE        FALSE   FALSE                FALSE FALSE      FALSE\n",
       "[26,] FALSE FALSE        FALSE   FALSE                FALSE FALSE      FALSE\n",
       "[27,] FALSE FALSE        FALSE   FALSE                FALSE FALSE      FALSE\n",
       "[28,] FALSE FALSE        FALSE   FALSE                FALSE FALSE      FALSE\n",
       "[29,] FALSE FALSE        FALSE   FALSE                FALSE FALSE      FALSE\n",
       "[30,] FALSE FALSE        FALSE   FALSE                FALSE FALSE      FALSE\n",
       "[31,] ⋮     ⋮            ⋮       ⋮                    ⋮     ⋮          ⋮    \n",
       "[32,] FALSE FALSE        FALSE   FALSE                FALSE FALSE      FALSE\n",
       "[33,] FALSE FALSE        FALSE   FALSE                FALSE FALSE      FALSE\n",
       "[34,] FALSE FALSE        FALSE   FALSE                FALSE FALSE      FALSE\n",
       "[35,] FALSE FALSE        FALSE   FALSE                FALSE FALSE      FALSE\n",
       "[36,] FALSE FALSE        FALSE   FALSE                FALSE FALSE      FALSE\n",
       "[37,] FALSE FALSE        FALSE   FALSE                FALSE FALSE      FALSE\n",
       "[38,] FALSE FALSE        FALSE   FALSE                FALSE FALSE      FALSE\n",
       "[39,] FALSE FALSE        FALSE   FALSE                FALSE FALSE      FALSE\n",
       "[40,] FALSE FALSE        FALSE   FALSE                FALSE FALSE      FALSE\n",
       "[41,] FALSE FALSE        FALSE   FALSE                FALSE FALSE      FALSE\n",
       "[42,] FALSE FALSE        FALSE   FALSE                FALSE FALSE      FALSE\n",
       "[43,] FALSE FALSE        FALSE   FALSE                FALSE FALSE      FALSE\n",
       "[44,] FALSE FALSE        FALSE   FALSE                FALSE FALSE      FALSE\n",
       "[45,] FALSE FALSE        FALSE   FALSE                FALSE FALSE      FALSE\n",
       "[46,] FALSE FALSE        FALSE   FALSE                FALSE FALSE      FALSE\n",
       "[47,] FALSE FALSE        FALSE   FALSE                FALSE FALSE      FALSE\n",
       "[48,] FALSE FALSE        FALSE   FALSE                FALSE FALSE      FALSE\n",
       "[49,] FALSE FALSE        FALSE   FALSE                FALSE FALSE      FALSE\n",
       "[50,] FALSE FALSE        FALSE   FALSE                FALSE FALSE      FALSE\n",
       "[51,] FALSE FALSE        FALSE   FALSE                FALSE FALSE      FALSE\n",
       "[52,] FALSE FALSE        FALSE   FALSE                FALSE FALSE      FALSE\n",
       "[53,] FALSE FALSE        FALSE   FALSE                FALSE FALSE      FALSE\n",
       "[54,] FALSE FALSE        FALSE   FALSE                FALSE FALSE      FALSE\n",
       "[55,] FALSE FALSE        FALSE   FALSE                FALSE FALSE      FALSE\n",
       "[56,] FALSE FALSE        FALSE   FALSE                FALSE FALSE      FALSE\n",
       "[57,] FALSE FALSE        FALSE   FALSE                FALSE FALSE      FALSE\n",
       "[58,] FALSE FALSE        FALSE   FALSE                FALSE FALSE      FALSE\n",
       "[59,] FALSE FALSE        FALSE   FALSE                FALSE FALSE      FALSE\n",
       "[60,] FALSE FALSE        FALSE   FALSE                FALSE FALSE      FALSE\n",
       "[61,] FALSE FALSE        FALSE   FALSE                FALSE FALSE      FALSE\n",
       "      default\n",
       " [1,] FALSE  \n",
       " [2,] FALSE  \n",
       " [3,] FALSE  \n",
       " [4,] FALSE  \n",
       " [5,] FALSE  \n",
       " [6,] FALSE  \n",
       " [7,] FALSE  \n",
       " [8,] FALSE  \n",
       " [9,] FALSE  \n",
       "[10,] FALSE  \n",
       "[11,] FALSE  \n",
       "[12,] FALSE  \n",
       "[13,] FALSE  \n",
       "[14,] FALSE  \n",
       "[15,] FALSE  \n",
       "[16,] FALSE  \n",
       "[17,] FALSE  \n",
       "[18,] FALSE  \n",
       "[19,] FALSE  \n",
       "[20,] FALSE  \n",
       "[21,] FALSE  \n",
       "[22,] FALSE  \n",
       "[23,] FALSE  \n",
       "[24,] FALSE  \n",
       "[25,] FALSE  \n",
       "[26,] FALSE  \n",
       "[27,] FALSE  \n",
       "[28,] FALSE  \n",
       "[29,] FALSE  \n",
       "[30,] FALSE  \n",
       "[31,] ⋮      \n",
       "[32,] FALSE  \n",
       "[33,] FALSE  \n",
       "[34,] FALSE  \n",
       "[35,] FALSE  \n",
       "[36,] FALSE  \n",
       "[37,] FALSE  \n",
       "[38,] FALSE  \n",
       "[39,] FALSE  \n",
       "[40,] FALSE  \n",
       "[41,] FALSE  \n",
       "[42,] FALSE  \n",
       "[43,] FALSE  \n",
       "[44,] FALSE  \n",
       "[45,] FALSE  \n",
       "[46,] FALSE  \n",
       "[47,] FALSE  \n",
       "[48,] FALSE  \n",
       "[49,] FALSE  \n",
       "[50,] FALSE  \n",
       "[51,] FALSE  \n",
       "[52,] FALSE  \n",
       "[53,] FALSE  \n",
       "[54,] FALSE  \n",
       "[55,] FALSE  \n",
       "[56,] FALSE  \n",
       "[57,] FALSE  \n",
       "[58,] FALSE  \n",
       "[59,] FALSE  \n",
       "[60,] FALSE  \n",
       "[61,] FALSE  "
      ]
     },
     "metadata": {},
     "output_type": "display_data"
    }
   ],
   "source": [
    "credit_na"
   ]
  },
  {
   "cell_type": "markdown",
   "metadata": {},
   "source": [
    "## List all columns"
   ]
  },
  {
   "cell_type": "code",
   "execution_count": 20,
   "metadata": {},
   "outputs": [
    {
     "data": {
      "text/html": [
       "<ol class=list-inline>\n",
       "\t<li>'checking_balance'</li>\n",
       "\t<li>'months_loan_duration'</li>\n",
       "\t<li>'credit_history'</li>\n",
       "\t<li>'purpose'</li>\n",
       "\t<li>'amount'</li>\n",
       "\t<li>'savings_balance'</li>\n",
       "\t<li>'employment_duration'</li>\n",
       "\t<li>'percent_of_income'</li>\n",
       "\t<li>'years_at_residence'</li>\n",
       "\t<li>'age'</li>\n",
       "\t<li>'other_credit'</li>\n",
       "\t<li>'housing'</li>\n",
       "\t<li>'existing_loans_count'</li>\n",
       "\t<li>'job'</li>\n",
       "\t<li>'dependents'</li>\n",
       "\t<li>'phone'</li>\n",
       "\t<li>'default'</li>\n",
       "</ol>\n"
      ],
      "text/latex": [
       "\\begin{enumerate*}\n",
       "\\item 'checking\\_balance'\n",
       "\\item 'months\\_loan\\_duration'\n",
       "\\item 'credit\\_history'\n",
       "\\item 'purpose'\n",
       "\\item 'amount'\n",
       "\\item 'savings\\_balance'\n",
       "\\item 'employment\\_duration'\n",
       "\\item 'percent\\_of\\_income'\n",
       "\\item 'years\\_at\\_residence'\n",
       "\\item 'age'\n",
       "\\item 'other\\_credit'\n",
       "\\item 'housing'\n",
       "\\item 'existing\\_loans\\_count'\n",
       "\\item 'job'\n",
       "\\item 'dependents'\n",
       "\\item 'phone'\n",
       "\\item 'default'\n",
       "\\end{enumerate*}\n"
      ],
      "text/markdown": [
       "1. 'checking_balance'\n",
       "2. 'months_loan_duration'\n",
       "3. 'credit_history'\n",
       "4. 'purpose'\n",
       "5. 'amount'\n",
       "6. 'savings_balance'\n",
       "7. 'employment_duration'\n",
       "8. 'percent_of_income'\n",
       "9. 'years_at_residence'\n",
       "10. 'age'\n",
       "11. 'other_credit'\n",
       "12. 'housing'\n",
       "13. 'existing_loans_count'\n",
       "14. 'job'\n",
       "15. 'dependents'\n",
       "16. 'phone'\n",
       "17. 'default'\n",
       "\n",
       "\n"
      ],
      "text/plain": [
       " [1] \"checking_balance\"     \"months_loan_duration\" \"credit_history\"      \n",
       " [4] \"purpose\"              \"amount\"               \"savings_balance\"     \n",
       " [7] \"employment_duration\"  \"percent_of_income\"    \"years_at_residence\"  \n",
       "[10] \"age\"                  \"other_credit\"         \"housing\"             \n",
       "[13] \"existing_loans_count\" \"job\"                  \"dependents\"          \n",
       "[16] \"phone\"                \"default\"             "
      ]
     },
     "metadata": {},
     "output_type": "display_data"
    }
   ],
   "source": [
    "names(credit)"
   ]
  },
  {
   "cell_type": "markdown",
   "metadata": {},
   "source": [
    "## Check class of a column"
   ]
  },
  {
   "cell_type": "code",
   "execution_count": 21,
   "metadata": {},
   "outputs": [
    {
     "data": {
      "text/html": [
       "'factor'"
      ],
      "text/latex": [
       "'factor'"
      ],
      "text/markdown": [
       "'factor'"
      ],
      "text/plain": [
       "[1] \"factor\""
      ]
     },
     "metadata": {},
     "output_type": "display_data"
    }
   ],
   "source": [
    "class(credit$default)"
   ]
  },
  {
   "cell_type": "markdown",
   "metadata": {},
   "source": [
    "# Change dependent column from integer to factor (category)\n"
   ]
  },
  {
   "cell_type": "code",
   "execution_count": 19,
   "metadata": {},
   "outputs": [
    {
     "name": "stdout",
     "output_type": "stream",
     "text": [
      "'data.frame':\t1000 obs. of  17 variables:\n",
      " $ checking_balance    : Factor w/ 4 levels \"< 0 DM\",\"> 200 DM\",..: 1 3 4 1 1 4 4 3 4 3 ...\n",
      " $ months_loan_duration: int  6 48 12 42 24 36 24 36 12 30 ...\n",
      " $ credit_history      : Factor w/ 5 levels \"critical\",\"good\",..: 1 2 1 2 4 2 2 2 2 1 ...\n",
      " $ purpose             : Factor w/ 6 levels \"business\",\"car\",..: 5 5 4 5 2 4 5 2 5 2 ...\n",
      " $ amount              : int  1169 5951 2096 7882 4870 9055 2835 6948 3059 5234 ...\n",
      " $ savings_balance     : Factor w/ 5 levels \"< 100 DM\",\"> 1000 DM\",..: 5 1 1 1 1 5 4 1 2 1 ...\n",
      " $ employment_duration : Factor w/ 5 levels \"< 1 year\",\"> 7 years\",..: 2 3 4 4 3 3 2 3 4 5 ...\n",
      " $ percent_of_income   : int  4 2 2 2 3 2 3 2 2 4 ...\n",
      " $ years_at_residence  : int  4 2 3 4 4 4 4 2 4 2 ...\n",
      " $ age                 : int  67 22 49 45 53 35 53 35 61 28 ...\n",
      " $ other_credit        : Factor w/ 3 levels \"bank\",\"none\",..: 2 2 2 2 2 2 2 2 2 2 ...\n",
      " $ housing             : Factor w/ 3 levels \"other\",\"own\",..: 2 2 2 1 1 1 2 3 2 2 ...\n",
      " $ existing_loans_count: int  2 1 1 1 2 1 1 1 1 2 ...\n",
      " $ job                 : Factor w/ 4 levels \"management\",\"skilled\",..: 2 2 4 2 2 4 2 1 4 1 ...\n",
      " $ dependents          : Factor w/ 2 levels \"1\",\"2\": 1 1 2 2 2 2 1 1 1 1 ...\n",
      " $ phone               : Factor w/ 2 levels \"no\",\"yes\": 2 1 1 1 1 2 1 2 1 1 ...\n",
      " $ default             : Factor w/ 2 levels \"no\",\"yes\": 1 2 1 1 2 1 1 1 1 2 ...\n"
     ]
    }
   ],
   "source": [
    "credit$dependents <- as.factor(credit$dependents)\n",
    "str(credit)"
   ]
  },
  {
   "cell_type": "markdown",
   "metadata": {},
   "source": [
    "# Check for missing values"
   ]
  },
  {
   "cell_type": "markdown",
   "metadata": {},
   "source": [
    "## In whole data set "
   ]
  },
  {
   "cell_type": "code",
   "execution_count": 22,
   "metadata": {},
   "outputs": [
    {
     "data": {
      "text/html": [
       "0"
      ],
      "text/latex": [
       "0"
      ],
      "text/markdown": [
       "0"
      ],
      "text/plain": [
       "[1] 0"
      ]
     },
     "metadata": {},
     "output_type": "display_data"
    }
   ],
   "source": [
    "sum(is.na(credit))"
   ]
  },
  {
   "cell_type": "markdown",
   "metadata": {},
   "source": [
    "## In perticular column"
   ]
  },
  {
   "cell_type": "code",
   "execution_count": 23,
   "metadata": {},
   "outputs": [
    {
     "data": {
      "text/html": [
       "0"
      ],
      "text/latex": [
       "0"
      ],
      "text/markdown": [
       "0"
      ],
      "text/plain": [
       "[1] 0"
      ]
     },
     "metadata": {},
     "output_type": "display_data"
    }
   ],
   "source": [
    "sum(is.na(credit$dependents))"
   ]
  },
  {
   "cell_type": "markdown",
   "metadata": {},
   "source": [
    "# Univariante Analysis (stats approach)\n",
    "- Concentrate only on one variable at a time"
   ]
  },
  {
   "cell_type": "markdown",
   "metadata": {},
   "source": [
    "## Get summary of a variable"
   ]
  },
  {
   "cell_type": "code",
   "execution_count": 24,
   "metadata": {},
   "outputs": [
    {
     "data": {
      "text/plain": [
       "   Min. 1st Qu.  Median    Mean 3rd Qu.    Max. \n",
       "    250    1366    2320    3271    3972   18420 "
      ]
     },
     "metadata": {},
     "output_type": "display_data"
    }
   ],
   "source": [
    "summary(credit$amount)"
   ]
  },
  {
   "cell_type": "code",
   "execution_count": 25,
   "metadata": {},
   "outputs": [
    {
     "data": {
      "text/html": [
       "<dl class=dl-horizontal>\n",
       "\t<dt>business</dt>\n",
       "\t\t<dd>97</dd>\n",
       "\t<dt>car</dt>\n",
       "\t\t<dd>337</dd>\n",
       "\t<dt>car0</dt>\n",
       "\t\t<dd>12</dd>\n",
       "\t<dt>education</dt>\n",
       "\t\t<dd>59</dd>\n",
       "\t<dt>furniture/appliances</dt>\n",
       "\t\t<dd>473</dd>\n",
       "\t<dt>renovations</dt>\n",
       "\t\t<dd>22</dd>\n",
       "</dl>\n"
      ],
      "text/latex": [
       "\\begin{description*}\n",
       "\\item[business] 97\n",
       "\\item[car] 337\n",
       "\\item[car0] 12\n",
       "\\item[education] 59\n",
       "\\item[furniture/appliances] 473\n",
       "\\item[renovations] 22\n",
       "\\end{description*}\n"
      ],
      "text/markdown": [
       "business\n",
       ":   97car\n",
       ":   337car0\n",
       ":   12education\n",
       ":   59furniture/appliances\n",
       ":   473renovations\n",
       ":   22\n",
       "\n"
      ],
      "text/plain": [
       "            business                  car                 car0 \n",
       "                  97                  337                   12 \n",
       "           education furniture/appliances          renovations \n",
       "                  59                  473                   22 "
      ]
     },
     "metadata": {},
     "output_type": "display_data"
    }
   ],
   "source": [
    "summary(credit$purpose)"
   ]
  },
  {
   "cell_type": "code",
   "execution_count": 26,
   "metadata": {},
   "outputs": [
    {
     "data": {
      "text/html": [
       "<dl class=dl-horizontal>\n",
       "\t<dt>no</dt>\n",
       "\t\t<dd>700</dd>\n",
       "\t<dt>yes</dt>\n",
       "\t\t<dd>300</dd>\n",
       "</dl>\n"
      ],
      "text/latex": [
       "\\begin{description*}\n",
       "\\item[no] 700\n",
       "\\item[yes] 300\n",
       "\\end{description*}\n"
      ],
      "text/markdown": [
       "no\n",
       ":   700yes\n",
       ":   300\n",
       "\n"
      ],
      "text/plain": [
       " no yes \n",
       "700 300 "
      ]
     },
     "metadata": {},
     "output_type": "display_data"
    }
   ],
   "source": [
    "summary(credit$default)"
   ]
  },
  {
   "cell_type": "code",
   "execution_count": 27,
   "metadata": {},
   "outputs": [
    {
     "data": {
      "text/plain": [
       "   Min. 1st Qu.  Median    Mean 3rd Qu.    Max. \n",
       "  19.00   27.00   33.00   35.55   42.00   75.00 "
      ]
     },
     "metadata": {},
     "output_type": "display_data"
    }
   ],
   "source": [
    "summary(credit$age)"
   ]
  },
  {
   "cell_type": "code",
   "execution_count": 29,
   "metadata": {},
   "outputs": [],
   "source": [
    "library(ggplot2)"
   ]
  },
  {
   "cell_type": "code",
   "execution_count": 31,
   "metadata": {},
   "outputs": [
    {
     "data": {
      "text/plain": [
       "   Min. 1st Qu.  Median    Mean 3rd Qu.    Max. \n",
       "    4.0    12.0    18.0    20.9    24.0    72.0 "
      ]
     },
     "metadata": {},
     "output_type": "display_data"
    }
   ],
   "source": [
    "summary(credit$months_loan_duration)"
   ]
  },
  {
   "cell_type": "code",
   "execution_count": 32,
   "metadata": {},
   "outputs": [
    {
     "data": {
      "text/html": [
       "20.903"
      ],
      "text/latex": [
       "20.903"
      ],
      "text/markdown": [
       "20.903"
      ],
      "text/plain": [
       "[1] 20.903"
      ]
     },
     "metadata": {},
     "output_type": "display_data"
    }
   ],
   "source": [
    "mean(credit$months_loan_duration)"
   ]
  },
  {
   "cell_type": "code",
   "execution_count": 45,
   "metadata": {},
   "outputs": [
    {
     "data": {
      "text/html": [
       "<dl class=dl-horizontal>\n",
       "\t<dt>management</dt>\n",
       "\t\t<dd>148</dd>\n",
       "\t<dt>skilled</dt>\n",
       "\t\t<dd>630</dd>\n",
       "\t<dt>unemployed</dt>\n",
       "\t\t<dd>22</dd>\n",
       "\t<dt>unskilled</dt>\n",
       "\t\t<dd>200</dd>\n",
       "</dl>\n"
      ],
      "text/latex": [
       "\\begin{description*}\n",
       "\\item[management] 148\n",
       "\\item[skilled] 630\n",
       "\\item[unemployed] 22\n",
       "\\item[unskilled] 200\n",
       "\\end{description*}\n"
      ],
      "text/markdown": [
       "management\n",
       ":   148skilled\n",
       ":   630unemployed\n",
       ":   22unskilled\n",
       ":   200\n",
       "\n"
      ],
      "text/plain": [
       "management    skilled unemployed  unskilled \n",
       "       148        630         22        200 "
      ]
     },
     "metadata": {},
     "output_type": "display_data"
    }
   ],
   "source": [
    "summary(credit$job)"
   ]
  },
  {
   "cell_type": "code",
   "execution_count": 50,
   "metadata": {},
   "outputs": [
    {
     "data": {
      "text/plain": [
       "\n",
       "management    skilled unemployed  unskilled \n",
       "       148        630         22        200 "
      ]
     },
     "metadata": {},
     "output_type": "display_data"
    }
   ],
   "source": [
    "table(credit$job)"
   ]
  },
  {
   "cell_type": "code",
   "execution_count": 51,
   "metadata": {},
   "outputs": [
    {
     "data": {
      "text/html": [
       "<dl class=dl-horizontal>\n",
       "\t<dt>&lt; 1 year</dt>\n",
       "\t\t<dd>172</dd>\n",
       "\t<dt>&gt; 7 years</dt>\n",
       "\t\t<dd>253</dd>\n",
       "\t<dt>1 - 4 years</dt>\n",
       "\t\t<dd>339</dd>\n",
       "\t<dt>4 - 7 years</dt>\n",
       "\t\t<dd>174</dd>\n",
       "\t<dt>unemployed</dt>\n",
       "\t\t<dd>62</dd>\n",
       "</dl>\n"
      ],
      "text/latex": [
       "\\begin{description*}\n",
       "\\item[< 1 year] 172\n",
       "\\item[> 7 years] 253\n",
       "\\item[1 - 4 years] 339\n",
       "\\item[4 - 7 years] 174\n",
       "\\item[unemployed] 62\n",
       "\\end{description*}\n"
      ],
      "text/markdown": [
       "&amp;lt; 1 year\n",
       ":   172&amp;gt; 7 years\n",
       ":   2531 - 4 years\n",
       ":   3394 - 7 years\n",
       ":   174unemployed\n",
       ":   62\n",
       "\n"
      ],
      "text/plain": [
       "   < 1 year   > 7 years 1 - 4 years 4 - 7 years  unemployed \n",
       "        172         253         339         174          62 "
      ]
     },
     "metadata": {},
     "output_type": "display_data"
    }
   ],
   "source": [
    "summary(credit$employment_duration)"
   ]
  },
  {
   "cell_type": "markdown",
   "metadata": {},
   "source": [
    "## Variance - how data is spread"
   ]
  },
  {
   "cell_type": "code",
   "execution_count": 56,
   "metadata": {},
   "outputs": [
    {
     "data": {
      "text/html": [
       "145.415006006006"
      ],
      "text/latex": [
       "145.415006006006"
      ],
      "text/markdown": [
       "145.415006006006"
      ],
      "text/plain": [
       "[1] 145.415"
      ]
     },
     "metadata": {},
     "output_type": "display_data"
    }
   ],
   "source": [
    "var(credit$months_loan_duration)"
   ]
  },
  {
   "cell_type": "code",
   "execution_count": 57,
   "metadata": {},
   "outputs": [
    {
     "data": {
      "text/html": [
       "7967843.47090691"
      ],
      "text/latex": [
       "7967843.47090691"
      ],
      "text/markdown": [
       "7967843.47090691"
      ],
      "text/plain": [
       "[1] 7967843"
      ]
     },
     "metadata": {},
     "output_type": "display_data"
    }
   ],
   "source": [
    "var(credit$amount)"
   ]
  },
  {
   "cell_type": "code",
   "execution_count": 58,
   "metadata": {},
   "outputs": [
    {
     "data": {
      "text/html": [
       "12.0588144527564"
      ],
      "text/latex": [
       "12.0588144527564"
      ],
      "text/markdown": [
       "12.0588144527564"
      ],
      "text/plain": [
       "[1] 12.05881"
      ]
     },
     "metadata": {},
     "output_type": "display_data"
    }
   ],
   "source": [
    "sd(credit$months_loan_duration)"
   ]
  },
  {
   "cell_type": "code",
   "execution_count": 60,
   "metadata": {},
   "outputs": [
    {
     "data": {
      "text/html": [
       "2822.73687596044"
      ],
      "text/latex": [
       "2822.73687596044"
      ],
      "text/markdown": [
       "2822.73687596044"
      ],
      "text/plain": [
       "[1] 2822.737"
      ]
     },
     "metadata": {},
     "output_type": "display_data"
    }
   ],
   "source": [
    "sd(credit$amount)"
   ]
  },
  {
   "cell_type": "code",
   "execution_count": 61,
   "metadata": {},
   "outputs": [
    {
     "data": {
      "text/html": [
       "11.3754685743175"
      ],
      "text/latex": [
       "11.3754685743175"
      ],
      "text/markdown": [
       "11.3754685743175"
      ],
      "text/plain": [
       "[1] 11.37547"
      ]
     },
     "metadata": {},
     "output_type": "display_data"
    }
   ],
   "source": [
    "sd(credit$age)"
   ]
  },
  {
   "cell_type": "markdown",
   "metadata": {},
   "source": [
    "## Co-efficient of variance (sd/mean) \n",
    "- Because of different scale of each variable - sd varies a lot (see above - there is a scale change in months, amounts, age)"
   ]
  },
  {
   "cell_type": "code",
   "execution_count": 70,
   "metadata": {},
   "outputs": [
    {
     "ename": "ERROR",
     "evalue": "Error: $ operator is invalid for atomic vectors\n",
     "output_type": "error",
     "traceback": [
      "Error: $ operator is invalid for atomic vectors\nTraceback:\n",
      "1. covratio(credit$age)",
      "2. nrow(qr.lm(model)$qr)",
      "3. qr.lm(model)"
     ]
    }
   ],
   "source": [
    "covratio(credit$age)"
   ]
  },
  {
   "cell_type": "code",
   "execution_count": 71,
   "metadata": {},
   "outputs": [
    {
     "data": {
      "text/html": [
       "0.576893960328966"
      ],
      "text/latex": [
       "0.576893960328966"
      ],
      "text/markdown": [
       "0.576893960328966"
      ],
      "text/plain": [
       "[1] 0.576894"
      ]
     },
     "metadata": {},
     "output_type": "display_data"
    }
   ],
   "source": [
    "sd(credit$months_loan_duration)/mean(credit$months_loan_duration)"
   ]
  },
  {
   "cell_type": "code",
   "execution_count": 72,
   "metadata": {},
   "outputs": [
    {
     "data": {
      "text/html": [
       "0.862890324138433"
      ],
      "text/latex": [
       "0.862890324138433"
      ],
      "text/markdown": [
       "0.862890324138433"
      ],
      "text/plain": [
       "[1] 0.8628903"
      ]
     },
     "metadata": {},
     "output_type": "display_data"
    }
   ],
   "source": [
    "sd(credit$amount)/mean(credit$amount)"
   ]
  },
  {
   "cell_type": "code",
   "execution_count": 73,
   "metadata": {},
   "outputs": [
    {
     "data": {
      "text/html": [
       "0.32002105931237"
      ],
      "text/latex": [
       "0.32002105931237"
      ],
      "text/markdown": [
       "0.32002105931237"
      ],
      "text/plain": [
       "[1] 0.3200211"
      ]
     },
     "metadata": {},
     "output_type": "display_data"
    }
   ],
   "source": [
    "sd(credit$age)/mean(credit$age)"
   ]
  },
  {
   "cell_type": "markdown",
   "metadata": {},
   "source": [
    "# Outlier detection"
   ]
  },
  {
   "cell_type": "markdown",
   "metadata": {},
   "source": [
    "## Boxplot for outlier detection"
   ]
  },
  {
   "cell_type": "code",
   "execution_count": 77,
   "metadata": {},
   "outputs": [
    {
     "data": {
      "image/png": "[encoded data removed]",
      "text/plain": [
       "plot without title"
      ]
     },
     "metadata": {},
     "output_type": "display_data"
    }
   ],
   "source": [
    "outliers_months_loan <- boxplot(credit$months_loan_duration)\n"
   ]
  },
  {
   "cell_type": "code",
   "execution_count": 80,
   "metadata": {},
   "outputs": [
    {
     "data": {
      "text/html": [
       "<dl>\n",
       "\t<dt>$stats</dt>\n",
       "\t\t<dd><ol class=list-inline>\n",
       "\t<li>4</li>\n",
       "\t<li>12</li>\n",
       "\t<li>18</li>\n",
       "\t<li>24</li>\n",
       "\t<li>42</li>\n",
       "</ol>\n",
       "</dd>\n",
       "\t<dt>$n</dt>\n",
       "\t\t<dd>1000</dd>\n",
       "\t<dt>$conf</dt>\n",
       "\t\t<dd><table>\n",
       "<tbody>\n",
       "\t<tr><td>17.40043</td></tr>\n",
       "\t<tr><td>18.59957</td></tr>\n",
       "</tbody>\n",
       "</table>\n",
       "</dd>\n",
       "\t<dt>$out</dt>\n",
       "\t\t<dd><ol class=list-inline>\n",
       "\t<li>48</li>\n",
       "\t<li>48</li>\n",
       "\t<li>60</li>\n",
       "\t<li>45</li>\n",
       "\t<li>48</li>\n",
       "\t<li>48</li>\n",
       "\t<li>48</li>\n",
       "\t<li>54</li>\n",
       "\t<li>54</li>\n",
       "\t<li>48</li>\n",
       "\t<li>48</li>\n",
       "\t<li>60</li>\n",
       "\t<li>48</li>\n",
       "\t<li>48</li>\n",
       "\t<li>45</li>\n",
       "\t<li>48</li>\n",
       "\t<li>48</li>\n",
       "\t<li>60</li>\n",
       "\t<li>48</li>\n",
       "\t<li>48</li>\n",
       "\t<li>47</li>\n",
       "\t<li>48</li>\n",
       "\t<li>48</li>\n",
       "\t<li>48</li>\n",
       "\t<li>48</li>\n",
       "\t<li>48</li>\n",
       "\t<li>48</li>\n",
       "\t<li>60</li>\n",
       "\t<li>48</li>\n",
       "\t<li>60</li>\n",
       "\t<li>60</li>\n",
       "\t<li>48</li>\n",
       "\t<li>48</li>\n",
       "\t<li>48</li>\n",
       "\t<li>48</li>\n",
       "\t<li>48</li>\n",
       "\t<li>48</li>\n",
       "\t<li>48</li>\n",
       "\t<li>48</li>\n",
       "\t<li>48</li>\n",
       "\t<li>48</li>\n",
       "\t<li>60</li>\n",
       "\t<li>48</li>\n",
       "\t<li>60</li>\n",
       "\t<li>48</li>\n",
       "\t<li>48</li>\n",
       "\t<li>48</li>\n",
       "\t<li>60</li>\n",
       "\t<li>72</li>\n",
       "\t<li>60</li>\n",
       "\t<li>48</li>\n",
       "\t<li>48</li>\n",
       "\t<li>60</li>\n",
       "\t<li>48</li>\n",
       "\t<li>48</li>\n",
       "\t<li>48</li>\n",
       "\t<li>48</li>\n",
       "\t<li>48</li>\n",
       "\t<li>48</li>\n",
       "\t<li>45</li>\n",
       "\t<li>48</li>\n",
       "\t<li>48</li>\n",
       "\t<li>48</li>\n",
       "\t<li>48</li>\n",
       "\t<li>60</li>\n",
       "\t<li>48</li>\n",
       "\t<li>60</li>\n",
       "\t<li>48</li>\n",
       "\t<li>45</li>\n",
       "\t<li>45</li>\n",
       "</ol>\n",
       "</dd>\n",
       "\t<dt>$group</dt>\n",
       "\t\t<dd><ol class=list-inline>\n",
       "\t<li>1</li>\n",
       "\t<li>1</li>\n",
       "\t<li>1</li>\n",
       "\t<li>1</li>\n",
       "\t<li>1</li>\n",
       "\t<li>1</li>\n",
       "\t<li>1</li>\n",
       "\t<li>1</li>\n",
       "\t<li>1</li>\n",
       "\t<li>1</li>\n",
       "\t<li>1</li>\n",
       "\t<li>1</li>\n",
       "\t<li>1</li>\n",
       "\t<li>1</li>\n",
       "\t<li>1</li>\n",
       "\t<li>1</li>\n",
       "\t<li>1</li>\n",
       "\t<li>1</li>\n",
       "\t<li>1</li>\n",
       "\t<li>1</li>\n",
       "\t<li>1</li>\n",
       "\t<li>1</li>\n",
       "\t<li>1</li>\n",
       "\t<li>1</li>\n",
       "\t<li>1</li>\n",
       "\t<li>1</li>\n",
       "\t<li>1</li>\n",
       "\t<li>1</li>\n",
       "\t<li>1</li>\n",
       "\t<li>1</li>\n",
       "\t<li>1</li>\n",
       "\t<li>1</li>\n",
       "\t<li>1</li>\n",
       "\t<li>1</li>\n",
       "\t<li>1</li>\n",
       "\t<li>1</li>\n",
       "\t<li>1</li>\n",
       "\t<li>1</li>\n",
       "\t<li>1</li>\n",
       "\t<li>1</li>\n",
       "\t<li>1</li>\n",
       "\t<li>1</li>\n",
       "\t<li>1</li>\n",
       "\t<li>1</li>\n",
       "\t<li>1</li>\n",
       "\t<li>1</li>\n",
       "\t<li>1</li>\n",
       "\t<li>1</li>\n",
       "\t<li>1</li>\n",
       "\t<li>1</li>\n",
       "\t<li>1</li>\n",
       "\t<li>1</li>\n",
       "\t<li>1</li>\n",
       "\t<li>1</li>\n",
       "\t<li>1</li>\n",
       "\t<li>1</li>\n",
       "\t<li>1</li>\n",
       "\t<li>1</li>\n",
       "\t<li>1</li>\n",
       "\t<li>1</li>\n",
       "\t<li>1</li>\n",
       "\t<li>1</li>\n",
       "\t<li>1</li>\n",
       "\t<li>1</li>\n",
       "\t<li>1</li>\n",
       "\t<li>1</li>\n",
       "\t<li>1</li>\n",
       "\t<li>1</li>\n",
       "\t<li>1</li>\n",
       "\t<li>1</li>\n",
       "</ol>\n",
       "</dd>\n",
       "\t<dt>$names</dt>\n",
       "\t\t<dd>'1'</dd>\n",
       "</dl>\n"
      ],
      "text/latex": [
       "\\begin{description}\n",
       "\\item[\\$stats] \\begin{enumerate*}\n",
       "\\item 4\n",
       "\\item 12\n",
       "\\item 18\n",
       "\\item 24\n",
       "\\item 42\n",
       "\\end{enumerate*}\n",
       "\n",
       "\\item[\\$n] 1000\n",
       "\\item[\\$conf] \\begin{tabular}{l}\n",
       "\t 17.40043\\\\\n",
       "\t 18.59957\\\\\n",
       "\\end{tabular}\n",
       "\n",
       "\\item[\\$out] \\begin{enumerate*}\n",
       "\\item 48\n",
       "\\item 48\n",
       "\\item 60\n",
       "\\item 45\n",
       "\\item 48\n",
       "\\item 48\n",
       "\\item 48\n",
       "\\item 54\n",
       "\\item 54\n",
       "\\item 48\n",
       "\\item 48\n",
       "\\item 60\n",
       "\\item 48\n",
       "\\item 48\n",
       "\\item 45\n",
       "\\item 48\n",
       "\\item 48\n",
       "\\item 60\n",
       "\\item 48\n",
       "\\item 48\n",
       "\\item 47\n",
       "\\item 48\n",
       "\\item 48\n",
       "\\item 48\n",
       "\\item 48\n",
       "\\item 48\n",
       "\\item 48\n",
       "\\item 60\n",
       "\\item 48\n",
       "\\item 60\n",
       "\\item 60\n",
       "\\item 48\n",
       "\\item 48\n",
       "\\item 48\n",
       "\\item 48\n",
       "\\item 48\n",
       "\\item 48\n",
       "\\item 48\n",
       "\\item 48\n",
       "\\item 48\n",
       "\\item 48\n",
       "\\item 60\n",
       "\\item 48\n",
       "\\item 60\n",
       "\\item 48\n",
       "\\item 48\n",
       "\\item 48\n",
       "\\item 60\n",
       "\\item 72\n",
       "\\item 60\n",
       "\\item 48\n",
       "\\item 48\n",
       "\\item 60\n",
       "\\item 48\n",
       "\\item 48\n",
       "\\item 48\n",
       "\\item 48\n",
       "\\item 48\n",
       "\\item 48\n",
       "\\item 45\n",
       "\\item 48\n",
       "\\item 48\n",
       "\\item 48\n",
       "\\item 48\n",
       "\\item 60\n",
       "\\item 48\n",
       "\\item 60\n",
       "\\item 48\n",
       "\\item 45\n",
       "\\item 45\n",
       "\\end{enumerate*}\n",
       "\n",
       "\\item[\\$group] \\begin{enumerate*}\n",
       "\\item 1\n",
       "\\item 1\n",
       "\\item 1\n",
       "\\item 1\n",
       "\\item 1\n",
       "\\item 1\n",
       "\\item 1\n",
       "\\item 1\n",
       "\\item 1\n",
       "\\item 1\n",
       "\\item 1\n",
       "\\item 1\n",
       "\\item 1\n",
       "\\item 1\n",
       "\\item 1\n",
       "\\item 1\n",
       "\\item 1\n",
       "\\item 1\n",
       "\\item 1\n",
       "\\item 1\n",
       "\\item 1\n",
       "\\item 1\n",
       "\\item 1\n",
       "\\item 1\n",
       "\\item 1\n",
       "\\item 1\n",
       "\\item 1\n",
       "\\item 1\n",
       "\\item 1\n",
       "\\item 1\n",
       "\\item 1\n",
       "\\item 1\n",
       "\\item 1\n",
       "\\item 1\n",
       "\\item 1\n",
       "\\item 1\n",
       "\\item 1\n",
       "\\item 1\n",
       "\\item 1\n",
       "\\item 1\n",
       "\\item 1\n",
       "\\item 1\n",
       "\\item 1\n",
       "\\item 1\n",
       "\\item 1\n",
       "\\item 1\n",
       "\\item 1\n",
       "\\item 1\n",
       "\\item 1\n",
       "\\item 1\n",
       "\\item 1\n",
       "\\item 1\n",
       "\\item 1\n",
       "\\item 1\n",
       "\\item 1\n",
       "\\item 1\n",
       "\\item 1\n",
       "\\item 1\n",
       "\\item 1\n",
       "\\item 1\n",
       "\\item 1\n",
       "\\item 1\n",
       "\\item 1\n",
       "\\item 1\n",
       "\\item 1\n",
       "\\item 1\n",
       "\\item 1\n",
       "\\item 1\n",
       "\\item 1\n",
       "\\item 1\n",
       "\\end{enumerate*}\n",
       "\n",
       "\\item[\\$names] '1'\n",
       "\\end{description}\n"
      ],
      "text/markdown": [
       "$stats\n",
       ":   1. 4\n",
       "2. 12\n",
       "3. 18\n",
       "4. 24\n",
       "5. 42\n",
       "\n",
       "\n",
       "\n",
       "$n\n",
       ":   1000\n",
       "$conf\n",
       ":   \n",
       "| 17.40043 | \n",
       "| 18.59957 | \n",
       "\n",
       "\n",
       "\n",
       "$out\n",
       ":   1. 48\n",
       "2. 48\n",
       "3. 60\n",
       "4. 45\n",
       "5. 48\n",
       "6. 48\n",
       "7. 48\n",
       "8. 54\n",
       "9. 54\n",
       "10. 48\n",
       "11. 48\n",
       "12. 60\n",
       "13. 48\n",
       "14. 48\n",
       "15. 45\n",
       "16. 48\n",
       "17. 48\n",
       "18. 60\n",
       "19. 48\n",
       "20. 48\n",
       "21. 47\n",
       "22. 48\n",
       "23. 48\n",
       "24. 48\n",
       "25. 48\n",
       "26. 48\n",
       "27. 48\n",
       "28. 60\n",
       "29. 48\n",
       "30. 60\n",
       "31. 60\n",
       "32. 48\n",
       "33. 48\n",
       "34. 48\n",
       "35. 48\n",
       "36. 48\n",
       "37. 48\n",
       "38. 48\n",
       "39. 48\n",
       "40. 48\n",
       "41. 48\n",
       "42. 60\n",
       "43. 48\n",
       "44. 60\n",
       "45. 48\n",
       "46. 48\n",
       "47. 48\n",
       "48. 60\n",
       "49. 72\n",
       "50. 60\n",
       "51. 48\n",
       "52. 48\n",
       "53. 60\n",
       "54. 48\n",
       "55. 48\n",
       "56. 48\n",
       "57. 48\n",
       "58. 48\n",
       "59. 48\n",
       "60. 45\n",
       "61. 48\n",
       "62. 48\n",
       "63. 48\n",
       "64. 48\n",
       "65. 60\n",
       "66. 48\n",
       "67. 60\n",
       "68. 48\n",
       "69. 45\n",
       "70. 45\n",
       "\n",
       "\n",
       "\n",
       "$group\n",
       ":   1. 1\n",
       "2. 1\n",
       "3. 1\n",
       "4. 1\n",
       "5. 1\n",
       "6. 1\n",
       "7. 1\n",
       "8. 1\n",
       "9. 1\n",
       "10. 1\n",
       "11. 1\n",
       "12. 1\n",
       "13. 1\n",
       "14. 1\n",
       "15. 1\n",
       "16. 1\n",
       "17. 1\n",
       "18. 1\n",
       "19. 1\n",
       "20. 1\n",
       "21. 1\n",
       "22. 1\n",
       "23. 1\n",
       "24. 1\n",
       "25. 1\n",
       "26. 1\n",
       "27. 1\n",
       "28. 1\n",
       "29. 1\n",
       "30. 1\n",
       "31. 1\n",
       "32. 1\n",
       "33. 1\n",
       "34. 1\n",
       "35. 1\n",
       "36. 1\n",
       "37. 1\n",
       "38. 1\n",
       "39. 1\n",
       "40. 1\n",
       "41. 1\n",
       "42. 1\n",
       "43. 1\n",
       "44. 1\n",
       "45. 1\n",
       "46. 1\n",
       "47. 1\n",
       "48. 1\n",
       "49. 1\n",
       "50. 1\n",
       "51. 1\n",
       "52. 1\n",
       "53. 1\n",
       "54. 1\n",
       "55. 1\n",
       "56. 1\n",
       "57. 1\n",
       "58. 1\n",
       "59. 1\n",
       "60. 1\n",
       "61. 1\n",
       "62. 1\n",
       "63. 1\n",
       "64. 1\n",
       "65. 1\n",
       "66. 1\n",
       "67. 1\n",
       "68. 1\n",
       "69. 1\n",
       "70. 1\n",
       "\n",
       "\n",
       "\n",
       "$names\n",
       ":   '1'\n",
       "\n",
       "\n"
      ],
      "text/plain": [
       "$stats\n",
       "     [,1]\n",
       "[1,]    4\n",
       "[2,]   12\n",
       "[3,]   18\n",
       "[4,]   24\n",
       "[5,]   42\n",
       "attr(,\"class\")\n",
       "        1 \n",
       "\"integer\" \n",
       "\n",
       "$n\n",
       "[1] 1000\n",
       "\n",
       "$conf\n",
       "         [,1]\n",
       "[1,] 17.40043\n",
       "[2,] 18.59957\n",
       "\n",
       "$out\n",
       " [1] 48 48 60 45 48 48 48 54 54 48 48 60 48 48 45 48 48 60 48 48 47 48 48 48 48\n",
       "[26] 48 48 60 48 60 60 48 48 48 48 48 48 48 48 48 48 60 48 60 48 48 48 60 72 60\n",
       "[51] 48 48 60 48 48 48 48 48 48 45 48 48 48 48 60 48 60 48 45 45\n",
       "\n",
       "$group\n",
       " [1] 1 1 1 1 1 1 1 1 1 1 1 1 1 1 1 1 1 1 1 1 1 1 1 1 1 1 1 1 1 1 1 1 1 1 1 1 1 1\n",
       "[39] 1 1 1 1 1 1 1 1 1 1 1 1 1 1 1 1 1 1 1 1 1 1 1 1 1 1 1 1 1 1 1 1\n",
       "\n",
       "$names\n",
       "[1] \"1\"\n"
      ]
     },
     "metadata": {},
     "output_type": "display_data"
    }
   ],
   "source": [
    "outliers_months_loan"
   ]
  },
  {
   "cell_type": "code",
   "execution_count": 83,
   "metadata": {},
   "outputs": [
    {
     "data": {
      "text/html": [
       "<ol class=list-inline>\n",
       "\t<li>48</li>\n",
       "\t<li>48</li>\n",
       "\t<li>60</li>\n",
       "\t<li>45</li>\n",
       "\t<li>48</li>\n",
       "\t<li>48</li>\n",
       "\t<li>48</li>\n",
       "\t<li>54</li>\n",
       "\t<li>54</li>\n",
       "\t<li>48</li>\n",
       "\t<li>48</li>\n",
       "\t<li>60</li>\n",
       "\t<li>48</li>\n",
       "\t<li>48</li>\n",
       "\t<li>45</li>\n",
       "\t<li>48</li>\n",
       "\t<li>48</li>\n",
       "\t<li>60</li>\n",
       "\t<li>48</li>\n",
       "\t<li>48</li>\n",
       "\t<li>47</li>\n",
       "\t<li>48</li>\n",
       "\t<li>48</li>\n",
       "\t<li>48</li>\n",
       "\t<li>48</li>\n",
       "\t<li>48</li>\n",
       "\t<li>48</li>\n",
       "\t<li>60</li>\n",
       "\t<li>48</li>\n",
       "\t<li>60</li>\n",
       "\t<li>60</li>\n",
       "\t<li>48</li>\n",
       "\t<li>48</li>\n",
       "\t<li>48</li>\n",
       "\t<li>48</li>\n",
       "\t<li>48</li>\n",
       "\t<li>48</li>\n",
       "\t<li>48</li>\n",
       "\t<li>48</li>\n",
       "\t<li>48</li>\n",
       "\t<li>48</li>\n",
       "\t<li>60</li>\n",
       "\t<li>48</li>\n",
       "\t<li>60</li>\n",
       "\t<li>48</li>\n",
       "\t<li>48</li>\n",
       "\t<li>48</li>\n",
       "\t<li>60</li>\n",
       "\t<li>72</li>\n",
       "\t<li>60</li>\n",
       "\t<li>48</li>\n",
       "\t<li>48</li>\n",
       "\t<li>60</li>\n",
       "\t<li>48</li>\n",
       "\t<li>48</li>\n",
       "\t<li>48</li>\n",
       "\t<li>48</li>\n",
       "\t<li>48</li>\n",
       "\t<li>48</li>\n",
       "\t<li>45</li>\n",
       "\t<li>48</li>\n",
       "\t<li>48</li>\n",
       "\t<li>48</li>\n",
       "\t<li>48</li>\n",
       "\t<li>60</li>\n",
       "\t<li>48</li>\n",
       "\t<li>60</li>\n",
       "\t<li>48</li>\n",
       "\t<li>45</li>\n",
       "\t<li>45</li>\n",
       "</ol>\n"
      ],
      "text/latex": [
       "\\begin{enumerate*}\n",
       "\\item 48\n",
       "\\item 48\n",
       "\\item 60\n",
       "\\item 45\n",
       "\\item 48\n",
       "\\item 48\n",
       "\\item 48\n",
       "\\item 54\n",
       "\\item 54\n",
       "\\item 48\n",
       "\\item 48\n",
       "\\item 60\n",
       "\\item 48\n",
       "\\item 48\n",
       "\\item 45\n",
       "\\item 48\n",
       "\\item 48\n",
       "\\item 60\n",
       "\\item 48\n",
       "\\item 48\n",
       "\\item 47\n",
       "\\item 48\n",
       "\\item 48\n",
       "\\item 48\n",
       "\\item 48\n",
       "\\item 48\n",
       "\\item 48\n",
       "\\item 60\n",
       "\\item 48\n",
       "\\item 60\n",
       "\\item 60\n",
       "\\item 48\n",
       "\\item 48\n",
       "\\item 48\n",
       "\\item 48\n",
       "\\item 48\n",
       "\\item 48\n",
       "\\item 48\n",
       "\\item 48\n",
       "\\item 48\n",
       "\\item 48\n",
       "\\item 60\n",
       "\\item 48\n",
       "\\item 60\n",
       "\\item 48\n",
       "\\item 48\n",
       "\\item 48\n",
       "\\item 60\n",
       "\\item 72\n",
       "\\item 60\n",
       "\\item 48\n",
       "\\item 48\n",
       "\\item 60\n",
       "\\item 48\n",
       "\\item 48\n",
       "\\item 48\n",
       "\\item 48\n",
       "\\item 48\n",
       "\\item 48\n",
       "\\item 45\n",
       "\\item 48\n",
       "\\item 48\n",
       "\\item 48\n",
       "\\item 48\n",
       "\\item 60\n",
       "\\item 48\n",
       "\\item 60\n",
       "\\item 48\n",
       "\\item 45\n",
       "\\item 45\n",
       "\\end{enumerate*}\n"
      ],
      "text/markdown": [
       "1. 48\n",
       "2. 48\n",
       "3. 60\n",
       "4. 45\n",
       "5. 48\n",
       "6. 48\n",
       "7. 48\n",
       "8. 54\n",
       "9. 54\n",
       "10. 48\n",
       "11. 48\n",
       "12. 60\n",
       "13. 48\n",
       "14. 48\n",
       "15. 45\n",
       "16. 48\n",
       "17. 48\n",
       "18. 60\n",
       "19. 48\n",
       "20. 48\n",
       "21. 47\n",
       "22. 48\n",
       "23. 48\n",
       "24. 48\n",
       "25. 48\n",
       "26. 48\n",
       "27. 48\n",
       "28. 60\n",
       "29. 48\n",
       "30. 60\n",
       "31. 60\n",
       "32. 48\n",
       "33. 48\n",
       "34. 48\n",
       "35. 48\n",
       "36. 48\n",
       "37. 48\n",
       "38. 48\n",
       "39. 48\n",
       "40. 48\n",
       "41. 48\n",
       "42. 60\n",
       "43. 48\n",
       "44. 60\n",
       "45. 48\n",
       "46. 48\n",
       "47. 48\n",
       "48. 60\n",
       "49. 72\n",
       "50. 60\n",
       "51. 48\n",
       "52. 48\n",
       "53. 60\n",
       "54. 48\n",
       "55. 48\n",
       "56. 48\n",
       "57. 48\n",
       "58. 48\n",
       "59. 48\n",
       "60. 45\n",
       "61. 48\n",
       "62. 48\n",
       "63. 48\n",
       "64. 48\n",
       "65. 60\n",
       "66. 48\n",
       "67. 60\n",
       "68. 48\n",
       "69. 45\n",
       "70. 45\n",
       "\n",
       "\n"
      ],
      "text/plain": [
       " [1] 48 48 60 45 48 48 48 54 54 48 48 60 48 48 45 48 48 60 48 48 47 48 48 48 48\n",
       "[26] 48 48 60 48 60 60 48 48 48 48 48 48 48 48 48 48 60 48 60 48 48 48 60 72 60\n",
       "[51] 48 48 60 48 48 48 48 48 48 45 48 48 48 48 60 48 60 48 45 45"
      ]
     },
     "metadata": {},
     "output_type": "display_data"
    }
   ],
   "source": [
    "outliers_months_loan$out"
   ]
  },
  {
   "cell_type": "markdown",
   "metadata": {},
   "source": [
    "## Unique outliers"
   ]
  },
  {
   "cell_type": "code",
   "execution_count": 82,
   "metadata": {},
   "outputs": [
    {
     "data": {
      "text/html": [
       "<ol class=list-inline>\n",
       "\t<li>48</li>\n",
       "\t<li>60</li>\n",
       "\t<li>45</li>\n",
       "\t<li>54</li>\n",
       "\t<li>47</li>\n",
       "\t<li>72</li>\n",
       "</ol>\n"
      ],
      "text/latex": [
       "\\begin{enumerate*}\n",
       "\\item 48\n",
       "\\item 60\n",
       "\\item 45\n",
       "\\item 54\n",
       "\\item 47\n",
       "\\item 72\n",
       "\\end{enumerate*}\n"
      ],
      "text/markdown": [
       "1. 48\n",
       "2. 60\n",
       "3. 45\n",
       "4. 54\n",
       "5. 47\n",
       "6. 72\n",
       "\n",
       "\n"
      ],
      "text/plain": [
       "[1] 48 60 45 54 47 72"
      ]
     },
     "metadata": {},
     "output_type": "display_data"
    }
   ],
   "source": [
    "unique(outliers_months_loan$out)"
   ]
  },
  {
   "cell_type": "markdown",
   "metadata": {},
   "source": [
    "# Univariant analysis - Graphical"
   ]
  },
  {
   "cell_type": "code",
   "execution_count": 85,
   "metadata": {
    "collapsed": true
   },
   "outputs": [],
   "source": [
    "library (ggplot2)"
   ]
  },
  {
   "cell_type": "code",
   "execution_count": 94,
   "metadata": {},
   "outputs": [
    {
     "data": {
      "image/png": "[encoded data removed]",
      "text/plain": [
       "Plot with title “Histogram of credit$months_loan_duration”"
      ]
     },
     "metadata": {},
     "output_type": "display_data"
    }
   ],
   "source": [
    "hist(credit$months_loan_duration,breaks = seq(0,max(credit$months_loan_duration)+1,by=1))\n"
   ]
  },
  {
   "cell_type": "code",
   "execution_count": 98,
   "metadata": {},
   "outputs": [
    {
     "data": {
      "image/png": "[encoded data removed]",
      "text/plain": [
       "Plot with title “Histogram of credit$months_loan_duration”"
      ]
     },
     "metadata": {},
     "output_type": "display_data"
    }
   ],
   "source": [
    "hist(credit$months_loan_duration,breaks = seq(0,max(credit$months_loan_duration)+1,by=2))"
   ]
  },
  {
   "cell_type": "code",
   "execution_count": 89,
   "metadata": {},
   "outputs": [
    {
     "data": {
      "image/png": "[encoded data removed]",
      "text/plain": [
       "Plot with title “Histogram of credit$months_loan_duration”"
      ]
     },
     "metadata": {},
     "output_type": "display_data"
    }
   ],
   "source": [
    "hist(credit$months_loan_duration)"
   ]
  },
  {
   "cell_type": "code",
   "execution_count": 92,
   "metadata": {},
   "outputs": [
    {
     "name": "stderr",
     "output_type": "stream",
     "text": [
      "Warning message:\n",
      "“Ignoring unknown parameters: bandwidth”`stat_bin()` using `bins = 30`. Pick better value with `binwidth`.\n"
     ]
    },
    {
     "data": {},
     "metadata": {},
     "output_type": "display_data"
    },
    {
     "data": {
      "image/png": "[encoded data removed]",
      "text/plain": [
       "plot without title"
      ]
     },
     "metadata": {},
     "output_type": "display_data"
    }
   ],
   "source": [
    "ggplot(credit,aes(months_loan_duration)) + geom_histogram(col='red',fill='blue',bandwidth=10) + labs(title='Histogram for months of loan duration')"
   ]
  },
  {
   "cell_type": "markdown",
   "metadata": {},
   "source": [
    "# Multivariant EDA"
   ]
  },
  {
   "cell_type": "markdown",
   "metadata": {},
   "source": [
    "- Does months of loan duration effects the deafult?\n",
    "- Does loam amount effect the default?\n",
    "- Types:\n",
    "-- Cross Tabulation\n",
    "-- Stats"
   ]
  },
  {
   "cell_type": "markdown",
   "metadata": {},
   "source": [
    "## Correlation"
   ]
  },
  {
   "cell_type": "code",
   "execution_count": 104,
   "metadata": {},
   "outputs": [
    {
     "data": {
      "text/html": [
       "0.624984198300984"
      ],
      "text/latex": [
       "0.624984198300984"
      ],
      "text/markdown": [
       "0.624984198300984"
      ],
      "text/plain": [
       "[1] 0.6249842"
      ]
     },
     "metadata": {},
     "output_type": "display_data"
    }
   ],
   "source": [
    "# Correlation between amount and month loan\n",
    "cor(credit$amount,credit$months_loan_duration)\n",
    "\n",
    "## Result: 62% correlation"
   ]
  },
  {
   "cell_type": "code",
   "execution_count": 105,
   "metadata": {},
   "outputs": [
    {
     "data": {
      "text/html": [
       "0.0327164166654481"
      ],
      "text/latex": [
       "0.0327164166654481"
      ],
      "text/markdown": [
       "0.0327164166654481"
      ],
      "text/plain": [
       "[1] 0.03271642"
      ]
     },
     "metadata": {},
     "output_type": "display_data"
    }
   ],
   "source": [
    "# Correlation between amount and age\n",
    "cor(credit$amount,credit$age)\n",
    "## Result: 3% - no relation"
   ]
  },
  {
   "cell_type": "code",
   "execution_count": 107,
   "metadata": {},
   "outputs": [
    {
     "data": {},
     "metadata": {},
     "output_type": "display_data"
    },
    {
     "data": {
      "image/png": "[encoded data removed]",
      "text/plain": [
       "plot without title"
      ]
     },
     "metadata": {},
     "output_type": "display_data"
    }
   ],
   "source": [
    "ggplot(credit,aes(credit$months_loan_duration,y=credit$amount)) + geom_point()"
   ]
  },
  {
   "cell_type": "code",
   "execution_count": 108,
   "metadata": {},
   "outputs": [
    {
     "data": {},
     "metadata": {},
     "output_type": "display_data"
    },
    {
     "data": {
      "image/png": "[encoded data removed]",
      "text/plain": [
       "plot without title"
      ]
     },
     "metadata": {},
     "output_type": "display_data"
    }
   ],
   "source": [
    "ggplot(credit,aes(credit$age,y=credit$amount)) + geom_point()"
   ]
  },
  {
   "cell_type": "code",
   "execution_count": 109,
   "metadata": {},
   "outputs": [
    {
     "data": {
      "image/png": "[encoded data removed]",
      "text/plain": [
       "Plot with title “Histogram of credit$months_loan_duration”"
      ]
     },
     "metadata": {},
     "output_type": "display_data"
    }
   ],
   "source": [
    "hist(credit$months_loan_duration)"
   ]
  },
  {
   "cell_type": "markdown",
   "metadata": {},
   "source": [
    "## Analysize more then 2 variables"
   ]
  },
  {
   "cell_type": "code",
   "execution_count": 112,
   "metadata": {},
   "outputs": [
    {
     "data": {
      "text/html": [
       "<ol class=list-inline>\n",
       "\t<li>'credit.months_loan_duration'</li>\n",
       "\t<li>'credit.amount'</li>\n",
       "\t<li>'credit.age'</li>\n",
       "</ol>\n"
      ],
      "text/latex": [
       "\\begin{enumerate*}\n",
       "\\item 'credit.months\\_loan\\_duration'\n",
       "\\item 'credit.amount'\n",
       "\\item 'credit.age'\n",
       "\\end{enumerate*}\n"
      ],
      "text/markdown": [
       "1. 'credit.months_loan_duration'\n",
       "2. 'credit.amount'\n",
       "3. 'credit.age'\n",
       "\n",
       "\n"
      ],
      "text/plain": [
       "[1] \"credit.months_loan_duration\" \"credit.amount\"              \n",
       "[3] \"credit.age\"                 "
      ]
     },
     "metadata": {},
     "output_type": "display_data"
    },
    {
     "data": {
      "text/html": [
       "<table>\n",
       "<thead><tr><th></th><th scope=col>credit.months_loan_duration</th><th scope=col>credit.amount</th><th scope=col>credit.age</th></tr></thead>\n",
       "<tbody>\n",
       "\t<tr><th scope=row>credit.months_loan_duration</th><td> 1.00000000</td><td>0.62498420 </td><td>-0.03613637</td></tr>\n",
       "\t<tr><th scope=row>credit.amount</th><td> 0.62498420</td><td>1.00000000 </td><td> 0.03271642</td></tr>\n",
       "\t<tr><th scope=row>credit.age</th><td>-0.03613637</td><td>0.03271642 </td><td> 1.00000000</td></tr>\n",
       "</tbody>\n",
       "</table>\n"
      ],
      "text/latex": [
       "\\begin{tabular}{r|lll}\n",
       "  & credit.months\\_loan\\_duration & credit.amount & credit.age\\\\\n",
       "\\hline\n",
       "\tcredit.months\\_loan\\_duration &  1.00000000 & 0.62498420  & -0.03613637\\\\\n",
       "\tcredit.amount &  0.62498420 & 1.00000000  &  0.03271642\\\\\n",
       "\tcredit.age & -0.03613637 & 0.03271642  &  1.00000000\\\\\n",
       "\\end{tabular}\n"
      ],
      "text/markdown": [
       "\n",
       "| <!--/--> | credit.months_loan_duration | credit.amount | credit.age | \n",
       "|---|---|---|\n",
       "| credit.months_loan_duration |  1.00000000 | 0.62498420  | -0.03613637 | \n",
       "| credit.amount |  0.62498420 | 1.00000000  |  0.03271642 | \n",
       "| credit.age | -0.03613637 | 0.03271642  |  1.00000000 | \n",
       "\n",
       "\n"
      ],
      "text/plain": [
       "                            credit.months_loan_duration credit.amount\n",
       "credit.months_loan_duration  1.00000000                 0.62498420   \n",
       "credit.amount                0.62498420                 1.00000000   \n",
       "credit.age                  -0.03613637                 0.03271642   \n",
       "                            credit.age \n",
       "credit.months_loan_duration -0.03613637\n",
       "credit.amount                0.03271642\n",
       "credit.age                   1.00000000"
      ]
     },
     "metadata": {},
     "output_type": "display_data"
    }
   ],
   "source": [
    "credit_temp <- data.frame(credit$months_loan_duration,credit$amount,credit$age)\n",
    "colnames(credit_temp)\n",
    "cor(credit_temp)"
   ]
  },
  {
   "cell_type": "code",
   "execution_count": null,
   "metadata": {
    "collapsed": true
   },
   "outputs": [],
   "source": []
  },
  {
   "cell_type": "code",
   "execution_count": 69,
   "metadata": {},
   "outputs": [
    {
     "name": "stderr",
     "output_type": "stream",
     "text": [
      "Warning message in min(x, na.rm = na.rm):\n",
      "“no non-missing arguments to min; returning Inf”Warning message in max(x, na.rm = na.rm):\n",
      "“no non-missing arguments to max; returning -Inf”Warning message in min(diff(sort(x))):\n",
      "“no non-missing arguments to min; returning Inf”"
     ]
    },
    {
     "data": {},
     "metadata": {},
     "output_type": "display_data"
    },
    {
     "data": {
      "image/png": "[encoded data removed]",
      "text/plain": [
       "plot without title"
      ]
     },
     "metadata": {},
     "output_type": "display_data"
    }
   ],
   "source": [
    "ggplot(credit, aes(credit$employment_duration,credit$credit_history)) + geom_boxplot()"
   ]
  },
  {
   "cell_type": "code",
   "execution_count": null,
   "metadata": {
    "collapsed": true
   },
   "outputs": [],
   "source": []
  },
  {
   "cell_type": "code",
   "execution_count": null,
   "metadata": {
    "collapsed": true
   },
   "outputs": [],
   "source": []
  },
  {
   "cell_type": "code",
   "execution_count": null,
   "metadata": {
    "collapsed": true
   },
   "outputs": [],
   "source": []
  },
  {
   "cell_type": "markdown",
   "metadata": {},
   "source": []
  }
 ],
 "metadata": {
  "kernelspec": {
   "display_name": "R [conda env:tensorflow]",
   "language": "R",
   "name": "conda-env-tensorflow-r"
  },
  "language_info": {
   "codemirror_mode": "r",
   "file_extension": ".r",
   "mimetype": "text/x-r-source",
   "name": "R",
   "pygments_lexer": "r",
   "version": "3.3.2"
  },
  "toc": {
   "colors": {
    "hover_highlight": "#DAA520",
    "navigate_num": "#000000",
    "navigate_text": "#333333",
    "running_highlight": "#FF0000",
    "selected_highlight": "#FFD700",
    "sidebar_border": "#EEEEEE",
    "wrapper_background": "#FFFFFF"
   },
   "moveMenuLeft": true,
   "nav_menu": {
    "height": "369px",
    "width": "252px"
   },
   "navigate_menu": true,
   "number_sections": true,
   "sideBar": true,
   "threshold": 4,
   "toc_cell": false,
   "toc_section_display": "block",
   "toc_window_display": false,
   "widenNotebook": false
  }
 },
 "nbformat": 4,
 "nbformat_minor": 2
}
