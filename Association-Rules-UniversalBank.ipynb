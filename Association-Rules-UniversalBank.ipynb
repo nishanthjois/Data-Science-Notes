{
 "cells": [
  {
   "cell_type": "code",
   "execution_count": 1,
   "metadata": {
    "collapsed": false
   },
   "outputs": [
    {
     "data": {
      "text/html": [
       "<table>\n",
       "<thead><tr><th scope=col>ID</th><th scope=col>Age</th><th scope=col>Experience</th><th scope=col>Income</th><th scope=col>ZIP.Code</th><th scope=col>Family</th><th scope=col>CCAvg</th><th scope=col>Education</th><th scope=col>Mortgage</th><th scope=col>Personal.Loan</th><th scope=col>Securities.Account</th><th scope=col>CD.Account</th><th scope=col>Online</th><th scope=col>CreditCard</th></tr></thead>\n",
       "<tbody>\n",
       "\t<tr><td>1    </td><td>25   </td><td> 1   </td><td> 49  </td><td>91107</td><td>4    </td><td>1.6  </td><td>1    </td><td>  0  </td><td>0    </td><td>1    </td><td>0    </td><td>0    </td><td>0    </td></tr>\n",
       "\t<tr><td>2    </td><td>45   </td><td>19   </td><td> 34  </td><td>90089</td><td>3    </td><td>1.5  </td><td>1    </td><td>  0  </td><td>0    </td><td>1    </td><td>0    </td><td>0    </td><td>0    </td></tr>\n",
       "\t<tr><td>3    </td><td>39   </td><td>15   </td><td> 11  </td><td>94720</td><td>1    </td><td>1.0  </td><td>1    </td><td>  0  </td><td>0    </td><td>0    </td><td>0    </td><td>0    </td><td>0    </td></tr>\n",
       "\t<tr><td>4    </td><td>35   </td><td> 9   </td><td>100  </td><td>94112</td><td>1    </td><td>2.7  </td><td>2    </td><td>  0  </td><td>0    </td><td>0    </td><td>0    </td><td>0    </td><td>0    </td></tr>\n",
       "\t<tr><td>5    </td><td>35   </td><td> 8   </td><td> 45  </td><td>91330</td><td>4    </td><td>1.0  </td><td>2    </td><td>  0  </td><td>0    </td><td>0    </td><td>0    </td><td>0    </td><td>1    </td></tr>\n",
       "\t<tr><td>6    </td><td>37   </td><td>13   </td><td> 29  </td><td>92121</td><td>4    </td><td>0.4  </td><td>2    </td><td>155  </td><td>0    </td><td>0    </td><td>0    </td><td>1    </td><td>0    </td></tr>\n",
       "</tbody>\n",
       "</table>\n"
      ],
      "text/latex": [
       "\\begin{tabular}{r|llllllllllllll}\n",
       " ID & Age & Experience & Income & ZIP.Code & Family & CCAvg & Education & Mortgage & Personal.Loan & Securities.Account & CD.Account & Online & CreditCard\\\\\n",
       "\\hline\n",
       "\t 1     & 25    &  1    &  49   & 91107 & 4     & 1.6   & 1     &   0   & 0     & 1     & 0     & 0     & 0    \\\\\n",
       "\t 2     & 45    & 19    &  34   & 90089 & 3     & 1.5   & 1     &   0   & 0     & 1     & 0     & 0     & 0    \\\\\n",
       "\t 3     & 39    & 15    &  11   & 94720 & 1     & 1.0   & 1     &   0   & 0     & 0     & 0     & 0     & 0    \\\\\n",
       "\t 4     & 35    &  9    & 100   & 94112 & 1     & 2.7   & 2     &   0   & 0     & 0     & 0     & 0     & 0    \\\\\n",
       "\t 5     & 35    &  8    &  45   & 91330 & 4     & 1.0   & 2     &   0   & 0     & 0     & 0     & 0     & 1    \\\\\n",
       "\t 6     & 37    & 13    &  29   & 92121 & 4     & 0.4   & 2     & 155   & 0     & 0     & 0     & 1     & 0    \\\\\n",
       "\\end{tabular}\n"
      ],
      "text/markdown": [
       "\n",
       "ID | Age | Experience | Income | ZIP.Code | Family | CCAvg | Education | Mortgage | Personal.Loan | Securities.Account | CD.Account | Online | CreditCard | \n",
       "|---|---|---|---|---|---|\n",
       "| 1     | 25    |  1    |  49   | 91107 | 4     | 1.6   | 1     |   0   | 0     | 1     | 0     | 0     | 0     | \n",
       "| 2     | 45    | 19    |  34   | 90089 | 3     | 1.5   | 1     |   0   | 0     | 1     | 0     | 0     | 0     | \n",
       "| 3     | 39    | 15    |  11   | 94720 | 1     | 1.0   | 1     |   0   | 0     | 0     | 0     | 0     | 0     | \n",
       "| 4     | 35    |  9    | 100   | 94112 | 1     | 2.7   | 2     |   0   | 0     | 0     | 0     | 0     | 0     | \n",
       "| 5     | 35    |  8    |  45   | 91330 | 4     | 1.0   | 2     |   0   | 0     | 0     | 0     | 0     | 1     | \n",
       "| 6     | 37    | 13    |  29   | 92121 | 4     | 0.4   | 2     | 155   | 0     | 0     | 0     | 1     | 0     | \n",
       "\n",
       "\n"
      ],
      "text/plain": [
       "  ID Age Experience Income ZIP.Code Family CCAvg Education Mortgage\n",
       "1 1  25   1          49    91107    4      1.6   1           0     \n",
       "2 2  45  19          34    90089    3      1.5   1           0     \n",
       "3 3  39  15          11    94720    1      1.0   1           0     \n",
       "4 4  35   9         100    94112    1      2.7   2           0     \n",
       "5 5  35   8          45    91330    4      1.0   2           0     \n",
       "6 6  37  13          29    92121    4      0.4   2         155     \n",
       "  Personal.Loan Securities.Account CD.Account Online CreditCard\n",
       "1 0             1                  0          0      0         \n",
       "2 0             1                  0          0      0         \n",
       "3 0             0                  0          0      0         \n",
       "4 0             0                  0          0      0         \n",
       "5 0             0                  0          0      1         \n",
       "6 0             0                  0          1      0         "
      ]
     },
     "metadata": {},
     "output_type": "display_data"
    }
   ],
   "source": [
    "bank = read.csv('datasets/UniversalBank.csv')\n",
    "head(bank)"
   ]
  },
  {
   "cell_type": "code",
   "execution_count": null,
   "metadata": {
    "collapsed": false
   },
   "outputs": [],
   "source": []
  },
  {
   "cell_type": "code",
   "execution_count": null,
   "metadata": {
    "collapsed": false
   },
   "outputs": [],
   "source": []
  },
  {
   "cell_type": "code",
   "execution_count": null,
   "metadata": {
    "collapsed": false
   },
   "outputs": [],
   "source": []
  },
  {
   "cell_type": "code",
   "execution_count": null,
   "metadata": {
    "collapsed": false
   },
   "outputs": [],
   "source": []
  },
  {
   "cell_type": "markdown",
   "metadata": {},
   "source": [
    "## Drop unwanted column"
   ]
  },
  {
   "cell_type": "code",
   "execution_count": 2,
   "metadata": {
    "collapsed": false
   },
   "outputs": [],
   "source": [
    "drops <- c(\"ID\",\"ZIP.Code\",\"Mortgage\")\n",
    "bank <- bank[ , !(names(bank) %in% drops)]"
   ]
  },
  {
   "cell_type": "markdown",
   "metadata": {},
   "source": []
  },
  {
   "cell_type": "code",
   "execution_count": 3,
   "metadata": {
    "collapsed": false
   },
   "outputs": [
    {
     "name": "stdout",
     "output_type": "stream",
     "text": [
      "'data.frame':\t5000 obs. of  11 variables:\n",
      " $ Age               : int  25 45 39 35 35 37 53 50 35 34 ...\n",
      " $ Experience        : int  1 19 15 9 8 13 27 24 10 9 ...\n",
      " $ Income            : int  49 34 11 100 45 29 72 22 81 180 ...\n",
      " $ Family            : int  4 3 1 1 4 4 2 1 3 1 ...\n",
      " $ CCAvg             : num  1.6 1.5 1 2.7 1 0.4 1.5 0.3 0.6 8.9 ...\n",
      " $ Education         : int  1 1 1 2 2 2 2 3 2 3 ...\n",
      " $ Personal.Loan     : int  0 0 0 0 0 0 0 0 0 1 ...\n",
      " $ Securities.Account: int  1 1 0 0 0 0 0 0 0 0 ...\n",
      " $ CD.Account        : int  0 0 0 0 0 0 0 0 0 0 ...\n",
      " $ Online            : int  0 0 0 0 0 1 1 0 1 0 ...\n",
      " $ CreditCard        : int  0 0 0 0 1 0 0 1 0 0 ...\n"
     ]
    }
   ],
   "source": [
    "str(bank)"
   ]
  },
  {
   "cell_type": "code",
   "execution_count": 4,
   "metadata": {
    "collapsed": false
   },
   "outputs": [
    {
     "data": {
      "image/png": "[encoded data removed]",
      "text/plain": [
       "Plot with title “Histogram of bank$Age”"
      ]
     },
     "metadata": {},
     "output_type": "display_data"
    }
   ],
   "source": [
    "hist(bank$Age)"
   ]
  },
  {
   "cell_type": "code",
   "execution_count": 5,
   "metadata": {
    "collapsed": false
   },
   "outputs": [
    {
     "data": {
      "image/png": "[encoded data removed]",
      "text/plain": [
       "Plot with title “Histogram of bank$Experience”"
      ]
     },
     "metadata": {},
     "output_type": "display_data"
    }
   ],
   "source": [
    "hist(bank$Experience)"
   ]
  },
  {
   "cell_type": "code",
   "execution_count": 6,
   "metadata": {
    "collapsed": false
   },
   "outputs": [
    {
     "data": {
      "image/png": "[encoded data removed]",
      "text/plain": [
       "Plot with title “Histogram of bank$Age”"
      ]
     },
     "metadata": {},
     "output_type": "display_data"
    }
   ],
   "source": [
    "hist(bank$Age)\n"
   ]
  },
  {
   "cell_type": "markdown",
   "metadata": {},
   "source": [
    "## Convert continous variables into categorical variables by forming bins"
   ]
  },
  {
   "cell_type": "code",
   "execution_count": 7,
   "metadata": {
    "collapsed": false
   },
   "outputs": [],
   "source": [
    "bank$Age2 = ifelse(bank$Age <=18, '<18', ifelse((bank$Age>18 & bank$Age <=30),'18_30',ifelse((bank$Age>30 & bank$Age <=40),'30_40',ifelse((bank$Age>40 & bank$Age <=50),'40_50',ifelse((bank$Age>50 & bank$Age <=60),'50_60','>60')))))"
   ]
  },
  {
   "cell_type": "code",
   "execution_count": 8,
   "metadata": {
    "collapsed": false
   },
   "outputs": [
    {
     "data": {
      "text/plain": [
       "\n",
       "  >60 18_30 30_40 40_50 50_60 \n",
       "  547   624  1236  1270  1323 "
      ]
     },
     "metadata": {},
     "output_type": "display_data"
    }
   ],
   "source": [
    "table(bank$Age2)"
   ]
  },
  {
   "cell_type": "code",
   "execution_count": null,
   "metadata": {
    "collapsed": false
   },
   "outputs": [],
   "source": []
  },
  {
   "cell_type": "code",
   "execution_count": 9,
   "metadata": {
    "collapsed": false
   },
   "outputs": [],
   "source": [
    "bank$Experience2 = ifelse(bank$Experience <=1, '<1', ifelse((bank$Experience>1 & bank$Experience <=5),'1_5',ifelse((bank$Experience>5 & bank$Experience <=10),'5_10',ifelse((bank$Experience>10 & bank$Age <=15),'10_15',ifelse((bank$Experience>15 & bank$Experience <=20),'15_20',ifelse((bank$Experience>20 & bank$Experience <=30),'20_30','>30'))))))"
   ]
  },
  {
   "cell_type": "code",
   "execution_count": 10,
   "metadata": {
    "collapsed": false
   },
   "outputs": [
    {
     "data": {
      "text/plain": [
       "\n",
       "   <1   >30   1_5 15_20 20_30  5_10 \n",
       "  192  1738   473   672  1301   624 "
      ]
     },
     "metadata": {},
     "output_type": "display_data"
    }
   ],
   "source": [
    "table(bank$Experience2)"
   ]
  },
  {
   "cell_type": "code",
   "execution_count": 11,
   "metadata": {
    "collapsed": false
   },
   "outputs": [
    {
     "data": {
      "image/png": "[encoded data removed]",
      "text/plain": [
       "Plot with title “Histogram of bank$CCAvg”"
      ]
     },
     "metadata": {},
     "output_type": "display_data"
    }
   ],
   "source": [
    "hist(bank$CCAvg)"
   ]
  },
  {
   "cell_type": "code",
   "execution_count": 12,
   "metadata": {
    "collapsed": true
   },
   "outputs": [],
   "source": [
    "bank$CCAvg2 = ifelse(bank$CCAvg <=1, '<1', ifelse((bank$CCAvg>1 & bank$CCAvg <=2),'1_2',ifelse((bank$CCAvg>2 & bank$CCAvg <=3),'2_3',ifelse((bank$CCAvg>3 & bank$CCAvg <=4),'3_4',ifelse((bank$CCAvg>4 & bank$CCAvg <=6),'4_6',ifelse((bank$CCAvg>6 & bank$CCAvg <=10),'6_10','>10'))))))"
   ]
  },
  {
   "cell_type": "code",
   "execution_count": 13,
   "metadata": {
    "collapsed": false
   },
   "outputs": [
    {
     "data": {
      "text/plain": [
       "\n",
       "  <1  1_2  2_3  3_4  4_6 6_10 \n",
       "1914 1333  904  299  309  241 "
      ]
     },
     "metadata": {},
     "output_type": "display_data"
    }
   ],
   "source": [
    "table(bank$CCAvg2)"
   ]
  },
  {
   "cell_type": "markdown",
   "metadata": {},
   "source": [
    "### We can use quantile to convert items into bins"
   ]
  },
  {
   "cell_type": "code",
   "execution_count": 14,
   "metadata": {
    "collapsed": false
   },
   "outputs": [
    {
     "data": {
      "text/html": [
       "<strong>50%:</strong> 1.5"
      ],
      "text/latex": [
       "\\textbf{50\\textbackslash{}\\%:} 1.5"
      ],
      "text/markdown": [
       "**50%:** 1.5"
      ],
      "text/plain": [
       "50% \n",
       "1.5 "
      ]
     },
     "metadata": {},
     "output_type": "display_data"
    }
   ],
   "source": [
    "quantile(bank$CCAvg,0.5)"
   ]
  },
  {
   "cell_type": "code",
   "execution_count": 15,
   "metadata": {
    "collapsed": false
   },
   "outputs": [],
   "source": [
    "bank$CCAvg2 = ifelse(bank$CCAvg <=quantile(bank$CCAvg,0.25),'Low',\n",
    "                    ifelse(bank$CCAvg >=quantile(bank$CCAvg,0.75),'High', 'Med'\n",
    "                   ))\n"
   ]
  },
  {
   "cell_type": "code",
   "execution_count": 16,
   "metadata": {
    "collapsed": false
   },
   "outputs": [
    {
     "data": {
      "text/plain": [
       "\n",
       "High  Low  Med \n",
       "1355 1381 2264 "
      ]
     },
     "metadata": {},
     "output_type": "display_data"
    }
   ],
   "source": [
    "table(bank$CCAvg2)"
   ]
  },
  {
   "cell_type": "code",
   "execution_count": 17,
   "metadata": {
    "collapsed": false
   },
   "outputs": [
    {
     "data": {
      "text/html": [
       "<dl class=dl-horizontal>\n",
       "\t<dt>0%</dt>\n",
       "\t\t<dd>8</dd>\n",
       "\t<dt>25%</dt>\n",
       "\t\t<dd>39</dd>\n",
       "\t<dt>50%</dt>\n",
       "\t\t<dd>64</dd>\n",
       "\t<dt>75%</dt>\n",
       "\t\t<dd>98</dd>\n",
       "\t<dt>100%</dt>\n",
       "\t\t<dd>224</dd>\n",
       "</dl>\n"
      ],
      "text/latex": [
       "\\begin{description*}\n",
       "\\item[0\\textbackslash{}\\%] 8\n",
       "\\item[25\\textbackslash{}\\%] 39\n",
       "\\item[50\\textbackslash{}\\%] 64\n",
       "\\item[75\\textbackslash{}\\%] 98\n",
       "\\item[100\\textbackslash{}\\%] 224\n",
       "\\end{description*}\n"
      ],
      "text/markdown": [
       "0%\n",
       ":   825%\n",
       ":   3950%\n",
       ":   6475%\n",
       ":   98100%\n",
       ":   224\n",
       "\n"
      ],
      "text/plain": [
       "  0%  25%  50%  75% 100% \n",
       "   8   39   64   98  224 "
      ]
     },
     "metadata": {},
     "output_type": "display_data"
    }
   ],
   "source": [
    "quantile(bank$Income)"
   ]
  },
  {
   "cell_type": "code",
   "execution_count": 18,
   "metadata": {
    "collapsed": true
   },
   "outputs": [],
   "source": [
    "bank$Income2 = ifelse(bank$Income <=quantile(bank$Income,0.25),'L',\n",
    "                    ifelse(bank$Income>=quantile(bank$Income,0.75),'H', 'M'\n",
    "                   ))\n"
   ]
  },
  {
   "cell_type": "code",
   "execution_count": 19,
   "metadata": {
    "collapsed": false
   },
   "outputs": [
    {
     "data": {
      "text/plain": [
       "\n",
       "   H    L    M \n",
       "1274 1312 2414 "
      ]
     },
     "metadata": {},
     "output_type": "display_data"
    }
   ],
   "source": [
    "table(bank$Income2)"
   ]
  },
  {
   "cell_type": "code",
   "execution_count": 20,
   "metadata": {
    "collapsed": false
   },
   "outputs": [
    {
     "name": "stdout",
     "output_type": "stream",
     "text": [
      "'data.frame':\t5000 obs. of  15 variables:\n",
      " $ Age               : int  25 45 39 35 35 37 53 50 35 34 ...\n",
      " $ Experience        : int  1 19 15 9 8 13 27 24 10 9 ...\n",
      " $ Income            : int  49 34 11 100 45 29 72 22 81 180 ...\n",
      " $ Family            : int  4 3 1 1 4 4 2 1 3 1 ...\n",
      " $ CCAvg             : num  1.6 1.5 1 2.7 1 0.4 1.5 0.3 0.6 8.9 ...\n",
      " $ Education         : int  1 1 1 2 2 2 2 3 2 3 ...\n",
      " $ Personal.Loan     : int  0 0 0 0 0 0 0 0 0 1 ...\n",
      " $ Securities.Account: int  1 1 0 0 0 0 0 0 0 0 ...\n",
      " $ CD.Account        : int  0 0 0 0 0 0 0 0 0 0 ...\n",
      " $ Online            : int  0 0 0 0 0 1 1 0 1 0 ...\n",
      " $ CreditCard        : int  0 0 0 0 1 0 0 1 0 0 ...\n",
      " $ Age2              : chr  \"18_30\" \"40_50\" \"30_40\" \"30_40\" ...\n",
      " $ Experience2       : chr  \"<1\" \"15_20\" \">30\" \"5_10\" ...\n",
      " $ CCAvg2            : chr  \"Med\" \"Med\" \"Med\" \"High\" ...\n",
      " $ Income2           : chr  \"M\" \"L\" \"L\" \"H\" ...\n"
     ]
    }
   ],
   "source": [
    "str(bank)"
   ]
  },
  {
   "cell_type": "code",
   "execution_count": 21,
   "metadata": {
    "collapsed": true
   },
   "outputs": [],
   "source": [
    "drops <- c(\"Income\",\"Age\",\"Experience\",\"CCAvg\")\n",
    "bank <- bank[ , !(names(bank) %in% drops)]"
   ]
  },
  {
   "cell_type": "code",
   "execution_count": 22,
   "metadata": {
    "collapsed": false
   },
   "outputs": [
    {
     "name": "stdout",
     "output_type": "stream",
     "text": [
      "'data.frame':\t5000 obs. of  11 variables:\n",
      " $ Family            : int  4 3 1 1 4 4 2 1 3 1 ...\n",
      " $ Education         : int  1 1 1 2 2 2 2 3 2 3 ...\n",
      " $ Personal.Loan     : int  0 0 0 0 0 0 0 0 0 1 ...\n",
      " $ Securities.Account: int  1 1 0 0 0 0 0 0 0 0 ...\n",
      " $ CD.Account        : int  0 0 0 0 0 0 0 0 0 0 ...\n",
      " $ Online            : int  0 0 0 0 0 1 1 0 1 0 ...\n",
      " $ CreditCard        : int  0 0 0 0 1 0 0 1 0 0 ...\n",
      " $ Age2              : chr  \"18_30\" \"40_50\" \"30_40\" \"30_40\" ...\n",
      " $ Experience2       : chr  \"<1\" \"15_20\" \">30\" \"5_10\" ...\n",
      " $ CCAvg2            : chr  \"Med\" \"Med\" \"Med\" \"High\" ...\n",
      " $ Income2           : chr  \"M\" \"L\" \"L\" \"H\" ...\n"
     ]
    }
   ],
   "source": [
    "str(bank)"
   ]
  },
  {
   "cell_type": "code",
   "execution_count": 23,
   "metadata": {
    "collapsed": false
   },
   "outputs": [
    {
     "ename": "ERROR",
     "evalue": "Error in library(arules): there is no package called ‘arules’\n",
     "output_type": "error",
     "traceback": [
      "Error in library(arules): there is no package called ‘arules’\nTraceback:\n",
      "1. library(arules)",
      "2. stop(txt, domain = NA)"
     ]
    }
   ],
   "source": [
    "library(arules)\n"
   ]
  },
  {
   "cell_type": "code",
   "execution_count": null,
   "metadata": {
    "collapsed": true
   },
   "outputs": [],
   "source": []
  }
 ],
 "metadata": {
  "anaconda-cloud": {},
  "kernelspec": {
   "display_name": "R [conda env:tensorflow]",
   "language": "R",
   "name": "conda-env-tensorflow-r"
  },
  "language_info": {
   "codemirror_mode": "r",
   "file_extension": ".r",
   "mimetype": "text/x-r-source",
   "name": "R",
   "pygments_lexer": "r",
   "version": "3.3.2"
  },
  "toc": {
   "colors": {
    "hover_highlight": "#DAA520",
    "navigate_num": "#000000",
    "navigate_text": "#333333",
    "running_highlight": "#FF0000",
    "selected_highlight": "#FFD700",
    "sidebar_border": "#EEEEEE",
    "wrapper_background": "#FFFFFF"
   },
   "moveMenuLeft": true,
   "nav_menu": {
    "height": "63px",
    "width": "252px"
   },
   "navigate_menu": true,
   "number_sections": true,
   "sideBar": true,
   "threshold": 4,
   "toc_cell": false,
   "toc_section_display": "block",
   "toc_window_display": false,
   "widenNotebook": false
  }
 },
 "nbformat": 4,
 "nbformat_minor": 2
}
